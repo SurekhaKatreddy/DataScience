{
  "nbformat": 4,
  "nbformat_minor": 0,
  "metadata": {
    "colab": {
      "name": "MNIST_Digit_Recognition.ipynb",
      "provenance": [],
      "collapsed_sections": []
    },
    "kernelspec": {
      "name": "python3",
      "display_name": "Python 3"
    },
    "language_info": {
      "name": "python"
    }
  },
  "cells": [
    {
      "cell_type": "code",
      "source": [
        "#!pip install keras"
      ],
      "metadata": {
        "id": "asbVS_C_1-XW"
      },
      "execution_count": 21,
      "outputs": []
    },
    {
      "cell_type": "code",
      "execution_count": 22,
      "metadata": {
        "id": "JMc19ld71rvt"
      },
      "outputs": [],
      "source": [
        "\n",
        "from __future__ import print_function\n",
        "import keras\n",
        "from keras.datasets import mnist\n",
        "from keras.models import Sequential \n",
        "from keras.layers import Dense, Dropout \n",
        "from tensorflow.keras.optimizers import RMSprop\n",
        "import numpy as np\n",
        "import matplotlib.pyplot as plt #%matplotlib inline"
      ]
    },
    {
      "cell_type": "code",
      "source": [
        "# Load the data, shuffled and split between train and test sets\n",
        "(x_train, y_train), (x_test, y_test) = mnist.load_data()\n",
        "x_train[0].shape"
      ],
      "metadata": {
        "colab": {
          "base_uri": "https://localhost:8080/"
        },
        "id": "kAKX-dTQ2ngF",
        "outputId": "89e6be48-b429-48a5-9199-dfe6f6005bcf"
      },
      "execution_count": 23,
      "outputs": [
        {
          "output_type": "execute_result",
          "data": {
            "text/plain": [
              "(28, 28)"
            ]
          },
          "metadata": {},
          "execution_count": 23
        }
      ]
    },
    {
      "cell_type": "code",
      "source": [
        "#Let's just look at a particular example to see what is inside \n",
        "x_train[333]"
      ],
      "metadata": {
        "colab": {
          "base_uri": "https://localhost:8080/"
        },
        "id": "Lse5-kXe2yyy",
        "outputId": "25288250-6e1d-4302-9ed4-bc7ba609bb6c"
      },
      "execution_count": 24,
      "outputs": [
        {
          "output_type": "execute_result",
          "data": {
            "text/plain": [
              "array([[  0,   0,   0,   0,   0,   0,   0,   0,   0,   0,   0,   0,   0,\n",
              "          0,   0,   0,   0,   0,   0,   0,   0,   0,   0,   0,   0,   0,\n",
              "          0,   0],\n",
              "       [  0,   0,   0,   0,   0,   0,   0,   0,   0,   0,   0,   0,   0,\n",
              "          0,   0,   0,   0,   0,   0,   0,   0,   0,   0,   0,   0,   0,\n",
              "          0,   0],\n",
              "       [  0,   0,   0,   0,   0,   0,   0,   0,   0,   0,   0,   0,   0,\n",
              "          0,   0,   0,   0,   0,   0,   0,   0,   0,   0,   0,   0,   0,\n",
              "          0,   0],\n",
              "       [  0,   0,   0,   0,   0,   0,   0,   0,   0,   0,   0,   0,   0,\n",
              "          0,   0,   0,   0,   0,   0,   0,   0,   0,   0,   0,   0,   0,\n",
              "          0,   0],\n",
              "       [  0,   0,   0,   0,   0,   0,   0,   0,   0,   0,   0,   0,   0,\n",
              "          0,   0,   0,   0,   0,   0,   0,   0,   0,   0,   0,   0,   0,\n",
              "          0,   0],\n",
              "       [  0,   0,   0,   0,   0,   0,   0,   0,   0,   0,   0,  87, 138,\n",
              "        170, 253, 201, 244, 212, 222, 138,  86,  22,   0,   0,   0,   0,\n",
              "          0,   0],\n",
              "       [  0,   0,   0,   0,   0,   0,   0,   0,   0,   0,  95, 253, 252,\n",
              "        252, 252, 252, 253, 252, 252, 252, 252, 245,  80,   0,   0,   0,\n",
              "          0,   0],\n",
              "       [  0,   0,   0,   0,   0,   0,   0,   0,   0,  68, 246, 205,  69,\n",
              "         69,  69,  69,  69,  69,  69,  69, 205, 253, 240,  50,   0,   0,\n",
              "          0,   0],\n",
              "       [  0,   0,   0,   0,   0,   0,   0,   0,   0, 187, 252, 218,  34,\n",
              "          0,   0,   0,   0,   0,   0,   0, 116, 253, 252,  69,   0,   0,\n",
              "          0,   0],\n",
              "       [  0,   0,   0,   0,   0,   0,   0,   0, 116, 248, 252, 253,  92,\n",
              "          0,   0,   0,   0,   0,   0,  95, 230, 253, 157,   6,   0,   0,\n",
              "          0,   0],\n",
              "       [  0,   0,   0,   0,   0,   0,   0,   0, 116, 249, 253, 189,  42,\n",
              "          0,   0,   0,   0,  36, 170, 253, 243, 158,   0,   0,   0,   0,\n",
              "          0,   0],\n",
              "       [  0,   0,   0,   0,   0,   0,   0,   0,   0, 133, 252, 245, 140,\n",
              "         34,   0,   0,  57, 219, 252, 235,  60,   0,   0,   0,   0,   0,\n",
              "          0,   0],\n",
              "       [  0,   0,   0,   0,   0,   0,   0,   0,   0,  25, 205, 253, 252,\n",
              "        234, 184, 184, 253, 240, 100,  44,   0,   0,   0,   0,   0,   0,\n",
              "          0,   0],\n",
              "       [  0,   0,   0,   0,   0,   0,   0,   0,   0,   0,  21, 161, 219,\n",
              "        252, 252, 252, 234,  37,   0,   0,   0,   0,   0,   0,   0,   0,\n",
              "          0,   0],\n",
              "       [  0,   0,   0,   0,   0,   0,   0,   0,   0,   0,   0,  11, 203,\n",
              "        252, 252, 252, 251, 135,   0,   0,   0,   0,   0,   0,   0,   0,\n",
              "          0,   0],\n",
              "       [  0,   0,   0,   0,   0,   0,   0,   0,   0,   9,  76, 255, 253,\n",
              "        205, 168, 220, 255, 253, 137,   5,   0,   0,   0,   0,   0,   0,\n",
              "          0,   0],\n",
              "       [  0,   0,   0,   0,   0,   0,   0,   0,   0, 114, 252, 249, 132,\n",
              "         25,   0,   0, 180, 252, 252,  45,   0,   0,   0,   0,   0,   0,\n",
              "          0,   0],\n",
              "       [  0,   0,   0,   0,   0,   0,   0,   0,  51, 220, 252, 199,   0,\n",
              "          0,   0,   0,  38, 186, 252, 154,   7,   0,   0,   0,   0,   0,\n",
              "          0,   0],\n",
              "       [  0,   0,   0,   0,   0,   0,   0,   0, 184, 252, 252,  21,   0,\n",
              "          0,   0,   0,   0,  67, 252, 252,  22,   0,   0,   0,   0,   0,\n",
              "          0,   0],\n",
              "       [  0,   0,   0,   0,   0,   0,   0,   0, 184, 252, 200,   0,   0,\n",
              "          0,   0,   0,   0,  47, 252, 252,  22,   0,   0,   0,   0,   0,\n",
              "          0,   0],\n",
              "       [  0,   0,   0,   0,   0,   0,   0,   0, 185, 253, 201,   0,   0,\n",
              "          0,   0,   0,   3, 118, 253, 245,  21,   0,   0,   0,   0,   0,\n",
              "          0,   0],\n",
              "       [  0,   0,   0,   0,   0,   0,   0,   0, 163, 252, 252,   0,   0,\n",
              "          0,   0,   0,  97, 252, 252,  87,   0,   0,   0,   0,   0,   0,\n",
              "          0,   0],\n",
              "       [  0,   0,   0,   0,   0,   0,   0,   0,  51, 240, 252, 123,  70,\n",
              "         70, 112, 184, 222, 252, 170,  13,   0,   0,   0,   0,   0,   0,\n",
              "          0,   0],\n",
              "       [  0,   0,   0,   0,   0,   0,   0,   0,   0, 165, 252, 253, 252,\n",
              "        252, 252, 252, 245, 139,  13,   0,   0,   0,   0,   0,   0,   0,\n",
              "          0,   0],\n",
              "       [  0,   0,   0,   0,   0,   0,   0,   0,   0,   9,  75, 253, 252,\n",
              "        221, 137, 137,  21,   0,   0,   0,   0,   0,   0,   0,   0,   0,\n",
              "          0,   0],\n",
              "       [  0,   0,   0,   0,   0,   0,   0,   0,   0,   0,   0,   0,   0,\n",
              "          0,   0,   0,   0,   0,   0,   0,   0,   0,   0,   0,   0,   0,\n",
              "          0,   0],\n",
              "       [  0,   0,   0,   0,   0,   0,   0,   0,   0,   0,   0,   0,   0,\n",
              "          0,   0,   0,   0,   0,   0,   0,   0,   0,   0,   0,   0,   0,\n",
              "          0,   0],\n",
              "       [  0,   0,   0,   0,   0,   0,   0,   0,   0,   0,   0,   0,   0,\n",
              "          0,   0,   0,   0,   0,   0,   0,   0,   0,   0,   0,   0,   0,\n",
              "          0,   0]], dtype=uint8)"
            ]
          },
          "metadata": {},
          "execution_count": 24
        }
      ]
    },
    {
      "cell_type": "code",
      "source": [
        "# Let's see what this image actually looks like\n",
        "plt.imshow(x_train[333], cmap='Greys_r')"
      ],
      "metadata": {
        "colab": {
          "base_uri": "https://localhost:8080/",
          "height": 283
        },
        "id": "bF8i5nAs2_j4",
        "outputId": "292152dd-df5e-4c39-b791-5699b60602d4"
      },
      "execution_count": 25,
      "outputs": [
        {
          "output_type": "execute_result",
          "data": {
            "text/plain": [
              "<matplotlib.image.AxesImage at 0x7fcdcb68fb10>"
            ]
          },
          "metadata": {},
          "execution_count": 25
        },
        {
          "output_type": "display_data",
          "data": {
            "text/plain": [
              "<Figure size 432x288 with 1 Axes>"
            ],
            "image/png": "[encoded data removed]"
          },
          "metadata": {
            "needs_background": "light"
          }
        }
      ]
    },
    {
      "cell_type": "code",
      "source": [
        "# this is the shape of the np.array x_train # it is 3 dimensional.\n",
        "print(x_train.shape, 'train samples') \n",
        "print(x_test.shape, 'test samples')\n"
      ],
      "metadata": {
        "colab": {
          "base_uri": "https://localhost:8080/"
        },
        "id": "73HCNdfC3kDP",
        "outputId": "56ac32af-f139-4b92-9d08-9a388276db3d"
      },
      "execution_count": 26,
      "outputs": [
        {
          "output_type": "stream",
          "name": "stdout",
          "text": [
            "(60000, 28, 28) train samples\n",
            "(10000, 28, 28) test samples\n"
          ]
        }
      ]
    },
    {
      "cell_type": "code",
      "source": [
        "## For our purposes, these images are just a vector of 784 inputs, so let's convert\n",
        "x_train = x_train.reshape(len(x_train), 28*28) \n",
        "x_test = x_test.reshape(len(x_test), 28*28)\n",
        "## Keras works with floats, so we must cast the numbers to floats\n",
        "x_train = x_train.astype('float32') \n",
        "x_test = x_test.astype('float32')\n",
        "## Normalize the inputs so they are between 0 and 1\n",
        "x_train /= 255 \n",
        "x_test /= 255\n",
        "# convert class vectors to binary class matrices\n",
        "num_classes = 10\n"
      ],
      "metadata": {
        "id": "SDoBl9U232_c"
      },
      "execution_count": 27,
      "outputs": []
    },
    {
      "cell_type": "code",
      "source": [
        "#y_train = keras.utils.to_categorical(y_train, num_classes) \n",
        "y_train = keras.utils.np_utils.to_categorical(y_train, num_classes) \n",
        "#y_test = keras.utils.to_categorical(y_test, num_classes)\n",
        "y_test = keras.utils.np_utils.to_categorical(y_test, num_classes) \n",
        "y_train[333] # now the digit k is represented by a 1 in the kth entry (0-indexed) of t"
      ],
      "metadata": {
        "colab": {
          "base_uri": "https://localhost:8080/"
        },
        "id": "u_XBobEH4IBJ",
        "outputId": "828384a4-764b-4777-e944-799486556de1"
      },
      "execution_count": 28,
      "outputs": [
        {
          "output_type": "execute_result",
          "data": {
            "text/plain": [
              "array([0., 0., 0., 0., 0., 0., 0., 0., 1., 0.], dtype=float32)"
            ]
          },
          "metadata": {},
          "execution_count": 28
        }
      ]
    },
    {
      "cell_type": "code",
      "source": [
        "# We will build a model with two hidden layers of size 512 # Fully connected inputs at each layer\n",
        "# We will use dropout of .2 to help regularize\n",
        "model_1 = Sequential()\n",
        "model_1.add(Dense(64, activation='relu', input_shape=(784,))) \n",
        "model_1.add(Dropout(0.2))\n",
        "model_1.add(Dense(64, activation='relu')) \n",
        "model_1.add(Dropout(0.2))\n",
        "model_1.add(Dense(10, activation='softmax'))"
      ],
      "metadata": {
        "id": "kM5hf0Hw4wPF"
      },
      "execution_count": 29,
      "outputs": []
    },
    {
      "cell_type": "code",
      "source": [
        "## Note that this model has a LOT of parameters\n",
        "model_1.summary()"
      ],
      "metadata": {
        "colab": {
          "base_uri": "https://localhost:8080/"
        },
        "id": "Sj7_4ABP4Lne",
        "outputId": "58a64158-a946-46b3-deb8-f8733b8fa9d3"
      },
      "execution_count": 30,
      "outputs": [
        {
          "output_type": "stream",
          "name": "stdout",
          "text": [
            "Model: \"sequential_1\"\n",
            "_________________________________________________________________\n",
            " Layer (type)                Output Shape              Param #   \n",
            "=================================================================\n",
            " dense_3 (Dense)             (None, 64)                50240     \n",
            "                                                                 \n",
            " dropout_2 (Dropout)         (None, 64)                0         \n",
            "                                                                 \n",
            " dense_4 (Dense)             (None, 64)                4160      \n",
            "                                                                 \n",
            " dropout_3 (Dropout)         (None, 64)                0         \n",
            "                                                                 \n",
            " dense_5 (Dense)             (None, 10)                650       \n",
            "                                                                 \n",
            "=================================================================\n",
            "Total params: 55,050\n",
            "Trainable params: 55,050\n",
            "Non-trainable params: 0\n",
            "_________________________________________________________________\n"
          ]
        }
      ]
    },
    {
      "cell_type": "code",
      "source": [
        "# Let's compile the model\n",
        "learning_rate = .001 \n",
        "batch_size = 128 # mini-batch with 128 examples \n",
        "epochs = 30\n",
        "\n",
        "model_1.compile(loss='categorical_crossentropy',optimizer=RMSprop(lr=learning_rate),\n",
        "metrics=['accuracy'])\n",
        "# note that `categorical cross entropy` is the natural generalization\n",
        "# of the loss function we had in binary classification case, to multi class case"
      ],
      "metadata": {
        "colab": {
          "base_uri": "https://localhost:8080/"
        },
        "id": "aysBUoxf48Jg",
        "outputId": "4fa3365d-7503-40b3-cbac-7b7bef267b3a"
      },
      "execution_count": 31,
      "outputs": [
        {
          "output_type": "stream",
          "name": "stderr",
          "text": [
            "/usr/local/lib/python3.7/dist-packages/keras/optimizer_v2/rmsprop.py:130: UserWarning: The `lr` argument is deprecated, use `learning_rate` instead.\n",
            "  super(RMSprop, self).__init__(name, **kwargs)\n"
          ]
        }
      ]
    },
    {
      "cell_type": "code",
      "source": [
        "# And now let's fit.\n",
        "history = model_1.fit(x_train, y_train, batch_size=batch_size, epochs=epochs, verbose=1, validation_data=(x_test, y_test))"
      ],
      "metadata": {
        "colab": {
          "base_uri": "https://localhost:8080/"
        },
        "id": "mpVPXgbo5Hk3",
        "outputId": "f4aa0d66-f2bb-46ba-df19-fed274c58f2f"
      },
      "execution_count": 32,
      "outputs": [
        {
          "output_type": "stream",
          "name": "stdout",
          "text": [
            "Epoch 1/30\n",
            "469/469 [==============================] - 3s 5ms/step - loss: 0.5084 - accuracy: 0.8497 - val_loss: 0.1998 - val_accuracy: 0.9417\n",
            "Epoch 2/30\n",
            "469/469 [==============================] - 2s 4ms/step - loss: 0.2424 - accuracy: 0.9298 - val_loss: 0.1470 - val_accuracy: 0.9569\n",
            "Epoch 3/30\n",
            "469/469 [==============================] - 2s 4ms/step - loss: 0.1927 - accuracy: 0.9442 - val_loss: 0.1257 - val_accuracy: 0.9619\n",
            "Epoch 4/30\n",
            "469/469 [==============================] - 3s 7ms/step - loss: 0.1683 - accuracy: 0.9502 - val_loss: 0.1195 - val_accuracy: 0.9639\n",
            "Epoch 5/30\n",
            "469/469 [==============================] - 3s 6ms/step - loss: 0.1477 - accuracy: 0.9567 - val_loss: 0.1066 - val_accuracy: 0.9704\n",
            "Epoch 6/30\n",
            "469/469 [==============================] - 2s 4ms/step - loss: 0.1374 - accuracy: 0.9599 - val_loss: 0.1013 - val_accuracy: 0.9711\n",
            "Epoch 7/30\n",
            "469/469 [==============================] - 2s 4ms/step - loss: 0.1308 - accuracy: 0.9622 - val_loss: 0.0968 - val_accuracy: 0.9718\n",
            "Epoch 8/30\n",
            "469/469 [==============================] - 2s 4ms/step - loss: 0.1205 - accuracy: 0.9646 - val_loss: 0.0903 - val_accuracy: 0.9755\n",
            "Epoch 9/30\n",
            "469/469 [==============================] - 2s 4ms/step - loss: 0.1160 - accuracy: 0.9653 - val_loss: 0.1033 - val_accuracy: 0.9727\n",
            "Epoch 10/30\n",
            "469/469 [==============================] - 2s 5ms/step - loss: 0.1125 - accuracy: 0.9665 - val_loss: 0.0927 - val_accuracy: 0.9754\n",
            "Epoch 11/30\n",
            "469/469 [==============================] - 3s 7ms/step - loss: 0.1103 - accuracy: 0.9677 - val_loss: 0.0919 - val_accuracy: 0.9762\n",
            "Epoch 12/30\n",
            "469/469 [==============================] - 2s 5ms/step - loss: 0.1035 - accuracy: 0.9693 - val_loss: 0.0881 - val_accuracy: 0.9754\n",
            "Epoch 13/30\n",
            "469/469 [==============================] - 2s 5ms/step - loss: 0.1034 - accuracy: 0.9696 - val_loss: 0.0917 - val_accuracy: 0.9748\n",
            "Epoch 14/30\n",
            "469/469 [==============================] - 2s 5ms/step - loss: 0.0994 - accuracy: 0.9708 - val_loss: 0.0946 - val_accuracy: 0.9745\n",
            "Epoch 15/30\n",
            "469/469 [==============================] - 2s 5ms/step - loss: 0.0970 - accuracy: 0.9715 - val_loss: 0.0918 - val_accuracy: 0.9757\n",
            "Epoch 16/30\n",
            "469/469 [==============================] - 2s 5ms/step - loss: 0.0961 - accuracy: 0.9718 - val_loss: 0.0922 - val_accuracy: 0.9762\n",
            "Epoch 17/30\n",
            "469/469 [==============================] - 2s 5ms/step - loss: 0.0930 - accuracy: 0.9729 - val_loss: 0.0951 - val_accuracy: 0.9766\n",
            "Epoch 18/30\n",
            "469/469 [==============================] - 2s 5ms/step - loss: 0.0913 - accuracy: 0.9726 - val_loss: 0.0960 - val_accuracy: 0.9749\n",
            "Epoch 19/30\n",
            "469/469 [==============================] - 2s 4ms/step - loss: 0.0910 - accuracy: 0.9743 - val_loss: 0.0942 - val_accuracy: 0.9757\n",
            "Epoch 20/30\n",
            "469/469 [==============================] - 2s 5ms/step - loss: 0.0882 - accuracy: 0.9741 - val_loss: 0.1002 - val_accuracy: 0.9758\n",
            "Epoch 21/30\n",
            "469/469 [==============================] - 2s 4ms/step - loss: 0.0887 - accuracy: 0.9733 - val_loss: 0.1007 - val_accuracy: 0.9748\n",
            "Epoch 22/30\n",
            "469/469 [==============================] - 2s 4ms/step - loss: 0.0835 - accuracy: 0.9752 - val_loss: 0.1051 - val_accuracy: 0.9759\n",
            "Epoch 23/30\n",
            "469/469 [==============================] - 3s 6ms/step - loss: 0.0842 - accuracy: 0.9747 - val_loss: 0.1037 - val_accuracy: 0.9757\n",
            "Epoch 24/30\n",
            "469/469 [==============================] - 2s 4ms/step - loss: 0.0826 - accuracy: 0.9753 - val_loss: 0.1047 - val_accuracy: 0.9761\n",
            "Epoch 25/30\n",
            "469/469 [==============================] - 2s 5ms/step - loss: 0.0841 - accuracy: 0.9760 - val_loss: 0.1005 - val_accuracy: 0.9764\n",
            "Epoch 26/30\n",
            "469/469 [==============================] - 2s 5ms/step - loss: 0.0811 - accuracy: 0.9761 - val_loss: 0.1060 - val_accuracy: 0.9754\n",
            "Epoch 27/30\n",
            "469/469 [==============================] - 2s 5ms/step - loss: 0.0832 - accuracy: 0.9757 - val_loss: 0.1062 - val_accuracy: 0.9759\n",
            "Epoch 28/30\n",
            "469/469 [==============================] - 4s 8ms/step - loss: 0.0833 - accuracy: 0.9760 - val_loss: 0.1090 - val_accuracy: 0.9750\n",
            "Epoch 29/30\n",
            "469/469 [==============================] - 2s 5ms/step - loss: 0.0786 - accuracy: 0.9771 - val_loss: 0.1135 - val_accuracy: 0.9759\n",
            "Epoch 30/30\n",
            "469/469 [==============================] - 2s 5ms/step - loss: 0.0808 - accuracy: 0.9764 - val_loss: 0.1077 - val_accuracy: 0.9770\n"
          ]
        }
      ]
    },
    {
      "cell_type": "code",
      "source": [
        "score = model_1.evaluate(x_test, y_test, verbose=0) \n",
        "print('Test loss:', score[0])\n",
        "print('Test accuracy:', score[1])"
      ],
      "metadata": {
        "colab": {
          "base_uri": "https://localhost:8080/"
        },
        "id": "FQw6eidbAKxG",
        "outputId": "17f9a803-dc45-40a7-c8fa-e4f92f4e0005"
      },
      "execution_count": 33,
      "outputs": [
        {
          "output_type": "stream",
          "name": "stdout",
          "text": [
            "Test loss: 0.10770341753959656\n",
            "Test accuracy: 0.9769999980926514\n"
          ]
        }
      ]
    },
    {
      "cell_type": "code",
      "source": [
        "def plot_loss_accuracy(history):\n",
        "  fig = plt.figure(figsize=(12, 6))\n",
        "  ax = fig.add_subplot(1, 2, 1) \n",
        "  ax.plot(history.history[\"loss\"],'r-x', label=\"Train Loss\") \n",
        "  ax.plot(history.history[\"val_loss\"],'b-x', label=\"Validation Loss\") \n",
        "  ax.legend()\n",
        "  ax.set_title('cross_entropy loss')\n",
        "  ax.grid(True)\n",
        "  ax = fig.add_subplot(1, 2, 2)\n",
        "  ax.plot(history.history[\"accuracy\"],'r-x', label=\"Train Accuracy\") \n",
        "  ax.plot(history.history[\"val_accuracy\"],'b-x', label=\"Validation Accuracy\") \n",
        "  ax.legend()\n",
        "  ax.set_title('accuracy')\n",
        "  ax.grid(True)\n"
      ],
      "metadata": {
        "id": "JcngC-Id48mC"
      },
      "execution_count": 34,
      "outputs": []
    },
    {
      "cell_type": "code",
      "source": [
        "plot_loss_accuracy(history)"
      ],
      "metadata": {
        "colab": {
          "base_uri": "https://localhost:8080/",
          "height": 390
        },
        "id": "vgHu5zoOAh1Z",
        "outputId": "c5c86976-0e2a-43a4-b009-f15bd15e1b55"
      },
      "execution_count": 35,
      "outputs": [
        {
          "output_type": "display_data",
          "data": {
            "text/plain": [
              "<Figure size 864x432 with 2 Axes>"
            ],
            "image/png": "[encoded data removed]"
          },
          "metadata": {
            "needs_background": "light"
          }
        }
      ]
    }
  ]
}
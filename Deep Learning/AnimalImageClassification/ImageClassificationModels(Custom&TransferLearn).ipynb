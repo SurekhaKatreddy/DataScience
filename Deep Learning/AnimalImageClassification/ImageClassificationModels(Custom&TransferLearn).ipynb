{
  "cells": [
    {
      "cell_type": "markdown",
      "id": "abd6f6ed",
      "metadata": {
        "id": "abd6f6ed"
      },
      "source": [
        "Date: 13th February, 2022\n",
        "Author: Rama Surekha Katreddy\n",
        "Task: Implementing custom and Transfer learning on multi class image classification  "
      ]
    },
    {
      "cell_type": "code",
      "execution_count": null,
      "id": "af6e2fdc",
      "metadata": {
        "id": "af6e2fdc"
      },
      "outputs": [],
      "source": [
        "# import keras for modelling\n",
        "import tensorflow.keras\n",
        "from tensorflow.keras import layers, models, optimizers\n",
        "from tensorflow.keras.preprocessing import image\n",
        "from tensorflow.keras.preprocessing.image import ImageDataGenerator\n",
        "from tensorflow.keras.models import Sequential, save_model, load_model \n",
        "\n",
        "# os, shutil for file operations\n",
        "import os, shutil\n",
        "import matplotlib\n",
        "import matplotlib.pyplot as plt\n",
        "\n",
        "# import argparse for accepting\n",
        "import argparse\n",
        "\n",
        "# set seed\n",
        "import numpy as np\n",
        "np.random.seed(42)"
      ]
    },
    {
      "cell_type": "markdown",
      "id": "e5d498c4",
      "metadata": {
        "id": "e5d498c4"
      },
      "source": [
        "## Build a folder structure and segregate the images\n",
        "   train, test and validation images"
      ]
    },
    {
      "cell_type": "code",
      "execution_count": 21,
      "id": "78c63730",
      "metadata": {
        "colab": {
          "base_uri": "https://localhost:8080/"
        },
        "id": "78c63730",
        "outputId": "d73df537-b0f6-4daa-abd8-d3717266dc23"
      },
      "outputs": [
        {
          "output_type": "stream",
          "name": "stdout",
          "text": [
            "/content/drive/MyDrive/ColabNotebooks/ImageClassification/zoo_classifier\n",
            "/content/zoo_classifier(gen)\n"
          ]
        }
      ],
      "source": [
        "# directory for original data source\n",
        "# 3,000 images of 1,000 each: (cats, dogs, panda)\n",
        "#source:\n",
        "original_dataset_dir = os.path.join(os.getcwd() , \"zoo_classifier\")\n",
        "print(original_dataset_dir)\n",
        "\n",
        "#target:\n",
        "target_dir = os.path.join(os.getcwd() , \"zoo_classifier(gen)\")\n",
        "os.mkdir(target_dir)\n",
        "print(target_dir)"
      ]
    },
    {
      "cell_type": "code",
      "execution_count": 22,
      "id": "fdb059b3",
      "metadata": {
        "id": "fdb059b3"
      },
      "outputs": [],
      "source": [
        "###train####\n",
        "train_dir = os.path.join(target_dir, 'train')\n",
        "os.mkdir(train_dir)\n",
        "train_cats_dir = os.path.join(train_dir, 'cats')\n",
        "train_dogs_dir = os.path.join(train_dir, 'dogs')\n",
        "train_panda_dir = os.path.join(train_dir, 'panda')\n",
        "os.mkdir(train_cats_dir)\n",
        "os.mkdir(train_dogs_dir)\n",
        "os.mkdir(train_panda_dir)\n",
        "\n",
        "###validation####\n",
        "validation_dir = os.path.join(target_dir, 'validation')\n",
        "os.mkdir(validation_dir)\n",
        "validation_cats_dir = os.path.join(validation_dir, 'cats')\n",
        "validation_dogs_dir = os.path.join(validation_dir, 'dogs')\n",
        "validation_panda_dir = os.path.join(validation_dir, 'panda')\n",
        "os.mkdir(validation_cats_dir)\n",
        "os.mkdir(validation_dogs_dir)\n",
        "os.mkdir(validation_panda_dir)\n",
        "\n",
        "###test####\n",
        "test_dir = os.path.join(target_dir, 'test')\n",
        "os.mkdir(test_dir)\n",
        "test_cats_dir = os.path.join(test_dir, 'cats')\n",
        "test_dogs_dir = os.path.join(test_dir, 'dogs')\n",
        "test_panda_dir = os.path.join(test_dir, 'panda')\n",
        "os.mkdir(test_cats_dir)\n",
        "os.mkdir(test_dogs_dir)\n",
        "os.mkdir(test_panda_dir)"
      ]
    },
    {
      "cell_type": "code",
      "execution_count": 23,
      "id": "ff2b38cd",
      "metadata": {
        "colab": {
          "base_uri": "https://localhost:8080/"
        },
        "id": "ff2b38cd",
        "outputId": "722956c0-6791-420b-f1af-893b60f2afd4"
      },
      "outputs": [
        {
          "output_type": "stream",
          "name": "stdout",
          "text": [
            "total training cat images: 0\n",
            "total validation cat images: 0\n",
            "total test cat images: 0\n",
            "total training dog images: 0\n",
            "total validation dog images: 0\n",
            "total test dog images: 0\n",
            "total training pandas images: 0\n",
            "total validation pandas images: 0\n",
            "total test pandas images: 0\n"
          ]
        }
      ],
      "source": [
        "print('total training cat images:', len(os.listdir(train_cats_dir)))\n",
        "print('total validation cat images:', len(os.listdir(validation_cats_dir)))\n",
        "print('total test cat images:', len(os.listdir(test_cats_dir)))\n",
        "print('total training dog images:', len(os.listdir(train_dogs_dir)))\n",
        "print('total validation dog images:', len(os.listdir(train_dogs_dir)))\n",
        "print('total test dog images:', len(os.listdir(test_dogs_dir)))\n",
        "print('total training pandas images:', len(os.listdir(train_panda_dir)))\n",
        "print('total validation pandas images:', len(os.listdir(validation_panda_dir)))\n",
        "print('total test pandas images:', len(os.listdir(validation_panda_dir)))"
      ]
    },
    {
      "cell_type": "code",
      "execution_count": null,
      "id": "cf43352d",
      "metadata": {
        "id": "cf43352d"
      },
      "outputs": [],
      "source": [
        "# for my process, I have chosen:\n",
        "# training   70%\n",
        "# validation 15%\n",
        "# testing    15%\n",
        "\n",
        "# my source files all have the format (cats, dogs, panda)_ and then a 5-digit number\n",
        "# this number is padded up front with leading zeros\n",
        "# it also begins with 1, not 0\n",
        "# 'cats_{:05d}.jpg'.format(i) for i in range(1... , ...1001)]"
      ]
    },
    {
      "cell_type": "code",
      "execution_count": 24,
      "id": "a0e70e9b",
      "metadata": {
        "colab": {
          "base_uri": "https://localhost:8080/"
        },
        "id": "a0e70e9b",
        "outputId": "9ea80e33-74a4-41b3-a675-c7f175639e00"
      },
      "outputs": [
        {
          "output_type": "stream",
          "name": "stdout",
          "text": [
            "total training cats images: 700\n",
            "total validation cats images: 150\n",
            "total test cats images: 150\n"
          ]
        }
      ],
      "source": [
        "# Cats\n",
        "# Copy 700 cats to train_cats_dir\n",
        "fnames = ['cats_{:05d}.jpg'.format(i) for i in range(1,701)]\n",
        "for fname in fnames:\n",
        "    src = os.path.join(original_dataset_dir, \"cats\", fname)\n",
        "    dst = os.path.join(train_cats_dir, fname)\n",
        "    shutil.copyfile(src, dst)\n",
        "# Copy next 150 cats to validation_cats_dir\n",
        "fnames = ['cats_{:05d}.jpg'.format(i) for i in range(701,851)]\n",
        "for fname in fnames:\n",
        "    src = os.path.join(original_dataset_dir, \"cats\",fname)\n",
        "    dst = os.path.join(validation_cats_dir, fname)\n",
        "    shutil.copyfile(src, dst)\n",
        "# Copy next 150 cats to test_cats_dir\n",
        "fnames = ['cats_{:05d}.jpg'.format(i) for i in range(851,1001)]\n",
        "for fname in fnames:\n",
        "    src = os.path.join(original_dataset_dir,\"cats\", fname)\n",
        "    dst = os.path.join(test_cats_dir, fname)\n",
        "    shutil.copyfile(src, dst)\n",
        "\n",
        "# Verify the 700 150 150 split was successful\n",
        "print('total training cats images:', len(os.listdir(train_cats_dir)))\n",
        "print('total validation cats images:', len(os.listdir(validation_cats_dir)))\n",
        "print('total test cats images:', len(os.listdir(test_cats_dir)))\n"
      ]
    },
    {
      "cell_type": "code",
      "execution_count": null,
      "id": "17cd48a7",
      "metadata": {
        "id": "17cd48a7",
        "outputId": "ea9291bf-9e15-4b3c-94f0-735b7db517b1"
      },
      "outputs": [
        {
          "name": "stdout",
          "output_type": "stream",
          "text": [
            "total training dogs images: 700\n",
            "total validation dogs images: 150\n",
            "total test dogs images: 150\n"
          ]
        }
      ],
      "source": [
        "# Dogs\n",
        "# Copy 700 dogs to train_dogs_dir\n",
        "fnames = ['dogs_{:05d}.jpg'.format(i) for i in range(1,701)]\n",
        "for fname in fnames:\n",
        "    src = os.path.join(original_dataset_dir, \"dogs\", fname)\n",
        "    dst = os.path.join(train_dogs_dir, fname)\n",
        "    shutil.copyfile(src, dst)\n",
        "# Copy next 150 dogs to validation_dogs_dir\n",
        "fnames = ['dogs_{:05d}.jpg'.format(i) for i in range(701,851)]\n",
        "for fname in fnames:\n",
        "    src = os.path.join(original_dataset_dir, \"dogs\", fname)\n",
        "    dst = os.path.join(validation_dogs_dir, fname)\n",
        "    shutil.copyfile(src, dst)\n",
        "# Copy next 150 dogs to test_dogs_dir\n",
        "fnames = ['dogs_{:05d}.jpg'.format(i) for i in range(851,1001)]\n",
        "for fname in fnames:\n",
        "    src = os.path.join(original_dataset_dir, \"dogs\", fname)\n",
        "    dst = os.path.join(test_dogs_dir, fname)\n",
        "    shutil.copyfile(src, dst)\n",
        "\n",
        "# Verify the 700 150 150 split was successful\n",
        "print('total training dogs images:', len(os.listdir(train_dogs_dir)))\n",
        "print('total validation dogs images:', len(os.listdir(validation_dogs_dir)))\n",
        "print('total test dogs images:', len(os.listdir(test_dogs_dir)))"
      ]
    },
    {
      "cell_type": "code",
      "execution_count": null,
      "id": "c74db9d9",
      "metadata": {
        "id": "c74db9d9",
        "outputId": "36bb8fdf-1c57-4da2-81cf-b5b216e68c02"
      },
      "outputs": [
        {
          "name": "stdout",
          "output_type": "stream",
          "text": [
            "total training panda images: 700\n",
            "total validation panda images: 150\n",
            "total test panda images: 150\n"
          ]
        }
      ],
      "source": [
        "# panda\n",
        "# Copy 700 panda to train_panda_dir\n",
        "fnames = ['panda_{:05d}.jpg'.format(i) for i in range(1,701)]\n",
        "for fname in fnames:\n",
        "    src = os.path.join(original_dataset_dir, \"panda\", fname)\n",
        "    dst = os.path.join(train_panda_dir, fname)\n",
        "    shutil.copyfile(src, dst)\n",
        "# Copy next 150 panda to validation_panda_dir\n",
        "fnames = ['panda_{:05d}.jpg'.format(i) for i in range(701,851)]\n",
        "for fname in fnames:\n",
        "    src = os.path.join(original_dataset_dir, \"panda\", fname)\n",
        "    dst = os.path.join(validation_panda_dir, fname)\n",
        "    shutil.copyfile(src, dst)\n",
        "# Copy next 150 panda to test_panda_dir\n",
        "fnames = ['panda_{:05d}.jpg'.format(i) for i in range(851,1001)]\n",
        "for fname in fnames:\n",
        "    src = os.path.join(original_dataset_dir, \"panda\", fname)\n",
        "    dst = os.path.join(test_panda_dir, fname)\n",
        "    shutil.copyfile(src, dst)\n",
        "\n",
        "# Verify the 700 150 150 split was successful\n",
        "print('total training panda images:', len(os.listdir(train_panda_dir)))\n",
        "print('total validation panda images:', len(os.listdir(validation_panda_dir)))\n",
        "print('total test panda images:', len(os.listdir(test_panda_dir)))"
      ]
    },
    {
      "cell_type": "markdown",
      "id": "afd39ecc",
      "metadata": {
        "id": "afd39ecc"
      },
      "source": [
        "## Building CNN network\n",
        "CNN network comprises of alternate Conv2D and MaxPooling2D layers\n",
        "The number of inputs and outputs depends on our database while the number of layers in between are configurable.\n",
        "Activation function : softmax as we are solving the multi class classification problem.\n",
        "1. stack of alternated Conv2D (with relu activation) and MaxPooling2D layers\n",
        "2. Flatten layer\n",
        "3. Dense layer (with relu activation)\n",
        "4. Dropout layer to reduce overfitting\n",
        "5. Dense layer (with softmax activation)\n",
        "6. Output layer with 3 nodes because we have 3 categories"
      ]
    },
    {
      "cell_type": "code",
      "execution_count": null,
      "id": "e1fbaa40",
      "metadata": {
        "id": "e1fbaa40",
        "outputId": "6c6870b0-2278-46df-b5f5-c692ebffc7c2"
      },
      "outputs": [
        {
          "name": "stderr",
          "output_type": "stream",
          "text": [
            "2022-04-18 17:55:42.514799: I tensorflow/core/platform/cpu_feature_guard.cc:145] This TensorFlow binary is optimized with Intel(R) MKL-DNN to use the following CPU instructions in performance critical operations:  SSE4.1 SSE4.2\n",
            "To enable them in non-MKL-DNN operations, rebuild TensorFlow with the appropriate compiler flags.\n",
            "2022-04-18 17:55:42.516654: I tensorflow/core/common_runtime/process_util.cc:115] Creating new thread pool with default inter op setting: 8. Tune using inter_op_parallelism_threads for best performance.\n"
          ]
        }
      ],
      "source": [
        "from tensorflow.keras import layers\n",
        "from tensorflow.keras import models\n",
        "\n",
        "# building our convolutional neural network model\n",
        "model = models.Sequential()\n",
        "model.add(layers.Conv2D(32, (3, 3), activation='relu', input_shape=(150, 150, 3)))\n",
        "model.add(layers.MaxPooling2D((2, 2)))\n",
        "model.add(layers.Conv2D(64, (3, 3), activation='relu'))\n",
        "model.add(layers.MaxPooling2D((2, 2)))\n",
        "model.add(layers.Conv2D(128, (3, 3), activation='relu'))\n",
        "model.add(layers.MaxPooling2D((2, 2)))\n",
        "model.add(layers.Conv2D(128, (3, 3), activation='relu'))\n",
        "model.add(layers.MaxPooling2D((2, 2)))\n",
        "model.add(layers.Flatten())\n",
        "model.add(layers.Dense(512, activation='relu'))\n",
        "model.add(layers.Dropout(0.2))\n",
        "model.add(layers.Dense(3, activation='softmax'))"
      ]
    },
    {
      "cell_type": "code",
      "execution_count": null,
      "id": "4420eafa",
      "metadata": {
        "id": "4420eafa"
      },
      "outputs": [],
      "source": [
        "# use adam optimizer to compile\n",
        "# with categorical crossentropy as our loss\n",
        "model.compile(loss='categorical_crossentropy',\n",
        "              optimizer='adam',\n",
        "              metrics=['accuracy'])"
      ]
    },
    {
      "cell_type": "code",
      "execution_count": null,
      "id": "9a01ff5b",
      "metadata": {
        "id": "9a01ff5b",
        "outputId": "25be5d28-3153-4ee4-911a-85563458aed0"
      },
      "outputs": [
        {
          "name": "stdout",
          "output_type": "stream",
          "text": [
            "Model: \"sequential\"\n",
            "_________________________________________________________________\n",
            "Layer (type)                 Output Shape              Param #   \n",
            "=================================================================\n",
            "conv2d (Conv2D)              (None, 148, 148, 32)      896       \n",
            "_________________________________________________________________\n",
            "max_pooling2d (MaxPooling2D) (None, 74, 74, 32)        0         \n",
            "_________________________________________________________________\n",
            "conv2d_1 (Conv2D)            (None, 72, 72, 64)        18496     \n",
            "_________________________________________________________________\n",
            "max_pooling2d_1 (MaxPooling2 (None, 36, 36, 64)        0         \n",
            "_________________________________________________________________\n",
            "conv2d_2 (Conv2D)            (None, 34, 34, 128)       73856     \n",
            "_________________________________________________________________\n",
            "max_pooling2d_2 (MaxPooling2 (None, 17, 17, 128)       0         \n",
            "_________________________________________________________________\n",
            "conv2d_3 (Conv2D)            (None, 15, 15, 128)       147584    \n",
            "_________________________________________________________________\n",
            "max_pooling2d_3 (MaxPooling2 (None, 7, 7, 128)         0         \n",
            "_________________________________________________________________\n",
            "flatten (Flatten)            (None, 6272)              0         \n",
            "_________________________________________________________________\n",
            "dense (Dense)                (None, 512)               3211776   \n",
            "_________________________________________________________________\n",
            "dropout (Dropout)            (None, 512)               0         \n",
            "_________________________________________________________________\n",
            "dense_1 (Dense)              (None, 3)                 1539      \n",
            "=================================================================\n",
            "Total params: 3,454,147\n",
            "Trainable params: 3,454,147\n",
            "Non-trainable params: 0\n",
            "_________________________________________________________________\n"
          ]
        }
      ],
      "source": [
        "# view a summary of the model\n",
        "model.summary()"
      ]
    },
    {
      "cell_type": "markdown",
      "id": "5ccabfca",
      "metadata": {
        "id": "5ccabfca"
      },
      "source": [
        "## Data Augumentation"
      ]
    },
    {
      "cell_type": "markdown",
      "id": "5b77cdbf",
      "metadata": {
        "id": "5b77cdbf"
      },
      "source": [
        "We are now going to introduce a new one, specific to computer vision, and used almost universally when processing images with deep learning models: data augmentation."
      ]
    },
    {
      "cell_type": "code",
      "execution_count": null,
      "id": "035cc0e6",
      "metadata": {
        "id": "035cc0e6",
        "outputId": "4fac080f-d667-41dc-d99a-fbd5522f3e7b"
      },
      "outputs": [
        {
          "name": "stdout",
          "output_type": "stream",
          "text": [
            "Found 2100 images belonging to 3 classes.\n",
            "Found 450 images belonging to 3 classes.\n"
          ]
        }
      ],
      "source": [
        "# train the network using data augmentation\n",
        "train_datagen = ImageDataGenerator(\n",
        "    rescale=1./255,\n",
        "    rotation_range=40,\n",
        "    width_shift_range=0.2,\n",
        "    height_shift_range=0.2,\n",
        "    shear_range=0.2,\n",
        "    zoom_range=0.2,\n",
        "    horizontal_flip=True,)\n",
        "# test datagen resizes only\n",
        "test_datagen = ImageDataGenerator(rescale=1./255)\n",
        "\n",
        "# use flow_from_directory\n",
        "# train and validation generators with batch size 50, class mode categorical\n",
        "# keep resize at 150x150 and add shuffle\n",
        "train_generator = train_datagen.flow_from_directory(\n",
        "        train_dir,\n",
        "        target_size=(150, 150),\n",
        "        batch_size=50,\n",
        "        class_mode='categorical',\n",
        "        shuffle=True)\n",
        "validation_generator = test_datagen.flow_from_directory(\n",
        "        validation_dir,\n",
        "        target_size=(150, 150),\n",
        "        batch_size=50,\n",
        "        class_mode='categorical',\n",
        "        shuffle=True)"
      ]
    },
    {
      "cell_type": "code",
      "execution_count": null,
      "id": "ea83d011",
      "metadata": {
        "id": "ea83d011",
        "outputId": "028fb2f3-aeee-40d7-c8d4-8733e93f913a"
      },
      "outputs": [
        {
          "name": "stdout",
          "output_type": "stream",
          "text": [
            "Epoch 1/20\n",
            "42/42 [==============================] - 172s 4s/step - loss: 0.9800 - accuracy: 0.4824 - val_loss: 0.9991 - val_accuracy: 0.5400\n",
            "Epoch 2/20\n",
            "42/42 [==============================] - 171s 4s/step - loss: 0.8320 - accuracy: 0.5614 - val_loss: 0.7602 - val_accuracy: 0.6156\n",
            "Epoch 3/20\n",
            "42/42 [==============================] - 166s 4s/step - loss: 0.8049 - accuracy: 0.5876 - val_loss: 0.7712 - val_accuracy: 0.6089\n",
            "Epoch 4/20\n",
            "42/42 [==============================] - 164s 4s/step - loss: 0.8037 - accuracy: 0.6024 - val_loss: 0.8958 - val_accuracy: 0.5600\n",
            "Epoch 5/20\n",
            "42/42 [==============================] - 183s 4s/step - loss: 0.7662 - accuracy: 0.6110 - val_loss: 0.6774 - val_accuracy: 0.6578\n",
            "Epoch 6/20\n",
            "42/42 [==============================] - 176s 4s/step - loss: 0.7325 - accuracy: 0.6410 - val_loss: 0.6507 - val_accuracy: 0.6489\n",
            "Epoch 7/20\n",
            "42/42 [==============================] - 152s 4s/step - loss: 0.7036 - accuracy: 0.6500 - val_loss: 0.5883 - val_accuracy: 0.6778\n",
            "Epoch 8/20\n",
            "42/42 [==============================] - 151s 4s/step - loss: 0.6885 - accuracy: 0.6676 - val_loss: 0.6952 - val_accuracy: 0.6533\n",
            "Epoch 9/20\n",
            "42/42 [==============================] - 149s 4s/step - loss: 0.6725 - accuracy: 0.6505 - val_loss: 0.7841 - val_accuracy: 0.6222\n",
            "Epoch 10/20\n",
            "42/42 [==============================] - 149s 4s/step - loss: 0.6534 - accuracy: 0.6852 - val_loss: 0.5856 - val_accuracy: 0.6911\n",
            "Epoch 11/20\n",
            "42/42 [==============================] - 150s 4s/step - loss: 0.6396 - accuracy: 0.6943 - val_loss: 0.6453 - val_accuracy: 0.6667\n",
            "Epoch 12/20\n",
            "42/42 [==============================] - 159s 4s/step - loss: 0.6348 - accuracy: 0.6843 - val_loss: 0.5717 - val_accuracy: 0.7133\n",
            "Epoch 13/20\n",
            "42/42 [==============================] - 162s 4s/step - loss: 0.6237 - accuracy: 0.6914 - val_loss: 0.6575 - val_accuracy: 0.6689\n",
            "Epoch 14/20\n",
            "42/42 [==============================] - 221s 5s/step - loss: 0.6096 - accuracy: 0.6995 - val_loss: 0.5298 - val_accuracy: 0.7089\n",
            "Epoch 15/20\n",
            "42/42 [==============================] - 216s 5s/step - loss: 0.5967 - accuracy: 0.6948 - val_loss: 0.5950 - val_accuracy: 0.6778\n",
            "Epoch 16/20\n",
            "42/42 [==============================] - 224s 5s/step - loss: 0.5628 - accuracy: 0.7262 - val_loss: 0.5891 - val_accuracy: 0.7044\n",
            "Epoch 17/20\n",
            "42/42 [==============================] - 378s 9s/step - loss: 0.5711 - accuracy: 0.7224 - val_loss: 0.4875 - val_accuracy: 0.7400\n",
            "Epoch 18/20\n",
            "42/42 [==============================] - 190s 5s/step - loss: 0.5545 - accuracy: 0.7319 - val_loss: 0.7215 - val_accuracy: 0.6756\n",
            "Epoch 19/20\n",
            "42/42 [==============================] - 168s 4s/step - loss: 0.5533 - accuracy: 0.7319 - val_loss: 0.5434 - val_accuracy: 0.7222\n",
            "Epoch 20/20\n",
            "42/42 [==============================] - 169s 4s/step - loss: 0.5546 - accuracy: 0.7310 - val_loss: 0.4655 - val_accuracy: 0.7622\n"
          ]
        }
      ],
      "source": [
        "# run fit generator with 10 epochs\n",
        "history = model.fit_generator(\n",
        "      train_generator,\n",
        "      epochs=20,\n",
        "      validation_data=validation_generator)"
      ]
    },
    {
      "cell_type": "code",
      "execution_count": null,
      "id": "a11ddc9a",
      "metadata": {
        "id": "a11ddc9a"
      },
      "outputs": [],
      "source": [
        "# save the model\n",
        "model.save('cats_dogs_panda.h5')"
      ]
    },
    {
      "cell_type": "code",
      "execution_count": null,
      "id": "c1871575",
      "metadata": {
        "id": "c1871575",
        "outputId": "1f7154c1-0c2b-40a2-dd6d-b8ea824ae19a"
      },
      "outputs": [
        {
          "data": {
            "image/png": "[encoded data removed]",
            "text/plain": [
              "<Figure size 432x288 with 1 Axes>"
            ]
          },
          "metadata": {
            "needs_background": "light"
          },
          "output_type": "display_data"
        },
        {
          "data": {
            "image/png": "[encoded data removed]",
            "text/plain": [
              "<Figure size 432x288 with 1 Axes>"
            ]
          },
          "metadata": {
            "needs_background": "light"
          },
          "output_type": "display_data"
        }
      ],
      "source": [
        "# plot model accuracy\n",
        "acc = history.history['accuracy']\n",
        "val_acc = history.history['val_accuracy']\n",
        "loss = history.history['loss']\n",
        "val_loss = history.history['val_loss']\n",
        "\n",
        "epochs = range(len(acc))\n",
        "\n",
        "plt.plot(epochs, acc, 'bo', label='Training acc')\n",
        "plt.plot(epochs, val_acc, 'b', label='Validation acc')\n",
        "plt.title('Training and validation accuracy')\n",
        "plt.legend()\n",
        "\n",
        "plt.figure()\n",
        "\n",
        "plt.plot(epochs, loss, 'bo', label='Training loss')\n",
        "plt.plot(epochs, val_loss, 'b', label='Validation loss')\n",
        "plt.title('Training and validation loss')\n",
        "plt.legend()\n",
        "\n",
        "plt.show()"
      ]
    },
    {
      "cell_type": "markdown",
      "id": "8d75c5fc",
      "metadata": {
        "id": "8d75c5fc"
      },
      "source": [
        "## Without augumentation"
      ]
    },
    {
      "cell_type": "code",
      "execution_count": null,
      "id": "1a531ba9",
      "metadata": {
        "id": "1a531ba9",
        "outputId": "884ae98f-e7cd-417f-cbb7-bc308e89a313"
      },
      "outputs": [
        {
          "name": "stdout",
          "output_type": "stream",
          "text": [
            "Found 2100 images belonging to 3 classes.\n",
            "Found 450 images belonging to 3 classes.\n"
          ]
        }
      ],
      "source": [
        "# train the network using data augmentation\n",
        "train_datagen = ImageDataGenerator(rescale=1./255)\n",
        "# test datagen resizes only\n",
        "test_datagen = ImageDataGenerator(rescale=1./255)\n",
        "\n",
        "# use flow_from_directory\n",
        "# train and validation generators with batch size 50, class mode categorical\n",
        "# keep resize at 150x150 and add shuffle\n",
        "train_generator = train_datagen.flow_from_directory(\n",
        "        train_dir,\n",
        "        target_size=(150, 150),\n",
        "        batch_size=50,\n",
        "        class_mode='categorical',\n",
        "        shuffle=True)\n",
        "validation_generator = test_datagen.flow_from_directory(\n",
        "        validation_dir,\n",
        "        target_size=(150, 150),\n",
        "        batch_size=50,\n",
        "        class_mode='categorical',\n",
        "        shuffle=True)"
      ]
    },
    {
      "cell_type": "code",
      "execution_count": null,
      "id": "d833344e",
      "metadata": {
        "id": "d833344e",
        "outputId": "0af199fd-1a28-4353-8c9d-2e652c421efe"
      },
      "outputs": [
        {
          "name": "stdout",
          "output_type": "stream",
          "text": [
            "Epoch 1/20\n",
            "42/42 [==============================] - 155s 4s/step - loss: 0.4837 - accuracy: 0.7767 - val_loss: 0.4705 - val_accuracy: 0.7533\n",
            "Epoch 2/20\n",
            "42/42 [==============================] - 156s 4s/step - loss: 0.4182 - accuracy: 0.8067 - val_loss: 0.4567 - val_accuracy: 0.7733\n",
            "Epoch 3/20\n",
            "42/42 [==============================] - 158s 4s/step - loss: 0.3640 - accuracy: 0.8324 - val_loss: 0.4521 - val_accuracy: 0.7822\n",
            "Epoch 4/20\n",
            "42/42 [==============================] - 155s 4s/step - loss: 0.3029 - accuracy: 0.8790 - val_loss: 0.4426 - val_accuracy: 0.7956\n",
            "Epoch 5/20\n",
            "42/42 [==============================] - 159s 4s/step - loss: 0.2533 - accuracy: 0.8938 - val_loss: 0.4928 - val_accuracy: 0.7711\n",
            "Epoch 6/20\n",
            "42/42 [==============================] - 155s 4s/step - loss: 0.1935 - accuracy: 0.9219 - val_loss: 0.6416 - val_accuracy: 0.7578\n",
            "Epoch 7/20\n",
            "42/42 [==============================] - 161s 4s/step - loss: 0.1469 - accuracy: 0.9400 - val_loss: 0.7147 - val_accuracy: 0.7800\n",
            "Epoch 8/20\n",
            "42/42 [==============================] - 160s 4s/step - loss: 0.1010 - accuracy: 0.9633 - val_loss: 0.8251 - val_accuracy: 0.7867\n",
            "Epoch 9/20\n",
            "42/42 [==============================] - 155s 4s/step - loss: 0.0943 - accuracy: 0.9681 - val_loss: 0.7815 - val_accuracy: 0.7822\n",
            "Epoch 10/20\n",
            "42/42 [==============================] - 150s 4s/step - loss: 0.0620 - accuracy: 0.9810 - val_loss: 1.2353 - val_accuracy: 0.7467\n",
            "Epoch 11/20\n",
            "42/42 [==============================] - 161s 4s/step - loss: 0.0589 - accuracy: 0.9819 - val_loss: 0.8580 - val_accuracy: 0.7956\n",
            "Epoch 12/20\n",
            "42/42 [==============================] - 176s 4s/step - loss: 0.0215 - accuracy: 0.9938 - val_loss: 0.9266 - val_accuracy: 0.8133\n",
            "Epoch 13/20\n",
            "42/42 [==============================] - 153s 4s/step - loss: 0.0145 - accuracy: 0.9957 - val_loss: 1.0690 - val_accuracy: 0.7933\n",
            "Epoch 14/20\n",
            "42/42 [==============================] - 148s 4s/step - loss: 0.0204 - accuracy: 0.9948 - val_loss: 1.1338 - val_accuracy: 0.8000\n",
            "Epoch 15/20\n",
            "42/42 [==============================] - 157s 4s/step - loss: 0.0230 - accuracy: 0.9924 - val_loss: 1.0749 - val_accuracy: 0.7711\n",
            "Epoch 16/20\n",
            "42/42 [==============================] - 161s 4s/step - loss: 0.0416 - accuracy: 0.9852 - val_loss: 0.9461 - val_accuracy: 0.7911\n",
            "Epoch 17/20\n",
            "42/42 [==============================] - 157s 4s/step - loss: 0.0484 - accuracy: 0.9862 - val_loss: 1.1411 - val_accuracy: 0.7422\n",
            "Epoch 18/20\n",
            "42/42 [==============================] - 157s 4s/step - loss: 0.1297 - accuracy: 0.9562 - val_loss: 0.9386 - val_accuracy: 0.7756\n",
            "Epoch 19/20\n",
            "42/42 [==============================] - 166s 4s/step - loss: 0.0565 - accuracy: 0.9852 - val_loss: 0.9211 - val_accuracy: 0.7689\n",
            "Epoch 20/20\n",
            "42/42 [==============================] - 149s 4s/step - loss: 0.0161 - accuracy: 0.9976 - val_loss: 1.0412 - val_accuracy: 0.7844\n"
          ]
        }
      ],
      "source": [
        "# run fit generator with 10 epochs\n",
        "history = model.fit_generator(\n",
        "      train_generator,\n",
        "      epochs=20,\n",
        "      validation_data=validation_generator)"
      ]
    },
    {
      "cell_type": "code",
      "execution_count": null,
      "id": "e825b5db",
      "metadata": {
        "id": "e825b5db"
      },
      "outputs": [],
      "source": [
        "# save the model\n",
        "model.save('cats_dogs_panda_no_augument.h5')"
      ]
    },
    {
      "cell_type": "markdown",
      "id": "c208ae80",
      "metadata": {
        "id": "c208ae80"
      },
      "source": [
        "Note: Upon experimenting with and wihtout augumentation, the results are comparable. Augumenting didnot seem to have improved the performance."
      ]
    },
    {
      "cell_type": "code",
      "execution_count": null,
      "id": "af51f9c1",
      "metadata": {
        "id": "af51f9c1",
        "outputId": "7d93de57-e31b-450f-d298-abf83f635f42"
      },
      "outputs": [
        {
          "data": {
            "image/png": "[encoded data removed]",
            "text/plain": [
              "<Figure size 432x288 with 1 Axes>"
            ]
          },
          "metadata": {
            "needs_background": "light"
          },
          "output_type": "display_data"
        },
        {
          "data": {
            "image/png": "[encoded data removed]",
            "text/plain": [
              "<Figure size 432x288 with 1 Axes>"
            ]
          },
          "metadata": {
            "needs_background": "light"
          },
          "output_type": "display_data"
        }
      ],
      "source": [
        "# plot model accuracy\n",
        "acc = history.history['accuracy']\n",
        "val_acc = history.history['val_accuracy']\n",
        "loss = history.history['loss']\n",
        "val_loss = history.history['val_loss']\n",
        "\n",
        "epochs = range(len(acc))\n",
        "\n",
        "plt.plot(epochs, acc, 'bo', label='Training acc')\n",
        "plt.plot(epochs, val_acc, 'b', label='Validation acc')\n",
        "plt.title('Training and validation accuracy')\n",
        "plt.legend()\n",
        "\n",
        "plt.figure()\n",
        "\n",
        "plt.plot(epochs, loss, 'bo', label='Training loss')\n",
        "plt.plot(epochs, val_loss, 'b', label='Validation loss')\n",
        "plt.title('Training and validation loss')\n",
        "plt.legend()\n",
        "\n",
        "plt.show()"
      ]
    },
    {
      "cell_type": "markdown",
      "id": "a453ea99",
      "metadata": {
        "id": "a453ea99"
      },
      "source": [
        "Although the performance is high without using augumentation, validation accuracy is much lower than train accuracy indicating overfitting.\n",
        "These plots are characteristic of overfitting. Our training accuracy increases linearly over time, until it reaches nearly 100%, while our validation accuracy stalls at 76-77%. Our validation loss reaches its minimum after only five epochs then stalls, while the training loss keeps decreasing linearly until it reaches nearly 0.\n",
        "Because we only have relatively few training samples (1000 each), overfitting is going to be our number one concern. Adding a dropout and weight decay (L2 regularization) could help solve the issue. \n",
        "\n",
        "Introducing penalty or regularization could help. Below are the different types of regularizers:\n",
        "kernel_regularizer: Regularizer to apply a penalty on the layer's kernel\n",
        "bias_regularizer: Regularizer to apply a penalty on the layer's bias\n",
        "activity_regularizer: Regularizer to apply a penalty on the layer's output"
      ]
    },
    {
      "cell_type": "code",
      "execution_count": null,
      "id": "c74c7e50",
      "metadata": {
        "id": "c74c7e50"
      },
      "outputs": [],
      "source": [
        "from tensorflow.keras import layers, models, regularizers\n",
        "# building our convolutional neural network model\n",
        "model = models.Sequential()\n",
        "model.add(layers.Conv2D(32, (3, 3), activation='relu', input_shape=(150, 150, 3)))\n",
        "model.add(layers.MaxPooling2D((2, 2)))\n",
        "model.add(layers.Conv2D(64, (3, 3), activation='relu'))\n",
        "model.add(layers.MaxPooling2D((2, 2)))\n",
        "model.add(layers.Conv2D(128, (3, 3), activation='relu'))\n",
        "model.add(layers.MaxPooling2D((2, 2)))\n",
        "model.add(layers.Conv2D(128, (3, 3), activation='relu'))\n",
        "model.add(layers.MaxPooling2D((2, 2)))\n",
        "model.add(layers.Flatten())\n",
        "model.add(layers.Dense(512, activation='relu',\n",
        "    kernel_regularizer=regularizers.l1_l2(l1=1e-5, l2=1e-4),\n",
        "    bias_regularizer=regularizers.l2(1e-4),\n",
        "    activity_regularizer=regularizers.l2(1e-5)))\n",
        "model.add(layers.Dropout(0.2))\n",
        "model.add(layers.Dense(3, activation='softmax'))"
      ]
    },
    {
      "cell_type": "code",
      "execution_count": null,
      "id": "b4fd2d45",
      "metadata": {
        "id": "b4fd2d45",
        "outputId": "70893437-9c1c-43de-fe6f-9d7a03df8367"
      },
      "outputs": [
        {
          "name": "stdout",
          "output_type": "stream",
          "text": [
            "Model: \"sequential_1\"\n",
            "_________________________________________________________________\n",
            "Layer (type)                 Output Shape              Param #   \n",
            "=================================================================\n",
            "conv2d_4 (Conv2D)            (None, 148, 148, 32)      896       \n",
            "_________________________________________________________________\n",
            "max_pooling2d_4 (MaxPooling2 (None, 74, 74, 32)        0         \n",
            "_________________________________________________________________\n",
            "conv2d_5 (Conv2D)            (None, 72, 72, 64)        18496     \n",
            "_________________________________________________________________\n",
            "max_pooling2d_5 (MaxPooling2 (None, 36, 36, 64)        0         \n",
            "_________________________________________________________________\n",
            "conv2d_6 (Conv2D)            (None, 34, 34, 128)       73856     \n",
            "_________________________________________________________________\n",
            "max_pooling2d_6 (MaxPooling2 (None, 17, 17, 128)       0         \n",
            "_________________________________________________________________\n",
            "conv2d_7 (Conv2D)            (None, 15, 15, 128)       147584    \n",
            "_________________________________________________________________\n",
            "max_pooling2d_7 (MaxPooling2 (None, 7, 7, 128)         0         \n",
            "_________________________________________________________________\n",
            "flatten_1 (Flatten)          (None, 6272)              0         \n",
            "_________________________________________________________________\n",
            "dense_2 (Dense)              (None, 512)               3211776   \n",
            "_________________________________________________________________\n",
            "dropout_1 (Dropout)          (None, 512)               0         \n",
            "_________________________________________________________________\n",
            "dense_3 (Dense)              (None, 3)                 1539      \n",
            "=================================================================\n",
            "Total params: 3,454,147\n",
            "Trainable params: 3,454,147\n",
            "Non-trainable params: 0\n",
            "_________________________________________________________________\n"
          ]
        }
      ],
      "source": [
        "model.compile(loss='categorical_crossentropy',\n",
        "              optimizer='adam',\n",
        "              metrics=['accuracy'])\n",
        "model.summary()"
      ]
    },
    {
      "cell_type": "code",
      "execution_count": null,
      "id": "117734d8",
      "metadata": {
        "id": "117734d8",
        "outputId": "94a9f98d-974f-491b-db3e-4fbc75a18507"
      },
      "outputs": [
        {
          "name": "stdout",
          "output_type": "stream",
          "text": [
            "Found 2100 images belonging to 3 classes.\n",
            "Found 450 images belonging to 3 classes.\n"
          ]
        }
      ],
      "source": [
        "# train the network using data augmentation\n",
        "train_datagen = ImageDataGenerator(rescale=1./255)\n",
        "# test datagen resizes only\n",
        "test_datagen = ImageDataGenerator(rescale=1./255)\n",
        "\n",
        "# use flow_from_directory\n",
        "# train and validation generators with batch size 50, class mode categorical\n",
        "# keep resize at 150x150 and add shuffle\n",
        "train_generator = train_datagen.flow_from_directory(\n",
        "        train_dir,\n",
        "        target_size=(150, 150),\n",
        "        batch_size=50,\n",
        "        class_mode='categorical',\n",
        "        shuffle=True)\n",
        "validation_generator = test_datagen.flow_from_directory(\n",
        "        validation_dir,\n",
        "        target_size=(150, 150),\n",
        "        batch_size=50,\n",
        "        class_mode='categorical',\n",
        "        shuffle=True)"
      ]
    },
    {
      "cell_type": "code",
      "execution_count": null,
      "id": "74f0338c",
      "metadata": {
        "id": "74f0338c",
        "outputId": "347427db-b0f6-4863-a285-52b1ba18299a"
      },
      "outputs": [
        {
          "name": "stdout",
          "output_type": "stream",
          "text": [
            "Epoch 1/20\n",
            "42/42 [==============================] - 225s 5s/step - loss: 1.3669 - accuracy: 0.4829 - val_loss: 1.0991 - val_accuracy: 0.5733\n",
            "Epoch 2/20\n",
            "42/42 [==============================] - 224s 5s/step - loss: 1.0073 - accuracy: 0.5943 - val_loss: 0.9291 - val_accuracy: 0.5756\n",
            "Epoch 3/20\n",
            "42/42 [==============================] - 222s 5s/step - loss: 0.8634 - accuracy: 0.6338 - val_loss: 0.8323 - val_accuracy: 0.6422\n",
            "Epoch 4/20\n",
            "42/42 [==============================] - 226s 5s/step - loss: 0.7635 - accuracy: 0.6648 - val_loss: 0.7999 - val_accuracy: 0.6133\n",
            "Epoch 5/20\n",
            "42/42 [==============================] - 236s 6s/step - loss: 0.7218 - accuracy: 0.6867 - val_loss: 0.6944 - val_accuracy: 0.6778\n",
            "Epoch 6/20\n",
            "42/42 [==============================] - 243s 6s/step - loss: 0.6600 - accuracy: 0.7281 - val_loss: 0.7300 - val_accuracy: 0.6667\n",
            "Epoch 7/20\n",
            "42/42 [==============================] - 209s 5s/step - loss: 0.6041 - accuracy: 0.7529 - val_loss: 0.6688 - val_accuracy: 0.7000\n",
            "Epoch 8/20\n",
            "42/42 [==============================] - 193s 5s/step - loss: 0.5843 - accuracy: 0.7581 - val_loss: 0.6475 - val_accuracy: 0.6911\n",
            "Epoch 9/20\n",
            "42/42 [==============================] - 188s 4s/step - loss: 0.5477 - accuracy: 0.7795 - val_loss: 0.6754 - val_accuracy: 0.6867\n",
            "Epoch 10/20\n",
            "42/42 [==============================] - 165s 4s/step - loss: 0.4962 - accuracy: 0.8057 - val_loss: 0.6652 - val_accuracy: 0.7178\n",
            "Epoch 11/20\n",
            "42/42 [==============================] - 167s 4s/step - loss: 0.4478 - accuracy: 0.8314 - val_loss: 0.6672 - val_accuracy: 0.7289\n",
            "Epoch 12/20\n",
            "42/42 [==============================] - 164s 4s/step - loss: 0.4291 - accuracy: 0.8505 - val_loss: 0.6792 - val_accuracy: 0.7333\n",
            "Epoch 13/20\n",
            "42/42 [==============================] - 164s 4s/step - loss: 0.3768 - accuracy: 0.8714 - val_loss: 0.7435 - val_accuracy: 0.7133\n",
            "Epoch 14/20\n",
            "42/42 [==============================] - 165s 4s/step - loss: 0.3891 - accuracy: 0.8781 - val_loss: 0.8167 - val_accuracy: 0.7022\n",
            "Epoch 15/20\n",
            "42/42 [==============================] - 177s 4s/step - loss: 0.3109 - accuracy: 0.9086 - val_loss: 0.8166 - val_accuracy: 0.7244\n",
            "Epoch 16/20\n",
            "42/42 [==============================] - 180s 4s/step - loss: 0.3044 - accuracy: 0.9148 - val_loss: 0.9290 - val_accuracy: 0.7111\n",
            "Epoch 17/20\n",
            "42/42 [==============================] - 177s 4s/step - loss: 0.2532 - accuracy: 0.9357 - val_loss: 0.9686 - val_accuracy: 0.7200\n",
            "Epoch 18/20\n",
            "42/42 [==============================] - 180s 4s/step - loss: 0.2503 - accuracy: 0.9395 - val_loss: 1.3328 - val_accuracy: 0.7067\n",
            "Epoch 19/20\n",
            "42/42 [==============================] - 175s 4s/step - loss: 0.2304 - accuracy: 0.9548 - val_loss: 1.2062 - val_accuracy: 0.7111\n",
            "Epoch 20/20\n",
            "42/42 [==============================] - 173s 4s/step - loss: 0.2193 - accuracy: 0.9610 - val_loss: 1.2060 - val_accuracy: 0.7356\n"
          ]
        }
      ],
      "source": [
        "# run fit generator with 10 epochs\n",
        "history = model.fit_generator(\n",
        "      train_generator,\n",
        "      epochs=20,\n",
        "      validation_data=validation_generator)"
      ]
    },
    {
      "cell_type": "code",
      "execution_count": null,
      "id": "0813204a",
      "metadata": {
        "id": "0813204a"
      },
      "outputs": [],
      "source": [
        "# save the model\n",
        "model.save('cats_dogs_panda_no_augument_reg.h5')"
      ]
    },
    {
      "cell_type": "code",
      "execution_count": null,
      "id": "38774249",
      "metadata": {
        "id": "38774249",
        "outputId": "43b17010-a33f-4bc4-812c-8f5ac536b2a1"
      },
      "outputs": [
        {
          "data": {
            "image/png": "[encoded data removed]",
            "text/plain": [
              "<Figure size 432x288 with 1 Axes>"
            ]
          },
          "metadata": {
            "needs_background": "light"
          },
          "output_type": "display_data"
        },
        {
          "data": {
            "image/png": "[encoded data removed]",
            "text/plain": [
              "<Figure size 432x288 with 1 Axes>"
            ]
          },
          "metadata": {
            "needs_background": "light"
          },
          "output_type": "display_data"
        }
      ],
      "source": [
        "# plot model accuracy\n",
        "acc = history.history['accuracy']\n",
        "val_acc = history.history['val_accuracy']\n",
        "loss = history.history['loss']\n",
        "val_loss = history.history['val_loss']\n",
        "\n",
        "epochs = range(len(acc))\n",
        "\n",
        "plt.plot(epochs, acc, 'bo', label='Training acc')\n",
        "plt.plot(epochs, val_acc, 'b', label='Validation acc')\n",
        "plt.title('Training and validation accuracy')\n",
        "plt.legend()\n",
        "\n",
        "plt.figure()\n",
        "\n",
        "plt.plot(epochs, loss, 'bo', label='Training loss')\n",
        "plt.plot(epochs, val_loss, 'b', label='Validation loss')\n",
        "plt.title('Training and validation loss')\n",
        "plt.legend()\n",
        "\n",
        "plt.show()"
      ]
    },
    {
      "cell_type": "markdown",
      "id": "ee924d7b",
      "metadata": {
        "id": "ee924d7b"
      },
      "source": [
        "It can be observed that performance is not the only metric. Though performances are comparable with and without augumentation, augumentation clearly seems to have generalized the problem and avoided overfitting. Nevethless, in the case scenario it might be good idea to opt for early stopping as the accuracy of training and test diverges at some point"
      ]
    },
    {
      "cell_type": "code",
      "execution_count": null,
      "id": "2a33e3be",
      "metadata": {
        "id": "2a33e3be"
      },
      "outputs": [],
      "source": [
        ""
      ]
    },
    {
      "cell_type": "markdown",
      "id": "c68b8831",
      "metadata": {
        "id": "c68b8831"
      },
      "source": [
        "## Transfer Learning with VGG16 \n",
        "use a state-of-the-art trained NN to solve your image classification problem. Transfer learning uilizes feature learning layers of a trained CNN to classify a different problem than the one it was created for.\n",
        "In other words, we use the patterns that the NN found to be useful to classify images of a given problem to classify a completely different problem without retraining that part of the network.\n",
        "\n",
        "![image.png](attachment:image.png)\n",
        "credits: https://towardsdatascience.com/transfer-learning-with-vgg16-and-keras-50ea161580b4\n",
        "\n",
        "Let us see how we can use VGG16 for transfer learning."
      ]
    },
    {
      "cell_type": "code",
      "execution_count": null,
      "id": "c2d77b47",
      "metadata": {
        "id": "c2d77b47"
      },
      "outputs": [],
      "source": [
        "from tensorflow.keras.applications.vgg16 import VGG16\n",
        "\n",
        "\n",
        "conv_base = VGG16(weights='imagenet',\n",
        "                  include_top=False,\n",
        "                  input_shape=(150, 150, 3))"
      ]
    },
    {
      "cell_type": "code",
      "execution_count": null,
      "id": "2d05538e",
      "metadata": {
        "id": "2d05538e",
        "outputId": "9ac0685d-296f-4733-b934-2e917d6cd261"
      },
      "outputs": [
        {
          "name": "stdout",
          "output_type": "stream",
          "text": [
            "Model: \"vgg16\"\n",
            "_________________________________________________________________\n",
            "Layer (type)                 Output Shape              Param #   \n",
            "=================================================================\n",
            "input_1 (InputLayer)         [(None, 150, 150, 3)]     0         \n",
            "_________________________________________________________________\n",
            "block1_conv1 (Conv2D)        (None, 150, 150, 64)      1792      \n",
            "_________________________________________________________________\n",
            "block1_conv2 (Conv2D)        (None, 150, 150, 64)      36928     \n",
            "_________________________________________________________________\n",
            "block1_pool (MaxPooling2D)   (None, 75, 75, 64)        0         \n",
            "_________________________________________________________________\n",
            "block2_conv1 (Conv2D)        (None, 75, 75, 128)       73856     \n",
            "_________________________________________________________________\n",
            "block2_conv2 (Conv2D)        (None, 75, 75, 128)       147584    \n",
            "_________________________________________________________________\n",
            "block2_pool (MaxPooling2D)   (None, 37, 37, 128)       0         \n",
            "_________________________________________________________________\n",
            "block3_conv1 (Conv2D)        (None, 37, 37, 256)       295168    \n",
            "_________________________________________________________________\n",
            "block3_conv2 (Conv2D)        (None, 37, 37, 256)       590080    \n",
            "_________________________________________________________________\n",
            "block3_conv3 (Conv2D)        (None, 37, 37, 256)       590080    \n",
            "_________________________________________________________________\n",
            "block3_pool (MaxPooling2D)   (None, 18, 18, 256)       0         \n",
            "_________________________________________________________________\n",
            "block4_conv1 (Conv2D)        (None, 18, 18, 512)       1180160   \n",
            "_________________________________________________________________\n",
            "block4_conv2 (Conv2D)        (None, 18, 18, 512)       2359808   \n",
            "_________________________________________________________________\n",
            "block4_conv3 (Conv2D)        (None, 18, 18, 512)       2359808   \n",
            "_________________________________________________________________\n",
            "block4_pool (MaxPooling2D)   (None, 9, 9, 512)         0         \n",
            "_________________________________________________________________\n",
            "block5_conv1 (Conv2D)        (None, 9, 9, 512)         2359808   \n",
            "_________________________________________________________________\n",
            "block5_conv2 (Conv2D)        (None, 9, 9, 512)         2359808   \n",
            "_________________________________________________________________\n",
            "block5_conv3 (Conv2D)        (None, 9, 9, 512)         2359808   \n",
            "_________________________________________________________________\n",
            "block5_pool (MaxPooling2D)   (None, 4, 4, 512)         0         \n",
            "=================================================================\n",
            "Total params: 14,714,688\n",
            "Trainable params: 14,714,688\n",
            "Non-trainable params: 0\n",
            "_________________________________________________________________\n"
          ]
        }
      ],
      "source": [
        "conv_base.summary()"
      ]
    },
    {
      "cell_type": "markdown",
      "id": "cc2737fd",
      "metadata": {
        "id": "cc2737fd"
      },
      "source": [
        "The final feature map has shape (4, 4, 512). That's the feature on top of which we will stick a densely-connected classifier.\n",
        "At this point, there are two ways we could proceed:\n",
        "Running the convolutional base over our dataset, recording its output to a Numpy array on disk, then using this data as input to a standalone densely-connected classifier similar to those you have seen in the first chapters of this book. This solution is very fast and cheap to run, because it only requires running the convolutional base once for every input image, and the convolutional base is by far the most expensive part of the pipeline. However, for the exact same reason, this technique would not allow us to leverage data augmentation at all.\n",
        "Extending the model we have (conv_base) by adding Dense layers on top, and running the whole thing end-to-end on the input data. This allows us to use data augmentation, because every input image is going through the convolutional base every time it is seen by the model. However, for this same reason, this technique is far more expensive than the first one.\n",
        "We will cover both techniques. Let's walk through the code required to set-up the first one: recording the output of conv_base on our data and using these outputs as inputs to a new model.\n",
        "We will start by simply running instances of the previously-introduced ImageDataGenerator to extract images as Numpy arrays as well as their labels. We will extract features from these images simply by calling the predict method of the conv_base model."
      ]
    },
    {
      "cell_type": "code",
      "execution_count": null,
      "id": "2c3bf19c",
      "metadata": {
        "id": "2c3bf19c",
        "outputId": "25ec196b-35a4-4c6d-8db1-103420310e2d"
      },
      "outputs": [
        {
          "name": "stdout",
          "output_type": "stream",
          "text": [
            "features:(2100, 4, 4, 512)\n",
            "labels:(2100, 3)\n",
            "extracting images from input directory:/Users/surekha/Downloads/DAAN 570/submissions/zoo_classifier(gen)/train\n",
            "Found 2100 images belonging to 3 classes.\n",
            "processing:\n",
            "features:(450, 4, 4, 512)\n",
            "labels:(450, 3)\n",
            "extracting images from input directory:/Users/surekha/Downloads/DAAN 570/submissions/zoo_classifier(gen)/validation\n",
            "Found 450 images belonging to 3 classes.\n",
            "processing:\n",
            "features:(450, 4, 4, 512)\n",
            "labels:(450, 3)\n",
            "extracting images from input directory:/Users/surekha/Downloads/DAAN 570/submissions/zoo_classifier(gen)/test\n",
            "Found 450 images belonging to 3 classes.\n",
            "processing:\n"
          ]
        }
      ],
      "source": [
        "import os\n",
        "import numpy as np\n",
        "import os\n",
        "from tensorflow.keras.preprocessing.image import ImageDataGenerator\n",
        "\n",
        "base_dir = os.getcwd() + '/zoo_classifier(gen)'\n",
        "\n",
        "train_dir = os.path.join(base_dir, 'train')\n",
        "validation_dir = os.path.join(base_dir, 'validation')\n",
        "test_dir = os.path.join(base_dir, 'test')\n",
        "\n",
        "datagen = ImageDataGenerator(rescale=1./255)\n",
        "batch_size = 50\n",
        "\n",
        "def extract_features(directory, sample_count):\n",
        "    features = np.zeros(shape=(sample_count, 4, 4, 512))\n",
        "    print(\"features:\" + str(features.shape))\n",
        "    labels = np.zeros(shape=(sample_count,3))\n",
        "    print(\"labels:\" + str(labels.shape))\n",
        "    print(\"extracting images from input directory:\" + directory)\n",
        "    generator = datagen.flow_from_directory(\n",
        "        directory,\n",
        "        target_size=(150, 150),\n",
        "        batch_size=batch_size,\n",
        "        class_mode='categorical')\n",
        "    print(\"processing:\")\n",
        "    i = 0\n",
        "    for inputs_batch, labels_batch in generator:\n",
        "        features_batch = conv_base.predict(inputs_batch)\n",
        "        features[i * batch_size : (i + 1) * batch_size] = features_batch\n",
        "        labels[i * batch_size : (i + 1) * batch_size] = labels_batch\n",
        "        i += 1\n",
        "        if i * batch_size >= sample_count:\n",
        "            # Note that since generators yield data indefinitely in a loop,\n",
        "            # we must `break` after every image has been seen once.\n",
        "            break\n",
        "    return features, labels\n",
        "\n",
        "train_features, train_labels = extract_features(train_dir, 2100)\n",
        "validation_features, validation_labels = extract_features(validation_dir, 450)\n",
        "test_features, test_labels = extract_features(test_dir, 450)"
      ]
    },
    {
      "cell_type": "code",
      "execution_count": null,
      "id": "d3311965",
      "metadata": {
        "id": "d3311965",
        "outputId": "6bdafc18-78ba-4ba0-e550-f51a7aabca69"
      },
      "outputs": [
        {
          "name": "stdout",
          "output_type": "stream",
          "text": [
            "[[0. 0. 1.]\n",
            " [0. 1. 0.]\n",
            " [0. 0. 1.]\n",
            " ...\n",
            " [0. 0. 1.]\n",
            " [0. 0. 1.]\n",
            " [0. 0. 1.]]\n"
          ]
        }
      ],
      "source": [
        "print(test_labels)"
      ]
    },
    {
      "cell_type": "code",
      "execution_count": null,
      "id": "131f7d8a",
      "metadata": {
        "id": "131f7d8a",
        "outputId": "888b1901-9ac5-4584-8e10-df3abed1252f"
      },
      "outputs": [
        {
          "name": "stdout",
          "output_type": "stream",
          "text": [
            "[[0.18935111 0.         0.         ... 0.         0.76612878 0.        ]\n",
            " [0.02593948 0.         2.07591558 ... 0.         0.84068441 0.        ]\n",
            " [1.10328209 0.         0.         ... 0.27044263 0.26013321 0.        ]\n",
            " ...\n",
            " [2.31540442 0.         0.25942558 ... 0.         0.         0.        ]\n",
            " [1.04923153 0.         0.46391234 ... 0.         0.00995955 0.        ]\n",
            " [0.24141172 0.         0.54678255 ... 0.         0.4893443  0.        ]]\n"
          ]
        }
      ],
      "source": [
        "print(test_features)"
      ]
    },
    {
      "cell_type": "markdown",
      "id": "6a289fde",
      "metadata": {
        "id": "6a289fde"
      },
      "source": [
        "The extracted features are currently of shape (samples, 4, 4, 512). We will feed them to a densely-connected classifier, so first we must flatten them to (samples, 8192):"
      ]
    },
    {
      "cell_type": "code",
      "execution_count": null,
      "id": "6bd7dd89",
      "metadata": {
        "id": "6bd7dd89"
      },
      "outputs": [],
      "source": [
        "train_features = np.reshape(train_features, (2100, 4 * 4 * 512))\n",
        "validation_features = np.reshape(validation_features, (450, 4 * 4 * 512))\n",
        "test_features = np.reshape(test_features, (450, 4 * 4 * 512))"
      ]
    },
    {
      "cell_type": "code",
      "execution_count": null,
      "id": "6477a88c",
      "metadata": {
        "id": "6477a88c",
        "outputId": "884dca64-7dfd-4ce5-c282-c164bbdb97f5"
      },
      "outputs": [
        {
          "name": "stdout",
          "output_type": "stream",
          "text": [
            "Train on 2100 samples, validate on 450 samples\n",
            "Epoch 1/30\n",
            "2100/2100 [==============================] - 4s 2ms/sample - loss: 1.0070 - acc: 0.5167 - val_loss: 0.7160 - val_acc: 0.7689\n",
            "Epoch 2/30\n",
            "2100/2100 [==============================] - 3s 1ms/sample - loss: 0.6948 - acc: 0.7267 - val_loss: 0.5633 - val_acc: 0.8111\n",
            "Epoch 3/30\n",
            "2100/2100 [==============================] - 3s 1ms/sample - loss: 0.5530 - acc: 0.7967 - val_loss: 0.4807 - val_acc: 0.8178\n",
            "Epoch 4/30\n",
            "2100/2100 [==============================] - 3s 1ms/sample - loss: 0.4691 - acc: 0.8329 - val_loss: 0.4358 - val_acc: 0.8222\n",
            "Epoch 5/30\n",
            "2100/2100 [==============================] - 3s 1ms/sample - loss: 0.4189 - acc: 0.8481 - val_loss: 0.3977 - val_acc: 0.8578\n",
            "Epoch 6/30\n",
            "2100/2100 [==============================] - 3s 1ms/sample - loss: 0.3730 - acc: 0.8633 - val_loss: 0.3755 - val_acc: 0.8578\n",
            "Epoch 7/30\n",
            "2100/2100 [==============================] - 3s 2ms/sample - loss: 0.3319 - acc: 0.8800 - val_loss: 0.3557 - val_acc: 0.8689\n",
            "Epoch 8/30\n",
            "2100/2100 [==============================] - 3s 1ms/sample - loss: 0.3100 - acc: 0.8886 - val_loss: 0.3348 - val_acc: 0.8800\n",
            "Epoch 9/30\n",
            "2100/2100 [==============================] - 3s 1ms/sample - loss: 0.2968 - acc: 0.8948 - val_loss: 0.3267 - val_acc: 0.8756\n",
            "Epoch 10/30\n",
            "2100/2100 [==============================] - 3s 1ms/sample - loss: 0.2698 - acc: 0.9062 - val_loss: 0.3117 - val_acc: 0.8867\n",
            "Epoch 11/30\n",
            "2100/2100 [==============================] - 3s 1ms/sample - loss: 0.2504 - acc: 0.9143 - val_loss: 0.3141 - val_acc: 0.8733\n",
            "Epoch 12/30\n",
            "2100/2100 [==============================] - 3s 1ms/sample - loss: 0.2372 - acc: 0.9186 - val_loss: 0.3023 - val_acc: 0.8822\n",
            "Epoch 13/30\n",
            "2100/2100 [==============================] - 3s 1ms/sample - loss: 0.2212 - acc: 0.9276 - val_loss: 0.2913 - val_acc: 0.8844\n",
            "Epoch 14/30\n",
            "2100/2100 [==============================] - 3s 1ms/sample - loss: 0.2185 - acc: 0.9252 - val_loss: 0.3015 - val_acc: 0.8733\n",
            "Epoch 15/30\n",
            "2100/2100 [==============================] - 3s 1ms/sample - loss: 0.1967 - acc: 0.9381 - val_loss: 0.2874 - val_acc: 0.8867\n",
            "Epoch 16/30\n",
            "2100/2100 [==============================] - 3s 1ms/sample - loss: 0.1924 - acc: 0.9319 - val_loss: 0.2831 - val_acc: 0.8889\n",
            "Epoch 17/30\n",
            "2100/2100 [==============================] - 3s 1ms/sample - loss: 0.1767 - acc: 0.9462 - val_loss: 0.2842 - val_acc: 0.8867\n",
            "Epoch 18/30\n",
            "2100/2100 [==============================] - 3s 1ms/sample - loss: 0.1719 - acc: 0.9429 - val_loss: 0.2834 - val_acc: 0.8867\n",
            "Epoch 19/30\n",
            "2100/2100 [==============================] - 3s 1ms/sample - loss: 0.1672 - acc: 0.9505 - val_loss: 0.2760 - val_acc: 0.8822\n",
            "Epoch 20/30\n",
            "2100/2100 [==============================] - 3s 1ms/sample - loss: 0.1455 - acc: 0.9557 - val_loss: 0.2707 - val_acc: 0.8933\n",
            "Epoch 21/30\n",
            "2100/2100 [==============================] - 3s 2ms/sample - loss: 0.1486 - acc: 0.9500 - val_loss: 0.2758 - val_acc: 0.8867\n",
            "Epoch 22/30\n",
            "2100/2100 [==============================] - 3s 2ms/sample - loss: 0.1289 - acc: 0.9610 - val_loss: 0.2701 - val_acc: 0.8911\n",
            "Epoch 23/30\n",
            "2100/2100 [==============================] - 3s 2ms/sample - loss: 0.1319 - acc: 0.9610 - val_loss: 0.2683 - val_acc: 0.8889\n",
            "Epoch 24/30\n",
            "2100/2100 [==============================] - 3s 2ms/sample - loss: 0.1206 - acc: 0.9667 - val_loss: 0.2708 - val_acc: 0.8889\n",
            "Epoch 25/30\n",
            "2100/2100 [==============================] - 3s 2ms/sample - loss: 0.1144 - acc: 0.9676 - val_loss: 0.2678 - val_acc: 0.8867\n",
            "Epoch 26/30\n",
            "2100/2100 [==============================] - 3s 1ms/sample - loss: 0.1092 - acc: 0.9733 - val_loss: 0.2593 - val_acc: 0.9000\n",
            "Epoch 27/30\n",
            "2100/2100 [==============================] - 3s 1ms/sample - loss: 0.1133 - acc: 0.9686 - val_loss: 0.2604 - val_acc: 0.8911\n",
            "Epoch 28/30\n",
            "2100/2100 [==============================] - 3s 1ms/sample - loss: 0.0995 - acc: 0.9729 - val_loss: 0.2641 - val_acc: 0.8889\n",
            "Epoch 29/30\n",
            "2100/2100 [==============================] - 3s 1ms/sample - loss: 0.0933 - acc: 0.9781 - val_loss: 0.2609 - val_acc: 0.8911\n",
            "Epoch 30/30\n",
            "2100/2100 [==============================] - 3s 1ms/sample - loss: 0.0907 - acc: 0.9752 - val_loss: 0.2585 - val_acc: 0.8978\n"
          ]
        }
      ],
      "source": [
        "from tensorflow.keras import models\n",
        "from tensorflow.keras import layers\n",
        "from tensorflow.keras import optimizers\n",
        "\n",
        "model = models.Sequential()\n",
        "model.add(layers.Dense(256, activation='relu', input_dim=4 * 4 * 512))\n",
        "model.add(layers.Dropout(0.5))\n",
        "model.add(layers.Dense(3, activation='softmax'))\n",
        "\n",
        "model.compile(optimizer=optimizers.RMSprop(lr=2e-5),\n",
        "              loss='categorical_crossentropy',\n",
        "              metrics=['acc'])\n",
        "\n",
        "history = model.fit(train_features, train_labels,\n",
        "                    epochs=30,\n",
        "                    batch_size=20,\n",
        "                    validation_data=(validation_features, validation_labels))"
      ]
    },
    {
      "cell_type": "markdown",
      "id": "6cedc361",
      "metadata": {
        "id": "6cedc361"
      },
      "source": [
        "Training is very fast, since we only have to deal with two Dense layers -- an epoch takes less than one second even on CPU.Let's take a look at the loss and accuracy curves during training:"
      ]
    },
    {
      "cell_type": "code",
      "execution_count": null,
      "id": "8f6b8d38",
      "metadata": {
        "id": "8f6b8d38",
        "outputId": "da042d03-5db2-4872-fcb2-38586da3d99b"
      },
      "outputs": [
        {
          "data": {
            "image/png": "[encoded data removed]",
            "text/plain": [
              "<Figure size 432x288 with 1 Axes>"
            ]
          },
          "metadata": {
            "needs_background": "light"
          },
          "output_type": "display_data"
        },
        {
          "data": {
            "image/png": "[encoded data removed]",
            "text/plain": [
              "<Figure size 432x288 with 1 Axes>"
            ]
          },
          "metadata": {
            "needs_background": "light"
          },
          "output_type": "display_data"
        }
      ],
      "source": [
        "import matplotlib.pyplot as plt\n",
        "\n",
        "acc = history.history['acc']\n",
        "val_acc = history.history['val_acc']\n",
        "loss = history.history['loss']\n",
        "val_loss = history.history['val_loss']\n",
        "\n",
        "epochs = range(len(acc))\n",
        "\n",
        "plt.plot(epochs, acc, 'bo', label='Training acc')\n",
        "plt.plot(epochs, val_acc, 'b', label='Validation acc')\n",
        "plt.title('Training and validation accuracy')\n",
        "plt.legend()\n",
        "\n",
        "plt.figure()\n",
        "\n",
        "plt.plot(epochs, loss, 'bo', label='Training loss')\n",
        "plt.plot(epochs, val_loss, 'b', label='Validation loss')\n",
        "plt.title('Training and validation loss')\n",
        "plt.legend()\n",
        "\n",
        "plt.show()"
      ]
    },
    {
      "cell_type": "markdown",
      "id": "d0d7ed81",
      "metadata": {
        "id": "d0d7ed81"
      },
      "source": [
        "By far,transfer learning has yielded better accuracy.\n",
        "\n",
        "with augumentation:\n",
        "Epoch 20/20\n",
        "42/42 [==============================] - 266s 6s/step - loss: 0.5230 - accuracy: 0.7567 - val_loss: 0.4809 - val_accuracy: 0.7689\n",
        "\n",
        "without augumentation:\n",
        "42/42 [==============================] - 234s 6s/step - loss: 0.0062 - accuracy: 0.9981 - val_loss: 1.3255 - val_accuracy: 0.7644\n",
        "\n",
        "without augumentation and regularization:\n",
        "Epoch 20/20\n",
        "42/42 [==============================] - 173s 4s/step - loss: 0.2193 - accuracy: 0.9610 - val_loss: 1.2060 - val_accuracy: 0.7356\n",
        "\n",
        "transfer learning:\n",
        "Epoch 30/30\n",
        "2100/2100 [==============================] - 3s 1ms/sample - loss: 0.0907 - acc: 0.9752 - val_loss: 0.2585 - val_acc: 0.8978"
      ]
    },
    {
      "cell_type": "code",
      "execution_count": null,
      "id": "283e4aeb",
      "metadata": {
        "id": "283e4aeb"
      },
      "outputs": [],
      "source": [
        "# save the model\n",
        "model.save('transfer_learning.h5')"
      ]
    },
    {
      "cell_type": "markdown",
      "id": "4ec8d30a",
      "metadata": {
        "id": "4ec8d30a"
      },
      "source": [
        "## Image Augumentation"
      ]
    },
    {
      "cell_type": "code",
      "execution_count": null,
      "id": "0dc96dff",
      "metadata": {
        "id": "0dc96dff",
        "outputId": "5fed73b2-29df-4843-fb87-e21ac60dfea7"
      },
      "outputs": [
        {
          "name": "stdout",
          "output_type": "stream",
          "text": [
            "features:(2100, 4, 4, 512)\n",
            "labels:(2100, 3)\n",
            "extracting images from input directory:/Users/surekha/Downloads/DAAN 570/submissions/zoo_classifier(gen)/train\n",
            "Found 2100 images belonging to 3 classes.\n",
            "processing:\n",
            "features:(450, 4, 4, 512)\n",
            "labels:(450, 3)\n",
            "extracting images from input directory:/Users/surekha/Downloads/DAAN 570/submissions/zoo_classifier(gen)/validation\n",
            "Found 450 images belonging to 3 classes.\n",
            "processing:\n",
            "features:(450, 4, 4, 512)\n",
            "labels:(450, 3)\n",
            "extracting images from input directory:/Users/surekha/Downloads/DAAN 570/submissions/zoo_classifier(gen)/test\n",
            "Found 450 images belonging to 3 classes.\n",
            "processing:\n"
          ]
        }
      ],
      "source": [
        "import os\n",
        "import numpy as np\n",
        "import os\n",
        "from tensorflow.keras.preprocessing.image import ImageDataGenerator\n",
        "\n",
        "base_dir = os.getcwd() + '/zoo_classifier(gen)'\n",
        "\n",
        "train_dir = os.path.join(base_dir, 'train')\n",
        "validation_dir = os.path.join(base_dir, 'validation')\n",
        "test_dir = os.path.join(base_dir, 'test')\n",
        "\n",
        "datagen = ImageDataGenerator(\n",
        "    rescale=1./255,\n",
        "    rotation_range=40,\n",
        "    width_shift_range=0.2,\n",
        "    height_shift_range=0.2,\n",
        "    shear_range=0.2,\n",
        "    zoom_range=0.2,\n",
        "    horizontal_flip=True,)\n",
        "\n",
        "batch_size = 50\n",
        "\n",
        "def extract_features(directory, sample_count):\n",
        "    features = np.zeros(shape=(sample_count, 4, 4, 512))\n",
        "    print(\"features:\" + str(features.shape))\n",
        "    labels = np.zeros(shape=(sample_count,3))\n",
        "    print(\"labels:\" + str(labels.shape))\n",
        "    print(\"extracting images from input directory:\" + directory)\n",
        "    generator = datagen.flow_from_directory(\n",
        "        directory,\n",
        "        target_size=(150, 150),\n",
        "        batch_size=batch_size,\n",
        "        class_mode='categorical')\n",
        "    print(\"processing:\")\n",
        "    i = 0\n",
        "    for inputs_batch, labels_batch in generator:\n",
        "        features_batch = conv_base.predict(inputs_batch)\n",
        "        features[i * batch_size : (i + 1) * batch_size] = features_batch\n",
        "        labels[i * batch_size : (i + 1) * batch_size] = labels_batch\n",
        "        i += 1\n",
        "        if i * batch_size >= sample_count:\n",
        "            # Note that since generators yield data indefinitely in a loop,\n",
        "            # we must `break` after every image has been seen once.\n",
        "            break\n",
        "    return features, labels\n",
        "\n",
        "train_features, train_labels = extract_features(train_dir, 2100)\n",
        "validation_features, validation_labels = extract_features(validation_dir, 450)\n",
        "test_features, test_labels = extract_features(test_dir, 450)"
      ]
    },
    {
      "cell_type": "markdown",
      "id": "1797bfbd",
      "metadata": {
        "id": "1797bfbd"
      },
      "source": [
        "## reshape - flatten the images"
      ]
    },
    {
      "cell_type": "code",
      "execution_count": null,
      "id": "814a5fe7",
      "metadata": {
        "id": "814a5fe7"
      },
      "outputs": [],
      "source": [
        "train_features = np.reshape(train_features, (2100, 4 * 4 * 512))\n",
        "validation_features = np.reshape(validation_features, (450, 4 * 4 * 512))\n",
        "test_features = np.reshape(test_features, (450, 4 * 4 * 512))"
      ]
    },
    {
      "cell_type": "markdown",
      "id": "e7e1126d",
      "metadata": {
        "id": "e7e1126d"
      },
      "source": [
        "# Define model - multi class classification"
      ]
    },
    {
      "cell_type": "code",
      "execution_count": null,
      "id": "bb3100df",
      "metadata": {
        "id": "bb3100df",
        "outputId": "ab1ecbcf-39aa-4970-d7bc-6197d527403b"
      },
      "outputs": [
        {
          "name": "stdout",
          "output_type": "stream",
          "text": [
            "Train on 2100 samples, validate on 450 samples\n",
            "Epoch 1/30\n",
            "2100/2100 [==============================] - 4s 2ms/sample - loss: 1.1206 - acc: 0.4424 - val_loss: 0.8543 - val_acc: 0.6578\n",
            "Epoch 2/30\n",
            "2100/2100 [==============================] - 3s 1ms/sample - loss: 0.8773 - acc: 0.5971 - val_loss: 0.7545 - val_acc: 0.6867\n",
            "Epoch 3/30\n",
            "2100/2100 [==============================] - 3s 1ms/sample - loss: 0.7569 - acc: 0.6748 - val_loss: 0.6621 - val_acc: 0.7644\n",
            "Epoch 4/30\n",
            "2100/2100 [==============================] - 3s 1ms/sample - loss: 0.6709 - acc: 0.7224 - val_loss: 0.6072 - val_acc: 0.7733\n",
            "Epoch 5/30\n",
            "2100/2100 [==============================] - 3s 1ms/sample - loss: 0.6052 - acc: 0.7681 - val_loss: 0.5701 - val_acc: 0.7800\n",
            "Epoch 6/30\n",
            "2100/2100 [==============================] - 3s 1ms/sample - loss: 0.5562 - acc: 0.7814 - val_loss: 0.5478 - val_acc: 0.7778\n",
            "Epoch 7/30\n",
            "2100/2100 [==============================] - 3s 1ms/sample - loss: 0.5214 - acc: 0.7986 - val_loss: 0.5256 - val_acc: 0.7800\n",
            "Epoch 8/30\n",
            "2100/2100 [==============================] - 3s 1ms/sample - loss: 0.4950 - acc: 0.8067 - val_loss: 0.5023 - val_acc: 0.8044\n",
            "Epoch 9/30\n",
            "2100/2100 [==============================] - 3s 1ms/sample - loss: 0.4607 - acc: 0.8286 - val_loss: 0.4909 - val_acc: 0.8000\n",
            "Epoch 10/30\n",
            "2100/2100 [==============================] - 3s 1ms/sample - loss: 0.4392 - acc: 0.8324 - val_loss: 0.4795 - val_acc: 0.8022\n",
            "Epoch 11/30\n",
            "2100/2100 [==============================] - 3s 1ms/sample - loss: 0.4128 - acc: 0.8495 - val_loss: 0.4688 - val_acc: 0.8111\n",
            "Epoch 12/30\n",
            "2100/2100 [==============================] - 3s 1ms/sample - loss: 0.3894 - acc: 0.8586 - val_loss: 0.4708 - val_acc: 0.7933\n",
            "Epoch 13/30\n",
            "2100/2100 [==============================] - 3s 2ms/sample - loss: 0.3689 - acc: 0.8652 - val_loss: 0.4606 - val_acc: 0.8044\n",
            "Epoch 14/30\n",
            "2100/2100 [==============================] - 3s 2ms/sample - loss: 0.3480 - acc: 0.8771 - val_loss: 0.4517 - val_acc: 0.8178\n",
            "Epoch 15/30\n",
            "2100/2100 [==============================] - 4s 2ms/sample - loss: 0.3295 - acc: 0.8824 - val_loss: 0.4620 - val_acc: 0.7911\n",
            "Epoch 16/30\n",
            "2100/2100 [==============================] - 4s 2ms/sample - loss: 0.3215 - acc: 0.8952 - val_loss: 0.4422 - val_acc: 0.8200\n",
            "Epoch 17/30\n",
            "2100/2100 [==============================] - 3s 1ms/sample - loss: 0.3110 - acc: 0.8971 - val_loss: 0.4404 - val_acc: 0.8244\n",
            "Epoch 18/30\n",
            "2100/2100 [==============================] - 3s 1ms/sample - loss: 0.3032 - acc: 0.8986 - val_loss: 0.4382 - val_acc: 0.8178\n",
            "Epoch 19/30\n",
            "2100/2100 [==============================] - 3s 1ms/sample - loss: 0.2795 - acc: 0.9095 - val_loss: 0.4295 - val_acc: 0.8178\n",
            "Epoch 20/30\n",
            "2100/2100 [==============================] - 3s 1ms/sample - loss: 0.2707 - acc: 0.9105 - val_loss: 0.4286 - val_acc: 0.8200\n",
            "Epoch 21/30\n",
            "2100/2100 [==============================] - 3s 2ms/sample - loss: 0.2573 - acc: 0.9181 - val_loss: 0.4309 - val_acc: 0.8244\n",
            "Epoch 22/30\n",
            "2100/2100 [==============================] - 3s 2ms/sample - loss: 0.2499 - acc: 0.9224 - val_loss: 0.4218 - val_acc: 0.8111\n",
            "Epoch 23/30\n",
            "2100/2100 [==============================] - 4s 2ms/sample - loss: 0.2407 - acc: 0.9238 - val_loss: 0.4220 - val_acc: 0.8200\n",
            "Epoch 24/30\n",
            "2100/2100 [==============================] - 3s 1ms/sample - loss: 0.2307 - acc: 0.9281 - val_loss: 0.4305 - val_acc: 0.8156\n",
            "Epoch 25/30\n",
            "2100/2100 [==============================] - 3s 1ms/sample - loss: 0.2158 - acc: 0.9381 - val_loss: 0.4249 - val_acc: 0.8156\n",
            "Epoch 26/30\n",
            "2100/2100 [==============================] - 3s 1ms/sample - loss: 0.2194 - acc: 0.9324 - val_loss: 0.4205 - val_acc: 0.8222\n",
            "Epoch 27/30\n",
            "2100/2100 [==============================] - 3s 2ms/sample - loss: 0.1966 - acc: 0.9443 - val_loss: 0.4289 - val_acc: 0.8089\n",
            "Epoch 28/30\n",
            "2100/2100 [==============================] - 3s 2ms/sample - loss: 0.2023 - acc: 0.9371 - val_loss: 0.4429 - val_acc: 0.7978\n",
            "Epoch 29/30\n",
            "2100/2100 [==============================] - 3s 1ms/sample - loss: 0.1960 - acc: 0.9452 - val_loss: 0.4148 - val_acc: 0.8200\n",
            "Epoch 30/30\n",
            "2100/2100 [==============================] - 3s 1ms/sample - loss: 0.1807 - acc: 0.9548 - val_loss: 0.4178 - val_acc: 0.8267\n"
          ]
        }
      ],
      "source": [
        "from tensorflow.keras import models\n",
        "from tensorflow.keras import layers\n",
        "from tensorflow.keras import optimizers\n",
        "\n",
        "model = models.Sequential()\n",
        "model.add(layers.Dense(256, activation='relu', input_dim=4 * 4 * 512))\n",
        "model.add(layers.Dropout(0.5))\n",
        "model.add(layers.Dense(3, activation='softmax'))\n",
        "\n",
        "model.compile(optimizer=optimizers.RMSprop(lr=2e-5),\n",
        "              loss='categorical_crossentropy',\n",
        "              metrics=['acc'])\n",
        "\n",
        "history = model.fit(train_features, train_labels,\n",
        "                    epochs=30,\n",
        "                    batch_size=20,\n",
        "                    validation_data=(validation_features, validation_labels))"
      ]
    },
    {
      "cell_type": "markdown",
      "id": "ed7ace71",
      "metadata": {
        "id": "ed7ace71"
      },
      "source": [
        "# Plot the metrics"
      ]
    },
    {
      "cell_type": "code",
      "execution_count": null,
      "id": "0a579d01",
      "metadata": {
        "id": "0a579d01",
        "outputId": "5823c68f-9242-4b5b-8e57-e7a229145a1f"
      },
      "outputs": [
        {
          "data": {
            "image/png": "[encoded data removed]",
            "text/plain": [
              "<Figure size 432x288 with 1 Axes>"
            ]
          },
          "metadata": {
            "needs_background": "light"
          },
          "output_type": "display_data"
        },
        {
          "data": {
            "image/png": "[encoded data removed]",
            "text/plain": [
              "<Figure size 432x288 with 1 Axes>"
            ]
          },
          "metadata": {
            "needs_background": "light"
          },
          "output_type": "display_data"
        }
      ],
      "source": [
        "import matplotlib.pyplot as plt\n",
        "\n",
        "acc = history.history['acc']\n",
        "val_acc = history.history['val_acc']\n",
        "loss = history.history['loss']\n",
        "val_loss = history.history['val_loss']\n",
        "\n",
        "epochs = range(len(acc))\n",
        "\n",
        "plt.plot(epochs, acc, 'bo', label='Training acc')\n",
        "plt.plot(epochs, val_acc, 'b', label='Validation acc')\n",
        "plt.title('Training and validation accuracy')\n",
        "plt.legend()\n",
        "\n",
        "plt.figure()\n",
        "\n",
        "plt.plot(epochs, loss, 'bo', label='Training loss')\n",
        "plt.plot(epochs, val_loss, 'b', label='Validation loss')\n",
        "plt.title('Training and validation loss')\n",
        "plt.legend()\n",
        "\n",
        "plt.show()"
      ]
    },
    {
      "cell_type": "markdown",
      "id": "27611629",
      "metadata": {
        "id": "27611629"
      },
      "source": [
        "Augumentation did not seem to have improved the performance to considerable extent. "
      ]
    },
    {
      "cell_type": "markdown",
      "id": "7f6fd9fe",
      "metadata": {
        "id": "7f6fd9fe"
      },
      "source": [
        "# Save the model"
      ]
    },
    {
      "cell_type": "code",
      "execution_count": null,
      "id": "9aec4b06",
      "metadata": {
        "id": "9aec4b06"
      },
      "outputs": [],
      "source": [
        "# save the model\n",
        "model.save('transfer_learning(augumented).h5')"
      ]
    }
  ],
  "metadata": {
    "kernelspec": {
      "display_name": "Python 3 (ipykernel)",
      "language": "python",
      "name": "python3"
    },
    "language_info": {
      "codemirror_mode": {
        "name": "ipython",
        "version": 3
      },
      "file_extension": ".py",
      "mimetype": "text/x-python",
      "name": "python",
      "nbconvert_exporter": "python",
      "pygments_lexer": "ipython3",
      "version": "3.7.11"
    },
    "colab": {
      "name": "ImageClassificationModels(Custom&TransferLearn).ipynb",
      "provenance": [],
      "collapsed_sections": [
        "5ccabfca",
        "8d75c5fc",
        "c68b8831",
        "4ec8d30a",
        "1797bfbd"
      ]
    }
  },
  "nbformat": 4,
  "nbformat_minor": 5
}
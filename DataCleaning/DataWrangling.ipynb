{
  "cells": [
    {
      "cell_type": "markdown",
      "source": [
        "# Data Wrangling\n",
        "\n",
        "Data never comes in the format we expect. So it is inevitable to clean and transform the data to make use of it.\n",
        "\n",
        "Data wrangling is the process of cleaning, structuring and enriching raw data into a desired format for better decision making. With the amount of data and data sources rapidly growing and expanding, it is getting increasingly essential for large amounts of available data to be organized for analysis.\n",
        "\n",
        "Data wrangling involves processing the data in various formats and analyzes and get them to be used with another set of data and bringing them together into valuable insights. It further includes data aggregation, data visualization, and training statistical models for prediction.\n",
        "\n"
      ],
      "metadata": {
        "id": "sysxbeFV80o1"
      }
    },
    {
      "cell_type": "code",
      "execution_count": 3,
      "metadata": {
        "colab": {
          "base_uri": "https://localhost:8080/"
        },
        "id": "0OIiM5in8SpR",
        "outputId": "29e3e904-8ea4-4f44-c60c-04432ecdbc49"
      },
      "outputs": [
        {
          "output_type": "stream",
          "name": "stdout",
          "text": [
            "Collecting fastnumbers\n",
            "  Downloading fastnumbers-3.2.1-cp37-cp37m-manylinux_2_5_x86_64.manylinux1_x86_64.manylinux_2_12_x86_64.manylinux2010_x86_64.whl (82 kB)\n",
            "\u001b[?25l\r\u001b[K     |████                            | 10 kB 20.2 MB/s eta 0:00:01\r\u001b[K     |████████                        | 20 kB 24.8 MB/s eta 0:00:01\r\u001b[K     |████████████                    | 30 kB 30.4 MB/s eta 0:00:01\r\u001b[K     |████████████████                | 40 kB 25.9 MB/s eta 0:00:01\r\u001b[K     |████████████████████            | 51 kB 20.8 MB/s eta 0:00:01\r\u001b[K     |███████████████████████▉        | 61 kB 23.7 MB/s eta 0:00:01\r\u001b[K     |███████████████████████████▉    | 71 kB 20.9 MB/s eta 0:00:01\r\u001b[K     |███████████████████████████████▉| 81 kB 22.2 MB/s eta 0:00:01\r\u001b[K     |████████████████████████████████| 82 kB 595 kB/s \n",
            "\u001b[?25hInstalling collected packages: fastnumbers\n",
            "Successfully installed fastnumbers-3.2.1\n"
          ]
        }
      ],
      "source": [
        "##Super-fast and clean conversions to numbers.\n",
        "!pip install fastnumbers"
      ]
    },
    {
      "cell_type": "code",
      "execution_count": 4,
      "metadata": {
        "colab": {
          "base_uri": "https://localhost:8080/"
        },
        "id": "bf8zZzVM8SpU",
        "outputId": "cb286b47-b185-4db8-e458-8db6f21f5ed6"
      },
      "outputs": [
        {
          "output_type": "stream",
          "name": "stdout",
          "text": [
            "Collecting pytidylib\n",
            "  Downloading pytidylib-0.3.2.tar.gz (87 kB)\n",
            "\u001b[?25l\r\u001b[K     |███▊                            | 10 kB 16.5 MB/s eta 0:00:01\r\u001b[K     |███████▌                        | 20 kB 17.1 MB/s eta 0:00:01\r\u001b[K     |███████████▏                    | 30 kB 11.3 MB/s eta 0:00:01\r\u001b[K     |███████████████                 | 40 kB 11.1 MB/s eta 0:00:01\r\u001b[K     |██████████████████▊             | 51 kB 6.7 MB/s eta 0:00:01\r\u001b[K     |██████████████████████▍         | 61 kB 7.8 MB/s eta 0:00:01\r\u001b[K     |██████████████████████████▏     | 71 kB 8.6 MB/s eta 0:00:01\r\u001b[K     |██████████████████████████████  | 81 kB 9.2 MB/s eta 0:00:01\r\u001b[K     |████████████████████████████████| 87 kB 2.8 MB/s \n",
            "\u001b[?25hBuilding wheels for collected packages: pytidylib\n",
            "  Building wheel for pytidylib (setup.py) ... \u001b[?25l\u001b[?25hdone\n",
            "  Created wheel for pytidylib: filename=pytidylib-0.3.2-py3-none-any.whl size=8564 sha256=a21cd9a7f9545e96351d0330a16baf44bfc927bdc6f7bbeeeb02c968ffbfc53f\n",
            "  Stored in directory: /root/.cache/pip/wheels/31/22/54/7f13131eb68ef3457b29ae9bd3e546140224f88d9087eb7998\n",
            "Successfully built pytidylib\n",
            "Installing collected packages: pytidylib\n",
            "Successfully installed pytidylib-0.3.2\n"
          ]
        }
      ],
      "source": [
        "##allows Python code  to \"fix\" invalid (X)HTML markup\n",
        "!pip install pytidylib"
      ]
    },
    {
      "cell_type": "markdown",
      "source": [
        "# Import required libraries"
      ],
      "metadata": {
        "id": "1LwCF9Di-Hy8"
      }
    },
    {
      "cell_type": "code",
      "execution_count": 6,
      "metadata": {
        "id": "a4QPsVqA8SpV"
      },
      "outputs": [],
      "source": [
        "import numpy as np # linear algebra\n",
        "import pandas as pd # pandas for dataframe based data processing and CSV file I/O\n",
        "import requests # for http requests\n",
        "from bs4 import BeautifulSoup # for html parsing and scraping\n",
        "import bs4\n",
        "from fastnumbers import isfloat \n",
        "from fastnumbers import fast_float\n",
        "from multiprocessing.dummy import Pool as ThreadPool \n",
        "\n",
        "import matplotlib.pyplot as plt\n",
        "import seaborn as sns\n",
        "import json\n",
        "from tidylib import tidy_document # for tidying incorrect html\n",
        "\n",
        "sns.set_style('whitegrid')\n",
        "%matplotlib inline\n",
        "from IPython.core.interactiveshell import InteractiveShell\n",
        "InteractiveShell.ast_node_interactivity = \"all\""
      ]
    },
    {
      "cell_type": "code",
      "execution_count": 7,
      "metadata": {
        "id": "b6sMo5IK8SpW"
      },
      "outputs": [],
      "source": [
        "#Convert string data to numbers using fast_float funtion from fastnumbers library\n",
        "def ffloat(string):\n",
        "    if string is None:\n",
        "        return np.nan\n",
        "    if type(string)==float or type(string)==np.float64:\n",
        "        return string\n",
        "    if type(string)==int or type(string)==np.int64:\n",
        "        return string\n",
        "    return fast_float(string.split(\" \")[0].replace(',','').replace('%',''),\n",
        "                      default=np.nan)\n",
        "\n",
        "def ffloat_list(string_list):\n",
        "    return list(map(ffloat,string_list))\n",
        "\n",
        "def remove_multiple_spaces(string):\n",
        "    if type(string)==str:\n",
        "        return ' '.join(string.split())\n",
        "    return string"
      ]
    },
    {
      "cell_type": "markdown",
      "source": [
        "# Sample HTTP get request"
      ],
      "metadata": {
        "id": "m9bIcVor8zk8"
      }
    },
    {
      "cell_type": "code",
      "execution_count": 8,
      "metadata": {
        "id": "9IWEA-fG8SpX"
      },
      "outputs": [],
      "source": [
        "##Making Http Requests in Python"
      ]
    },
    {
      "cell_type": "code",
      "execution_count": 9,
      "metadata": {
        "colab": {
          "base_uri": "https://localhost:8080/"
        },
        "id": "Ip4xLdDu8SpX",
        "outputId": "5a40d12e-d7fc-46f7-f0c9-383db8277e79"
      },
      "outputs": [
        {
          "output_type": "execute_result",
          "data": {
            "text/plain": [
              "200"
            ]
          },
          "metadata": {},
          "execution_count": 9
        },
        {
          "output_type": "execute_result",
          "data": {
            "text/plain": [
              "b'<!doctype html>\\n<html>\\n<head>\\n    <title>Example Domain</title>\\n\\n    <meta charset=\"utf-8\" />\\n    <meta http-equiv=\"Content-type\" content=\"text/html; charset=utf-8\" />\\n    <meta name=\"viewport\" content=\"width=device-width, initial-scale=1\" />\\n    <style type=\"text/css\">\\n    body {\\n        background-color: #f0f0f2;\\n        margin: 0;\\n        padding: 0;\\n        font-family: -apple-system, system-ui, BlinkMacSystemFont, \"Segoe UI\", \"Open Sans\", \"Helvetica Neue\", Helvetica, Arial, sans-serif;\\n        \\n    }\\n    div {\\n        width: 600px;\\n        margin: 5em auto;\\n        padding: 2em;\\n        background-color: #fdfdff;\\n        border-radius: 0.5em;\\n        box-shadow: 2px 3px 7px 2px rgba(0,0,0,0.02);\\n    }\\n    a:link, a:visited {\\n        color: #38488f;\\n        text-decoration: none;\\n    }\\n    @media (max-width: 700px) {\\n        div {\\n            margin: 0 auto;\\n            width: auto;\\n        }\\n    }\\n    </style>    \\n</head>\\n\\n<body>\\n<div>\\n    <h1>Example Domain</h1>\\n    <p>This domain is for use in illustrative examples in documents. You may use this\\n    domain in literature without prior coordination or asking for permission.</p>\\n    <p><a href=\"https://www.iana.org/domains/example\">More information...</a></p>\\n</div>\\n</body>\\n</html>\\n'"
            ]
          },
          "metadata": {},
          "execution_count": 9
        }
      ],
      "source": [
        "response = requests.get(\"http://www.example.com/\", timeout=240)\n",
        "response.status_code\n",
        "response.content"
      ]
    },
    {
      "cell_type": "code",
      "execution_count": 10,
      "metadata": {
        "colab": {
          "base_uri": "https://localhost:8080/"
        },
        "id": "StBrkAUe8SpZ",
        "outputId": "6f46e52e-f5f8-484d-f79c-130319cfbb69"
      },
      "outputs": [
        {
          "output_type": "execute_result",
          "data": {
            "text/plain": [
              "200"
            ]
          },
          "metadata": {},
          "execution_count": 10
        },
        {
          "output_type": "execute_result",
          "data": {
            "text/plain": [
              "{'body': 'quia et suscipit\\nsuscipit recusandae consequuntur expedita et cum\\nreprehenderit molestiae ut ut quas totam\\nnostrum rerum est autem sunt rem eveniet architecto',\n",
              " 'id': 1,\n",
              " 'title': 'sunt aut facere repellat provident occaecati excepturi optio reprehenderit',\n",
              " 'userId': 1}"
            ]
          },
          "metadata": {},
          "execution_count": 10
        },
        {
          "output_type": "execute_result",
          "data": {
            "text/plain": [
              "dict_keys(['userId', 'id', 'title', 'body'])"
            ]
          },
          "metadata": {},
          "execution_count": 10
        }
      ],
      "source": [
        "url = \"https://jsonplaceholder.typicode.com/posts/1\"\n",
        "response = requests.get(url, timeout=240)\n",
        "response.status_code\n",
        "response.json()\n",
        "\n",
        "content = response.json()\n",
        "content.keys()"
      ]
    },
    {
      "cell_type": "code",
      "execution_count": 11,
      "metadata": {
        "colab": {
          "base_uri": "https://localhost:8080/",
          "height": 34
        },
        "id": "suNT70YE8Spa",
        "outputId": "606623e6-c6a8-4b72-87e2-58488e4fc482"
      },
      "outputs": [
        {
          "output_type": "execute_result",
          "data": {
            "text/plain": [
              "<IPython.core.display.HTML object>"
            ],
            "text/html": [
              "<b>Rendered HTML</b>"
            ]
          },
          "metadata": {},
          "execution_count": 11
        }
      ],
      "source": [
        "##Scrape Data by Parsing and Traversing HTML\n",
        "from IPython.core.display import HTML\n",
        "HTML(\"<b>Rendered HTML</b>\")\n"
      ]
    },
    {
      "cell_type": "markdown",
      "source": [
        "# Send web request and beauty the rendered response"
      ],
      "metadata": {
        "id": "tFpTfty29wGT"
      }
    },
    {
      "cell_type": "code",
      "execution_count": 12,
      "metadata": {
        "colab": {
          "base_uri": "https://localhost:8080/",
          "height": 251
        },
        "id": "LAH9g9GX8Spb",
        "outputId": "c2d9d5cf-6640-4332-b4a6-a19b2ebc4657"
      },
      "outputs": [
        {
          "output_type": "execute_result",
          "data": {
            "text/plain": [
              "<IPython.core.display.HTML object>"
            ],
            "text/html": [
              "<h1>Hero Motocorp Ltd.</h1>"
            ]
          },
          "metadata": {},
          "execution_count": 12
        },
        {
          "output_type": "execute_result",
          "data": {
            "text/plain": [
              "<IPython.core.display.HTML object>"
            ],
            "text/html": [
              "<div class=\"FL nseL52\" id=\"sp_yearlylow\">2146.85</div>"
            ]
          },
          "metadata": {},
          "execution_count": 12
        },
        {
          "output_type": "execute_result",
          "data": {
            "text/plain": [
              "<IPython.core.display.HTML object>"
            ],
            "text/html": [
              "<div class=\"FR nseH52\" id=\"sp_yearlyhigh\">3629.05</div>"
            ]
          },
          "metadata": {},
          "execution_count": 12
        },
        {
          "output_type": "stream",
          "name": "stdout",
          "text": [
            "week low:\n"
          ]
        },
        {
          "output_type": "execute_result",
          "data": {
            "text/plain": [
              "<IPython.core.display.HTML object>"
            ],
            "text/html": [
              "<div class=\"FL nseLP\" id=\"sp_low\">2370.00</div>"
            ]
          },
          "metadata": {},
          "execution_count": 12
        },
        {
          "output_type": "stream",
          "name": "stdout",
          "text": [
            "week high:\n"
          ]
        },
        {
          "output_type": "execute_result",
          "data": {
            "text/plain": [
              "<IPython.core.display.HTML object>"
            ],
            "text/html": [
              "<div class=\"FR nseHP\" id=\"sp_high\">2528.60</div>"
            ]
          },
          "metadata": {},
          "execution_count": 12
        },
        {
          "output_type": "stream",
          "name": "stdout",
          "text": [
            "Buy Hero MotoCorp: target of Rs 3210: Sharekhan\n",
            "Hero MotoCorp Q4 PAT may dip 36.4% YoY to Rs. 550 cr: ICICI Direct\n",
            "I-T department detects multiple irregularities after raids on Hero Motocorp, others\n",
            "Hero MotoCorp: An opportunity in tough times\n"
          ]
        }
      ],
      "source": [
        "response = requests.get(\"https://www.moneycontrol.com/india/stockpricequote/auto-2-3-wheelers/heromotocorp/HHM\", timeout=240)\n",
        "page_content = BeautifulSoup(response.content, \"html.parser\")\n",
        "HTML(str(page_content.find(\"h1\")))\n",
        "\n",
        "content = BeautifulSoup(response.content, \"html.parser\")\n",
        "#print(content)\n",
        "price_div = content.find(\"div\",attrs={\"id\":'sp_yearlylow'})\n",
        "HTML(str(price_div))\n",
        "price_div = content.find(\"div\",attrs={\"id\":'sp_yearlyhigh'})\n",
        "HTML(str(price_div))\n",
        "price_div = content.find(\"div\",attrs={\"id\":'sp_low'})\n",
        "print('week low:')\n",
        "HTML(str(price_div))\n",
        "price_div = content.find(\"div\",attrs={\"id\":'sp_high'})\n",
        "print('week high:')\n",
        "HTML(str(price_div))\n",
        "\n",
        "\n",
        "import re\n",
        "#pattern = r'[Hero MotoCorp: Well positioned to cruise smoothly]'# re.IGNORECASE makes the regex case-insensitive\n",
        "#regex = re.compile(pattern, flags=re.IGNORECASE)\n",
        "\n",
        "regex = re.compile(r'Hero.*')\n",
        "\n",
        "\n",
        "for img in content.findAll('img'):       \n",
        "    #print(img['src']+'\\n')\n",
        "    imgText = img.get('alt')\n",
        "   \n",
        "    if len(re.findall(regex, str(imgText))) > 0:\n",
        "        print(imgText)\n",
        "    "
      ]
    },
    {
      "cell_type": "code",
      "execution_count": null,
      "metadata": {
        "id": "LCzWQNH68Spc"
      },
      "outputs": [],
      "source": [
        ""
      ]
    },
    {
      "cell_type": "code",
      "execution_count": null,
      "metadata": {
        "id": "rE5DIjp78Spc"
      },
      "outputs": [],
      "source": [
        ""
      ]
    }
  ],
  "metadata": {
    "kernelspec": {
      "display_name": "Python 3",
      "language": "python",
      "name": "python3"
    },
    "language_info": {
      "codemirror_mode": {
        "name": "ipython",
        "version": 3
      },
      "file_extension": ".py",
      "mimetype": "text/x-python",
      "name": "python",
      "nbconvert_exporter": "python",
      "pygments_lexer": "ipython3",
      "version": "3.8.5"
    },
    "colab": {
      "name": "DataWrangling.ipynb",
      "provenance": [],
      "collapsed_sections": []
    }
  },
  "nbformat": 4,
  "nbformat_minor": 0
}
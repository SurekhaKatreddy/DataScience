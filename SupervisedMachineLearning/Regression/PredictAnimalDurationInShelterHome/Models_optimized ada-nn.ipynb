{
 "cells": [
  {
   "cell_type": "code",
   "execution_count": 1,
   "id": "1038b595",
   "metadata": {},
   "outputs": [],
   "source": [
    "import os\n",
    "import pandas as pd\n",
    "import numpy as np\n",
    "import matplotlib.pyplot as plt\n",
    "from sklearn.datasets import make_regression\n",
    "from sklearn.model_selection import train_test_split\n",
    "from sklearn.feature_selection import SelectKBest\n",
    "from sklearn.feature_selection import f_regression\n",
    "from sklearn.linear_model import LinearRegression\n",
    "from sklearn.metrics import mean_absolute_error\n",
    "from sklearn.metrics import accuracy_score, mean_squared_error\n",
    "from sklearn.ensemble import RandomForestRegressor\n",
    "from sklearn.metrics import r2_score\n",
    "from sklearn.linear_model import Lasso\n",
    "from sklearn.model_selection import RepeatedStratifiedKFold\n",
    "from sklearn.model_selection import GridSearchCV\n",
    "from sklearn.compose import TransformedTargetRegressor\n",
    "from sklearn.preprocessing import StandardScaler\n",
    "from sklearn.linear_model import Ridge\n",
    "from sklearn.model_selection import train_test_split\n",
    "from sklearn.pipeline import Pipeline\n",
    "from sklearn import linear_model\n",
    "import sklearn.metrics as metrics\n",
    "from sklearn.tree import DecisionTreeRegressor \n",
    "from sklearn.metrics import mean_squared_error, r2_score, mean_absolute_error\n",
    "from sklearn.ensemble import AdaBoostRegressor\n",
    "from sklearn.neural_network import MLPRegressor\n"
   ]
  },
  {
   "cell_type": "code",
   "execution_count": 2,
   "id": "f0131ce6",
   "metadata": {},
   "outputs": [],
   "source": [
    "#Set seed\n",
    "seed = 32"
   ]
  },
  {
   "cell_type": "markdown",
   "id": "e19f6dd9",
   "metadata": {},
   "source": [
    "# Get Subsets for Each Adoption Dataset -- All Features"
   ]
  },
  {
   "cell_type": "code",
   "execution_count": 3,
   "id": "eb2fca9a",
   "metadata": {},
   "outputs": [],
   "source": [
    "#Load data and get data subsets\n",
    "os.chdir(r\"C:\\Users\\shbla\\OneDrive\\Documents\\PSU\\DAAN 888\")\n",
    "final_data = pd.read_csv(\"final_data.csv\")\n",
    "final_data = final_data.drop('Unnamed: 0', axis = 1)\n",
    "\n",
    "#we are interested only in the Animals that are adopted\n",
    "#So, filter the subset based on 'Outcome Type' == \"Adoption\"\n",
    "filter_adoption = final_data['Outcome Type'] == \"Adoption\"\n",
    "adoption_data = final_data[filter_adoption] \n",
    "\n",
    "#drop the Outcome Type\n",
    "adoption_data = adoption_data.drop(['Outcome Type','Intake Date'], axis =1)\n",
    "adoption_data\n",
    "\n",
    "#prepare the list of the features to be used for modeeling i.e independent variables\n",
    "#and the target feature i.e Duration\n",
    "feat_cols = adoption_data.columns.to_list()\n",
    "feat_cols.remove('Duration')\n",
    "\n",
    "#Repeat for cat adoptions\n",
    "cat_adoption_data = adoption_data[adoption_data[\"Animal Type_Cat\"] == 1]\n",
    "cat_adoption_data = cat_adoption_data.drop(\"Animal Type_Cat\", axis = 1)\n",
    "cat_adoption_data = cat_adoption_data.drop(\"Animal Type_Dog\", axis = 1)\n",
    "\n",
    "feat_cols_cats = cat_adoption_data.columns.to_list()\n",
    "feat_cols_cats.remove('Duration')\n",
    "\n",
    "#Repeat for dog adoptions\n",
    "dog_adoption_data = adoption_data[adoption_data[\"Animal Type_Dog\"] == 1]\n",
    "dog_adoption_data = dog_adoption_data.drop(\"Animal Type_Dog\", axis = 1)\n",
    "dog_adoption_data = dog_adoption_data.drop(\"Animal Type_Cat\", axis = 1)\n",
    "\n",
    "feat_cols_dogs = dog_adoption_data.columns.to_list()\n",
    "feat_cols_dogs.remove('Duration')"
   ]
  },
  {
   "cell_type": "markdown",
   "id": "e34fca15",
   "metadata": {},
   "source": [
    "# Apply Results from Feature Selection to Each Adoption Subset"
   ]
  },
  {
   "cell_type": "code",
   "execution_count": 4,
   "id": "ffb01d36",
   "metadata": {},
   "outputs": [
    {
     "data": {
      "text/html": [
       "<div>\n",
       "<style scoped>\n",
       "    .dataframe tbody tr th:only-of-type {\n",
       "        vertical-align: middle;\n",
       "    }\n",
       "\n",
       "    .dataframe tbody tr th {\n",
       "        vertical-align: top;\n",
       "    }\n",
       "\n",
       "    .dataframe thead th {\n",
       "        text-align: right;\n",
       "    }\n",
       "</style>\n",
       "<table border=\"1\" class=\"dataframe\">\n",
       "  <thead>\n",
       "    <tr style=\"text-align: right;\">\n",
       "      <th></th>\n",
       "      <th>Duration</th>\n",
       "      <th>Outcome Age</th>\n",
       "      <th>Intake Type_Owner Surrender</th>\n",
       "      <th>Intake Type_Stray</th>\n",
       "      <th>Intake Condition_0</th>\n",
       "      <th>Intake Condition_1</th>\n",
       "      <th>Animal Type_Cat</th>\n",
       "      <th>Animal Type_Dog</th>\n",
       "      <th>Intake Status_Intact</th>\n",
       "      <th>Intake Status_Sterile</th>\n",
       "      <th>Sex_Male</th>\n",
       "      <th>Outcome Status_Intact</th>\n",
       "      <th>Outcome Status_Sterile</th>\n",
       "      <th>New Breed_Mixed</th>\n",
       "      <th>New Breed_Multi</th>\n",
       "      <th>New Breed_Single</th>\n",
       "    </tr>\n",
       "  </thead>\n",
       "  <tbody>\n",
       "    <tr>\n",
       "      <th>12</th>\n",
       "      <td>3.103873</td>\n",
       "      <td>14.916529</td>\n",
       "      <td>1</td>\n",
       "      <td>0</td>\n",
       "      <td>1</td>\n",
       "      <td>0</td>\n",
       "      <td>0</td>\n",
       "      <td>1</td>\n",
       "      <td>0</td>\n",
       "      <td>1</td>\n",
       "      <td>1</td>\n",
       "      <td>0</td>\n",
       "      <td>1</td>\n",
       "      <td>1</td>\n",
       "      <td>0</td>\n",
       "      <td>0</td>\n",
       "    </tr>\n",
       "    <tr>\n",
       "      <th>14</th>\n",
       "      <td>1.999925</td>\n",
       "      <td>15.114757</td>\n",
       "      <td>0</td>\n",
       "      <td>0</td>\n",
       "      <td>0</td>\n",
       "      <td>1</td>\n",
       "      <td>0</td>\n",
       "      <td>1</td>\n",
       "      <td>0</td>\n",
       "      <td>1</td>\n",
       "      <td>1</td>\n",
       "      <td>0</td>\n",
       "      <td>1</td>\n",
       "      <td>0</td>\n",
       "      <td>0</td>\n",
       "      <td>1</td>\n",
       "    </tr>\n",
       "    <tr>\n",
       "      <th>23</th>\n",
       "      <td>2.621074</td>\n",
       "      <td>14.783650</td>\n",
       "      <td>0</td>\n",
       "      <td>1</td>\n",
       "      <td>1</td>\n",
       "      <td>0</td>\n",
       "      <td>0</td>\n",
       "      <td>1</td>\n",
       "      <td>0</td>\n",
       "      <td>1</td>\n",
       "      <td>1</td>\n",
       "      <td>0</td>\n",
       "      <td>1</td>\n",
       "      <td>0</td>\n",
       "      <td>1</td>\n",
       "      <td>0</td>\n",
       "    </tr>\n",
       "    <tr>\n",
       "      <th>33</th>\n",
       "      <td>3.444960</td>\n",
       "      <td>14.871002</td>\n",
       "      <td>0</td>\n",
       "      <td>1</td>\n",
       "      <td>1</td>\n",
       "      <td>0</td>\n",
       "      <td>0</td>\n",
       "      <td>1</td>\n",
       "      <td>0</td>\n",
       "      <td>1</td>\n",
       "      <td>0</td>\n",
       "      <td>0</td>\n",
       "      <td>1</td>\n",
       "      <td>1</td>\n",
       "      <td>0</td>\n",
       "      <td>0</td>\n",
       "    </tr>\n",
       "    <tr>\n",
       "      <th>49</th>\n",
       "      <td>1.272469</td>\n",
       "      <td>14.008931</td>\n",
       "      <td>0</td>\n",
       "      <td>1</td>\n",
       "      <td>1</td>\n",
       "      <td>0</td>\n",
       "      <td>0</td>\n",
       "      <td>1</td>\n",
       "      <td>0</td>\n",
       "      <td>1</td>\n",
       "      <td>0</td>\n",
       "      <td>0</td>\n",
       "      <td>1</td>\n",
       "      <td>1</td>\n",
       "      <td>0</td>\n",
       "      <td>0</td>\n",
       "    </tr>\n",
       "    <tr>\n",
       "      <th>...</th>\n",
       "      <td>...</td>\n",
       "      <td>...</td>\n",
       "      <td>...</td>\n",
       "      <td>...</td>\n",
       "      <td>...</td>\n",
       "      <td>...</td>\n",
       "      <td>...</td>\n",
       "      <td>...</td>\n",
       "      <td>...</td>\n",
       "      <td>...</td>\n",
       "      <td>...</td>\n",
       "      <td>...</td>\n",
       "      <td>...</td>\n",
       "      <td>...</td>\n",
       "      <td>...</td>\n",
       "      <td>...</td>\n",
       "    </tr>\n",
       "    <tr>\n",
       "      <th>126752</th>\n",
       "      <td>1.026284</td>\n",
       "      <td>6.838251</td>\n",
       "      <td>1</td>\n",
       "      <td>0</td>\n",
       "      <td>1</td>\n",
       "      <td>0</td>\n",
       "      <td>1</td>\n",
       "      <td>0</td>\n",
       "      <td>1</td>\n",
       "      <td>0</td>\n",
       "      <td>1</td>\n",
       "      <td>0</td>\n",
       "      <td>1</td>\n",
       "      <td>1</td>\n",
       "      <td>0</td>\n",
       "      <td>0</td>\n",
       "    </tr>\n",
       "    <tr>\n",
       "      <th>126753</th>\n",
       "      <td>1.026284</td>\n",
       "      <td>6.838251</td>\n",
       "      <td>1</td>\n",
       "      <td>0</td>\n",
       "      <td>1</td>\n",
       "      <td>0</td>\n",
       "      <td>1</td>\n",
       "      <td>0</td>\n",
       "      <td>1</td>\n",
       "      <td>0</td>\n",
       "      <td>0</td>\n",
       "      <td>0</td>\n",
       "      <td>1</td>\n",
       "      <td>1</td>\n",
       "      <td>0</td>\n",
       "      <td>0</td>\n",
       "    </tr>\n",
       "    <tr>\n",
       "      <th>126754</th>\n",
       "      <td>1.026284</td>\n",
       "      <td>6.838251</td>\n",
       "      <td>1</td>\n",
       "      <td>0</td>\n",
       "      <td>1</td>\n",
       "      <td>0</td>\n",
       "      <td>1</td>\n",
       "      <td>0</td>\n",
       "      <td>1</td>\n",
       "      <td>0</td>\n",
       "      <td>0</td>\n",
       "      <td>0</td>\n",
       "      <td>1</td>\n",
       "      <td>1</td>\n",
       "      <td>0</td>\n",
       "      <td>0</td>\n",
       "    </tr>\n",
       "    <tr>\n",
       "      <th>126756</th>\n",
       "      <td>1.026284</td>\n",
       "      <td>14.719901</td>\n",
       "      <td>1</td>\n",
       "      <td>0</td>\n",
       "      <td>0</td>\n",
       "      <td>1</td>\n",
       "      <td>0</td>\n",
       "      <td>1</td>\n",
       "      <td>0</td>\n",
       "      <td>1</td>\n",
       "      <td>1</td>\n",
       "      <td>0</td>\n",
       "      <td>1</td>\n",
       "      <td>1</td>\n",
       "      <td>0</td>\n",
       "      <td>0</td>\n",
       "    </tr>\n",
       "    <tr>\n",
       "      <th>126760</th>\n",
       "      <td>0.663872</td>\n",
       "      <td>6.826685</td>\n",
       "      <td>1</td>\n",
       "      <td>0</td>\n",
       "      <td>1</td>\n",
       "      <td>0</td>\n",
       "      <td>0</td>\n",
       "      <td>1</td>\n",
       "      <td>1</td>\n",
       "      <td>0</td>\n",
       "      <td>1</td>\n",
       "      <td>0</td>\n",
       "      <td>1</td>\n",
       "      <td>0</td>\n",
       "      <td>0</td>\n",
       "      <td>1</td>\n",
       "    </tr>\n",
       "  </tbody>\n",
       "</table>\n",
       "<p>60407 rows × 16 columns</p>\n",
       "</div>"
      ],
      "text/plain": [
       "        Duration  Outcome Age  Intake Type_Owner Surrender  Intake Type_Stray  \\\n",
       "12      3.103873    14.916529                            1                  0   \n",
       "14      1.999925    15.114757                            0                  0   \n",
       "23      2.621074    14.783650                            0                  1   \n",
       "33      3.444960    14.871002                            0                  1   \n",
       "49      1.272469    14.008931                            0                  1   \n",
       "...          ...          ...                          ...                ...   \n",
       "126752  1.026284     6.838251                            1                  0   \n",
       "126753  1.026284     6.838251                            1                  0   \n",
       "126754  1.026284     6.838251                            1                  0   \n",
       "126756  1.026284    14.719901                            1                  0   \n",
       "126760  0.663872     6.826685                            1                  0   \n",
       "\n",
       "        Intake Condition_0  Intake Condition_1  Animal Type_Cat  \\\n",
       "12                       1                   0                0   \n",
       "14                       0                   1                0   \n",
       "23                       1                   0                0   \n",
       "33                       1                   0                0   \n",
       "49                       1                   0                0   \n",
       "...                    ...                 ...              ...   \n",
       "126752                   1                   0                1   \n",
       "126753                   1                   0                1   \n",
       "126754                   1                   0                1   \n",
       "126756                   0                   1                0   \n",
       "126760                   1                   0                0   \n",
       "\n",
       "        Animal Type_Dog  Intake Status_Intact  Intake Status_Sterile  \\\n",
       "12                    1                     0                      1   \n",
       "14                    1                     0                      1   \n",
       "23                    1                     0                      1   \n",
       "33                    1                     0                      1   \n",
       "49                    1                     0                      1   \n",
       "...                 ...                   ...                    ...   \n",
       "126752                0                     1                      0   \n",
       "126753                0                     1                      0   \n",
       "126754                0                     1                      0   \n",
       "126756                1                     0                      1   \n",
       "126760                1                     1                      0   \n",
       "\n",
       "        Sex_Male  Outcome Status_Intact  Outcome Status_Sterile  \\\n",
       "12             1                      0                       1   \n",
       "14             1                      0                       1   \n",
       "23             1                      0                       1   \n",
       "33             0                      0                       1   \n",
       "49             0                      0                       1   \n",
       "...          ...                    ...                     ...   \n",
       "126752         1                      0                       1   \n",
       "126753         0                      0                       1   \n",
       "126754         0                      0                       1   \n",
       "126756         1                      0                       1   \n",
       "126760         1                      0                       1   \n",
       "\n",
       "        New Breed_Mixed  New Breed_Multi  New Breed_Single  \n",
       "12                    1                0                 0  \n",
       "14                    0                0                 1  \n",
       "23                    0                1                 0  \n",
       "33                    1                0                 0  \n",
       "49                    1                0                 0  \n",
       "...                 ...              ...               ...  \n",
       "126752                1                0                 0  \n",
       "126753                1                0                 0  \n",
       "126754                1                0                 0  \n",
       "126756                1                0                 0  \n",
       "126760                0                0                 1  \n",
       "\n",
       "[60407 rows x 16 columns]"
      ]
     },
     "execution_count": 4,
     "metadata": {},
     "output_type": "execute_result"
    }
   ],
   "source": [
    "#Get dataset for selected features -- all adoptions\n",
    "#remove irrelevant variables\n",
    "adoption_data_select = adoption_data.drop(['Sex_Female','Intake Status_Unknown','Intake Type_Public Assist',\n",
    "                                          'Sex_Unknown','Intake Type_Euthanasia Request','Intake Type_Abandoned',\n",
    "                                          'Outcome Status_Unknown'], axis =1)\n",
    "#Move duration to the first column\n",
    "first_col_all = adoption_data_select.pop('Duration')\n",
    "adoption_data_select.insert(0, 'Duration', first_col_all)\n",
    "\n",
    "adoption_data_select"
   ]
  },
  {
   "cell_type": "code",
   "execution_count": 5,
   "id": "95b69629",
   "metadata": {},
   "outputs": [
    {
     "data": {
      "text/html": [
       "<div>\n",
       "<style scoped>\n",
       "    .dataframe tbody tr th:only-of-type {\n",
       "        vertical-align: middle;\n",
       "    }\n",
       "\n",
       "    .dataframe tbody tr th {\n",
       "        vertical-align: top;\n",
       "    }\n",
       "\n",
       "    .dataframe thead th {\n",
       "        text-align: right;\n",
       "    }\n",
       "</style>\n",
       "<table border=\"1\" class=\"dataframe\">\n",
       "  <thead>\n",
       "    <tr style=\"text-align: right;\">\n",
       "      <th></th>\n",
       "      <th>Duration</th>\n",
       "      <th>Outcome Age</th>\n",
       "      <th>Intake Type_Owner Surrender</th>\n",
       "      <th>Intake Condition_0</th>\n",
       "      <th>Intake Condition_1</th>\n",
       "      <th>Intake Status_Intact</th>\n",
       "      <th>Intake Status_Sterile</th>\n",
       "      <th>Outcome Status_Sterile</th>\n",
       "      <th>Intake Type_Stray</th>\n",
       "    </tr>\n",
       "  </thead>\n",
       "  <tbody>\n",
       "    <tr>\n",
       "      <th>56</th>\n",
       "      <td>2.920820</td>\n",
       "      <td>14.173198</td>\n",
       "      <td>0</td>\n",
       "      <td>1</td>\n",
       "      <td>0</td>\n",
       "      <td>0</td>\n",
       "      <td>1</td>\n",
       "      <td>1</td>\n",
       "      <td>1</td>\n",
       "    </tr>\n",
       "    <tr>\n",
       "      <th>57</th>\n",
       "      <td>1.604705</td>\n",
       "      <td>14.486417</td>\n",
       "      <td>1</td>\n",
       "      <td>1</td>\n",
       "      <td>0</td>\n",
       "      <td>0</td>\n",
       "      <td>1</td>\n",
       "      <td>1</td>\n",
       "      <td>0</td>\n",
       "    </tr>\n",
       "    <tr>\n",
       "      <th>73</th>\n",
       "      <td>3.801525</td>\n",
       "      <td>14.266655</td>\n",
       "      <td>0</td>\n",
       "      <td>1</td>\n",
       "      <td>0</td>\n",
       "      <td>0</td>\n",
       "      <td>1</td>\n",
       "      <td>1</td>\n",
       "      <td>1</td>\n",
       "    </tr>\n",
       "    <tr>\n",
       "      <th>81</th>\n",
       "      <td>1.920468</td>\n",
       "      <td>14.364476</td>\n",
       "      <td>0</td>\n",
       "      <td>1</td>\n",
       "      <td>0</td>\n",
       "      <td>0</td>\n",
       "      <td>1</td>\n",
       "      <td>1</td>\n",
       "      <td>1</td>\n",
       "    </tr>\n",
       "    <tr>\n",
       "      <th>90</th>\n",
       "      <td>2.562346</td>\n",
       "      <td>14.138201</td>\n",
       "      <td>1</td>\n",
       "      <td>1</td>\n",
       "      <td>0</td>\n",
       "      <td>0</td>\n",
       "      <td>1</td>\n",
       "      <td>1</td>\n",
       "      <td>0</td>\n",
       "    </tr>\n",
       "    <tr>\n",
       "      <th>...</th>\n",
       "      <td>...</td>\n",
       "      <td>...</td>\n",
       "      <td>...</td>\n",
       "      <td>...</td>\n",
       "      <td>...</td>\n",
       "      <td>...</td>\n",
       "      <td>...</td>\n",
       "      <td>...</td>\n",
       "      <td>...</td>\n",
       "    </tr>\n",
       "    <tr>\n",
       "      <th>126738</th>\n",
       "      <td>1.457400</td>\n",
       "      <td>5.359999</td>\n",
       "      <td>1</td>\n",
       "      <td>1</td>\n",
       "      <td>0</td>\n",
       "      <td>1</td>\n",
       "      <td>0</td>\n",
       "      <td>1</td>\n",
       "      <td>0</td>\n",
       "    </tr>\n",
       "    <tr>\n",
       "      <th>126743</th>\n",
       "      <td>1.604705</td>\n",
       "      <td>9.888372</td>\n",
       "      <td>0</td>\n",
       "      <td>0</td>\n",
       "      <td>1</td>\n",
       "      <td>0</td>\n",
       "      <td>1</td>\n",
       "      <td>1</td>\n",
       "      <td>1</td>\n",
       "    </tr>\n",
       "    <tr>\n",
       "      <th>126752</th>\n",
       "      <td>1.026284</td>\n",
       "      <td>6.838251</td>\n",
       "      <td>1</td>\n",
       "      <td>1</td>\n",
       "      <td>0</td>\n",
       "      <td>1</td>\n",
       "      <td>0</td>\n",
       "      <td>1</td>\n",
       "      <td>0</td>\n",
       "    </tr>\n",
       "    <tr>\n",
       "      <th>126753</th>\n",
       "      <td>1.026284</td>\n",
       "      <td>6.838251</td>\n",
       "      <td>1</td>\n",
       "      <td>1</td>\n",
       "      <td>0</td>\n",
       "      <td>1</td>\n",
       "      <td>0</td>\n",
       "      <td>1</td>\n",
       "      <td>0</td>\n",
       "    </tr>\n",
       "    <tr>\n",
       "      <th>126754</th>\n",
       "      <td>1.026284</td>\n",
       "      <td>6.838251</td>\n",
       "      <td>1</td>\n",
       "      <td>1</td>\n",
       "      <td>0</td>\n",
       "      <td>1</td>\n",
       "      <td>0</td>\n",
       "      <td>1</td>\n",
       "      <td>0</td>\n",
       "    </tr>\n",
       "  </tbody>\n",
       "</table>\n",
       "<p>24154 rows × 9 columns</p>\n",
       "</div>"
      ],
      "text/plain": [
       "        Duration  Outcome Age  Intake Type_Owner Surrender  \\\n",
       "56      2.920820    14.173198                            0   \n",
       "57      1.604705    14.486417                            1   \n",
       "73      3.801525    14.266655                            0   \n",
       "81      1.920468    14.364476                            0   \n",
       "90      2.562346    14.138201                            1   \n",
       "...          ...          ...                          ...   \n",
       "126738  1.457400     5.359999                            1   \n",
       "126743  1.604705     9.888372                            0   \n",
       "126752  1.026284     6.838251                            1   \n",
       "126753  1.026284     6.838251                            1   \n",
       "126754  1.026284     6.838251                            1   \n",
       "\n",
       "        Intake Condition_0  Intake Condition_1  Intake Status_Intact  \\\n",
       "56                       1                   0                     0   \n",
       "57                       1                   0                     0   \n",
       "73                       1                   0                     0   \n",
       "81                       1                   0                     0   \n",
       "90                       1                   0                     0   \n",
       "...                    ...                 ...                   ...   \n",
       "126738                   1                   0                     1   \n",
       "126743                   0                   1                     0   \n",
       "126752                   1                   0                     1   \n",
       "126753                   1                   0                     1   \n",
       "126754                   1                   0                     1   \n",
       "\n",
       "        Intake Status_Sterile  Outcome Status_Sterile  Intake Type_Stray  \n",
       "56                          1                       1                  1  \n",
       "57                          1                       1                  0  \n",
       "73                          1                       1                  1  \n",
       "81                          1                       1                  1  \n",
       "90                          1                       1                  0  \n",
       "...                       ...                     ...                ...  \n",
       "126738                      0                       1                  0  \n",
       "126743                      1                       1                  1  \n",
       "126752                      0                       1                  0  \n",
       "126753                      0                       1                  0  \n",
       "126754                      0                       1                  0  \n",
       "\n",
       "[24154 rows x 9 columns]"
      ]
     },
     "execution_count": 5,
     "metadata": {},
     "output_type": "execute_result"
    }
   ],
   "source": [
    "#Get dataset for selected features -- cat adoptions\n",
    "#use subset of relevant features determined during feature selection\n",
    "cat_adoption_data_select = cat_adoption_data[[\"Duration\",\"Outcome Age\",\"Intake Type_Owner Surrender\",\n",
    "                                      \"Intake Condition_0\",\"Intake Condition_1\",\"Intake Status_Intact\",\n",
    "                                      \"Intake Status_Sterile\",\"Outcome Status_Sterile\",\"Intake Type_Stray\"]]\n",
    "\n",
    "cat_adoption_data_select"
   ]
  },
  {
   "cell_type": "code",
   "execution_count": 6,
   "id": "77016408",
   "metadata": {},
   "outputs": [
    {
     "data": {
      "text/html": [
       "<div>\n",
       "<style scoped>\n",
       "    .dataframe tbody tr th:only-of-type {\n",
       "        vertical-align: middle;\n",
       "    }\n",
       "\n",
       "    .dataframe tbody tr th {\n",
       "        vertical-align: top;\n",
       "    }\n",
       "\n",
       "    .dataframe thead th {\n",
       "        text-align: right;\n",
       "    }\n",
       "</style>\n",
       "<table border=\"1\" class=\"dataframe\">\n",
       "  <thead>\n",
       "    <tr style=\"text-align: right;\">\n",
       "      <th></th>\n",
       "      <th>Duration</th>\n",
       "      <th>Outcome Age</th>\n",
       "      <th>Intake Type_Owner Surrender</th>\n",
       "      <th>Intake Condition_0</th>\n",
       "      <th>Intake Condition_1</th>\n",
       "      <th>Intake Status_Intact</th>\n",
       "      <th>Intake Status_Sterile</th>\n",
       "      <th>Outcome Status_Intact</th>\n",
       "      <th>Intake Type_Public Assist</th>\n",
       "      <th>Intake Type_Stray</th>\n",
       "      <th>Sex_Female</th>\n",
       "    </tr>\n",
       "  </thead>\n",
       "  <tbody>\n",
       "    <tr>\n",
       "      <th>12</th>\n",
       "      <td>3.103873</td>\n",
       "      <td>14.916529</td>\n",
       "      <td>1</td>\n",
       "      <td>1</td>\n",
       "      <td>0</td>\n",
       "      <td>0</td>\n",
       "      <td>1</td>\n",
       "      <td>0</td>\n",
       "      <td>0</td>\n",
       "      <td>0</td>\n",
       "      <td>0</td>\n",
       "    </tr>\n",
       "    <tr>\n",
       "      <th>14</th>\n",
       "      <td>1.999925</td>\n",
       "      <td>15.114757</td>\n",
       "      <td>0</td>\n",
       "      <td>0</td>\n",
       "      <td>1</td>\n",
       "      <td>0</td>\n",
       "      <td>1</td>\n",
       "      <td>0</td>\n",
       "      <td>1</td>\n",
       "      <td>0</td>\n",
       "      <td>0</td>\n",
       "    </tr>\n",
       "    <tr>\n",
       "      <th>23</th>\n",
       "      <td>2.621074</td>\n",
       "      <td>14.783650</td>\n",
       "      <td>0</td>\n",
       "      <td>1</td>\n",
       "      <td>0</td>\n",
       "      <td>0</td>\n",
       "      <td>1</td>\n",
       "      <td>0</td>\n",
       "      <td>0</td>\n",
       "      <td>1</td>\n",
       "      <td>0</td>\n",
       "    </tr>\n",
       "    <tr>\n",
       "      <th>33</th>\n",
       "      <td>3.444960</td>\n",
       "      <td>14.871002</td>\n",
       "      <td>0</td>\n",
       "      <td>1</td>\n",
       "      <td>0</td>\n",
       "      <td>0</td>\n",
       "      <td>1</td>\n",
       "      <td>0</td>\n",
       "      <td>0</td>\n",
       "      <td>1</td>\n",
       "      <td>1</td>\n",
       "    </tr>\n",
       "    <tr>\n",
       "      <th>49</th>\n",
       "      <td>1.272469</td>\n",
       "      <td>14.008931</td>\n",
       "      <td>0</td>\n",
       "      <td>1</td>\n",
       "      <td>0</td>\n",
       "      <td>0</td>\n",
       "      <td>1</td>\n",
       "      <td>0</td>\n",
       "      <td>0</td>\n",
       "      <td>1</td>\n",
       "      <td>1</td>\n",
       "    </tr>\n",
       "    <tr>\n",
       "      <th>...</th>\n",
       "      <td>...</td>\n",
       "      <td>...</td>\n",
       "      <td>...</td>\n",
       "      <td>...</td>\n",
       "      <td>...</td>\n",
       "      <td>...</td>\n",
       "      <td>...</td>\n",
       "      <td>...</td>\n",
       "      <td>...</td>\n",
       "      <td>...</td>\n",
       "      <td>...</td>\n",
       "    </tr>\n",
       "    <tr>\n",
       "      <th>126740</th>\n",
       "      <td>1.457400</td>\n",
       "      <td>8.128098</td>\n",
       "      <td>1</td>\n",
       "      <td>1</td>\n",
       "      <td>0</td>\n",
       "      <td>1</td>\n",
       "      <td>0</td>\n",
       "      <td>0</td>\n",
       "      <td>0</td>\n",
       "      <td>0</td>\n",
       "      <td>0</td>\n",
       "    </tr>\n",
       "    <tr>\n",
       "      <th>126750</th>\n",
       "      <td>0.663872</td>\n",
       "      <td>5.636692</td>\n",
       "      <td>1</td>\n",
       "      <td>1</td>\n",
       "      <td>0</td>\n",
       "      <td>1</td>\n",
       "      <td>0</td>\n",
       "      <td>0</td>\n",
       "      <td>0</td>\n",
       "      <td>0</td>\n",
       "      <td>0</td>\n",
       "    </tr>\n",
       "    <tr>\n",
       "      <th>126751</th>\n",
       "      <td>0.663872</td>\n",
       "      <td>5.636692</td>\n",
       "      <td>1</td>\n",
       "      <td>1</td>\n",
       "      <td>0</td>\n",
       "      <td>1</td>\n",
       "      <td>0</td>\n",
       "      <td>0</td>\n",
       "      <td>0</td>\n",
       "      <td>0</td>\n",
       "      <td>0</td>\n",
       "    </tr>\n",
       "    <tr>\n",
       "      <th>126756</th>\n",
       "      <td>1.026284</td>\n",
       "      <td>14.719901</td>\n",
       "      <td>1</td>\n",
       "      <td>0</td>\n",
       "      <td>1</td>\n",
       "      <td>0</td>\n",
       "      <td>1</td>\n",
       "      <td>0</td>\n",
       "      <td>0</td>\n",
       "      <td>0</td>\n",
       "      <td>0</td>\n",
       "    </tr>\n",
       "    <tr>\n",
       "      <th>126760</th>\n",
       "      <td>0.663872</td>\n",
       "      <td>6.826685</td>\n",
       "      <td>1</td>\n",
       "      <td>1</td>\n",
       "      <td>0</td>\n",
       "      <td>1</td>\n",
       "      <td>0</td>\n",
       "      <td>0</td>\n",
       "      <td>0</td>\n",
       "      <td>0</td>\n",
       "      <td>0</td>\n",
       "    </tr>\n",
       "  </tbody>\n",
       "</table>\n",
       "<p>36253 rows × 11 columns</p>\n",
       "</div>"
      ],
      "text/plain": [
       "        Duration  Outcome Age  Intake Type_Owner Surrender  \\\n",
       "12      3.103873    14.916529                            1   \n",
       "14      1.999925    15.114757                            0   \n",
       "23      2.621074    14.783650                            0   \n",
       "33      3.444960    14.871002                            0   \n",
       "49      1.272469    14.008931                            0   \n",
       "...          ...          ...                          ...   \n",
       "126740  1.457400     8.128098                            1   \n",
       "126750  0.663872     5.636692                            1   \n",
       "126751  0.663872     5.636692                            1   \n",
       "126756  1.026284    14.719901                            1   \n",
       "126760  0.663872     6.826685                            1   \n",
       "\n",
       "        Intake Condition_0  Intake Condition_1  Intake Status_Intact  \\\n",
       "12                       1                   0                     0   \n",
       "14                       0                   1                     0   \n",
       "23                       1                   0                     0   \n",
       "33                       1                   0                     0   \n",
       "49                       1                   0                     0   \n",
       "...                    ...                 ...                   ...   \n",
       "126740                   1                   0                     1   \n",
       "126750                   1                   0                     1   \n",
       "126751                   1                   0                     1   \n",
       "126756                   0                   1                     0   \n",
       "126760                   1                   0                     1   \n",
       "\n",
       "        Intake Status_Sterile  Outcome Status_Intact  \\\n",
       "12                          1                      0   \n",
       "14                          1                      0   \n",
       "23                          1                      0   \n",
       "33                          1                      0   \n",
       "49                          1                      0   \n",
       "...                       ...                    ...   \n",
       "126740                      0                      0   \n",
       "126750                      0                      0   \n",
       "126751                      0                      0   \n",
       "126756                      1                      0   \n",
       "126760                      0                      0   \n",
       "\n",
       "        Intake Type_Public Assist  Intake Type_Stray  Sex_Female  \n",
       "12                              0                  0           0  \n",
       "14                              1                  0           0  \n",
       "23                              0                  1           0  \n",
       "33                              0                  1           1  \n",
       "49                              0                  1           1  \n",
       "...                           ...                ...         ...  \n",
       "126740                          0                  0           0  \n",
       "126750                          0                  0           0  \n",
       "126751                          0                  0           0  \n",
       "126756                          0                  0           0  \n",
       "126760                          0                  0           0  \n",
       "\n",
       "[36253 rows x 11 columns]"
      ]
     },
     "execution_count": 6,
     "metadata": {},
     "output_type": "execute_result"
    }
   ],
   "source": [
    "#Get dataset for selected features -- dog adoptions\n",
    "#use subset of relevant features determined during feature selection\n",
    "dog_adoption_data_select = dog_adoption_data[[\"Duration\",\"Outcome Age\",\"Intake Type_Owner Surrender\",\n",
    "                                              \"Intake Condition_0\",\"Intake Condition_1\",\"Intake Status_Intact\",\n",
    "                                              \"Intake Status_Sterile\",\"Outcome Status_Intact\",\"Intake Type_Public Assist\",\n",
    "                                              \"Intake Type_Stray\",\"Sex_Female\"]]\n",
    "\n",
    "dog_adoption_data_select"
   ]
  },
  {
   "cell_type": "markdown",
   "id": "5f166fe7",
   "metadata": {},
   "source": [
    "# Define X and y variables for each subset, create 70/30 train/test split"
   ]
  },
  {
   "cell_type": "code",
   "execution_count": 7,
   "id": "a65d149d",
   "metadata": {},
   "outputs": [],
   "source": [
    "#Get X and y values for each subset and set of features\n",
    "X = adoption_data[feat_cols]\n",
    "y = adoption_data['Duration']\n",
    "\n",
    "X_fs = adoption_data_select.drop('Duration',axis = 1)\n",
    "y_fs = adoption_data_select['Duration']\n",
    "\n",
    "X_cat = cat_adoption_data[feat_cols_cats]\n",
    "y_cat = cat_adoption_data['Duration']\n",
    "\n",
    "X_cat_fs = cat_adoption_data_select.drop('Duration',axis = 1)\n",
    "y_cat_fs = cat_adoption_data_select['Duration']\n",
    "\n",
    "X_dog = dog_adoption_data[feat_cols_dogs]\n",
    "y_dog = dog_adoption_data['Duration']\n",
    "\n",
    "X_dog_fs = dog_adoption_data_select.drop('Duration',axis = 1)\n",
    "y_dog_fs = dog_adoption_data_select['Duration']"
   ]
  },
  {
   "cell_type": "code",
   "execution_count": 8,
   "id": "dca26d95",
   "metadata": {},
   "outputs": [
    {
     "name": "stdout",
     "output_type": "stream",
     "text": [
      "Shape of original data (60407, 22)\n"
     ]
    }
   ],
   "source": [
    "#All adoptions\n",
    "print(\"Shape of original data\",X.shape)\n",
    "# split into train and test sets\n",
    "X_train, X_test, y_train, y_test = train_test_split(X, y, test_size=0.3, random_state=seed)"
   ]
  },
  {
   "cell_type": "code",
   "execution_count": 9,
   "id": "22c088b1",
   "metadata": {},
   "outputs": [
    {
     "name": "stdout",
     "output_type": "stream",
     "text": [
      "Shape of original data (60407, 15)\n"
     ]
    }
   ],
   "source": [
    "#All adoptions -- with feature selection\n",
    "print(\"Shape of original data\",X_fs.shape)\n",
    "# split into train and test sets\n",
    "X_fs_train, X_fs_test, y_fs_train, y_fs_test = train_test_split(X_fs, y_fs, test_size=0.3, random_state=seed)"
   ]
  },
  {
   "cell_type": "code",
   "execution_count": 10,
   "id": "a50b3108",
   "metadata": {},
   "outputs": [
    {
     "name": "stdout",
     "output_type": "stream",
     "text": [
      "Shape of original data (24154, 20)\n"
     ]
    }
   ],
   "source": [
    "#All CAT adoptions\n",
    "print(\"Shape of original data\",X_cat.shape)\n",
    "# split into train and test sets\n",
    "X_cat_train, X_cat_test, y_cat_train, y_cat_test = train_test_split(X_cat, y_cat, test_size=0.3, random_state=seed)"
   ]
  },
  {
   "cell_type": "code",
   "execution_count": 11,
   "id": "1e823222",
   "metadata": {},
   "outputs": [
    {
     "name": "stdout",
     "output_type": "stream",
     "text": [
      "Shape of original data (24154, 8)\n"
     ]
    }
   ],
   "source": [
    "#All CAT adoptions -- with feature selection\n",
    "print(\"Shape of original data\",X_cat_fs.shape)\n",
    "# split into train and test sets\n",
    "X_cat_fs_train, X_cat_fs_test, y_cat_fs_train, y_cat_fs_test = train_test_split(X_cat_fs, y_cat_fs, \n",
    "                                                                                test_size=0.3, random_state=seed)"
   ]
  },
  {
   "cell_type": "code",
   "execution_count": 12,
   "id": "521514c9",
   "metadata": {},
   "outputs": [
    {
     "name": "stdout",
     "output_type": "stream",
     "text": [
      "Shape of original data (36253, 20)\n"
     ]
    }
   ],
   "source": [
    "#All DOG adoptions\n",
    "print(\"Shape of original data\",X_dog.shape)\n",
    "# split into train and test sets\n",
    "X_dog_train, X_dog_test, y_dog_train, y_dog_test = train_test_split(X_dog, y_dog, test_size=0.3, random_state=seed)"
   ]
  },
  {
   "cell_type": "code",
   "execution_count": 13,
   "id": "e673817f",
   "metadata": {},
   "outputs": [
    {
     "name": "stdout",
     "output_type": "stream",
     "text": [
      "Shape of original data (24154, 8)\n"
     ]
    }
   ],
   "source": [
    "#All DOG adoptions -- with feature selection\n",
    "print(\"Shape of original data\",X_cat_fs.shape)\n",
    "# split into train and test sets\n",
    "X_dog_fs_train, X_dog_fs_test, y_dog_fs_train, y_dog_fs_test = train_test_split(X_dog_fs, y_dog_fs, \n",
    "                                                                                test_size=0.3, random_state=seed)"
   ]
  },
  {
   "cell_type": "markdown",
   "id": "d716e082",
   "metadata": {},
   "source": [
    "# Scaling of data"
   ]
  },
  {
   "cell_type": "code",
   "execution_count": 14,
   "id": "804378b4",
   "metadata": {},
   "outputs": [],
   "source": [
    "#Performing Feature Scaling -- All adoptions\n",
    "from sklearn.preprocessing import StandardScaler\n",
    "sc = StandardScaler()\n",
    "X_train = sc.fit_transform(X_train)\n",
    "X_test = sc.transform(X_test)"
   ]
  },
  {
   "cell_type": "code",
   "execution_count": 15,
   "id": "e8518b0c",
   "metadata": {},
   "outputs": [],
   "source": [
    "#Performing Feature Scaling -- All adoptions -- with feature selection\n",
    "from sklearn.preprocessing import StandardScaler\n",
    "sc_fs = StandardScaler()\n",
    "X_fs_train = sc_fs.fit_transform(X_fs_train)\n",
    "X_fs_test = sc_fs.transform(X_fs_test)"
   ]
  },
  {
   "cell_type": "code",
   "execution_count": 16,
   "id": "0b20c16b",
   "metadata": {},
   "outputs": [],
   "source": [
    "#Performing Feature Scaling -- All CAT adoptions\n",
    "from sklearn.preprocessing import StandardScaler\n",
    "sc_cat = StandardScaler()\n",
    "X_cat_train = sc_cat.fit_transform(X_cat_train)\n",
    "X_cat_test = sc_cat.transform(X_cat_test)"
   ]
  },
  {
   "cell_type": "code",
   "execution_count": 17,
   "id": "3274ddbe",
   "metadata": {},
   "outputs": [],
   "source": [
    "#Performing Feature Scaling -- All CAT adoptions -- with feature selection\n",
    "from sklearn.preprocessing import StandardScaler\n",
    "sc_fs_cat = StandardScaler()\n",
    "X_fs_cat_train = sc_fs_cat.fit_transform(X_cat_fs_train)\n",
    "X_fs_cat_test = sc_fs_cat.transform(X_cat_fs_test)"
   ]
  },
  {
   "cell_type": "code",
   "execution_count": 18,
   "id": "93b74db4",
   "metadata": {},
   "outputs": [],
   "source": [
    "#Performing Feature Scaling -- All DOG adoptions\n",
    "from sklearn.preprocessing import StandardScaler\n",
    "sc_dog = StandardScaler()\n",
    "X_dog_train = sc_dog.fit_transform(X_dog_train)\n",
    "X_dog_test = sc_dog.transform(X_dog_test)"
   ]
  },
  {
   "cell_type": "code",
   "execution_count": 19,
   "id": "7c5936f1",
   "metadata": {},
   "outputs": [],
   "source": [
    "#Performing Feature Scaling -- All DOG adoptions -- with feature selection\n",
    "from sklearn.preprocessing import StandardScaler\n",
    "sc_fs_dog = StandardScaler()\n",
    "X_fs_dog_train = sc_fs_dog.fit_transform(X_dog_fs_train)\n",
    "X_fs_dog_test = sc_fs_dog.transform(X_dog_fs_test)"
   ]
  },
  {
   "cell_type": "markdown",
   "id": "cfee9122",
   "metadata": {},
   "source": [
    "# Define Function for Computing Evaluation Metrics"
   ]
  },
  {
   "cell_type": "code",
   "execution_count": 20,
   "id": "d11bad3c",
   "metadata": {},
   "outputs": [],
   "source": [
    "# evaluate predictions\n",
    "def compute_metrics(model,data,y_train_set, y_train_pred, y_test_set, y_test_pred):\n",
    "    print(\"Model:\",model)\n",
    "    print(\"Data:\",data)\n",
    "    mae_train = mean_absolute_error(y_train_set, y_train_pred)\n",
    "    print('MAE Train: %.3f' % mae_train)\n",
    "    mae_test = mean_absolute_error(y_test_set, y_test_pred)\n",
    "    print('MAE Test: %.3f' % mae_test)\n",
    "    mse_train = mean_squared_error(y_train_set, y_train_pred)\n",
    "    print('MSE Train: %.3f' % mse_train)\n",
    "    mse_test = mean_squared_error(y_test_set, y_test_pred)\n",
    "    print('MSE Test: %.3f' % mse_test)\n",
    "    r2_train = r2_score(y_train_set, y_train_pred)\n",
    "    print('R-squared Train: %.3f' % r2_train)\n",
    "    r2_test = r2_score(y_test_set, y_test_pred)\n",
    "    print('R-squared Test: %.3f' % r2_test)"
   ]
  },
  {
   "cell_type": "markdown",
   "id": "0998bdc1",
   "metadata": {},
   "source": [
    "# ALL ADOPTIONS"
   ]
  },
  {
   "cell_type": "markdown",
   "id": "128fefa3",
   "metadata": {},
   "source": [
    "# Lasso Regression"
   ]
  },
  {
   "cell_type": "code",
   "execution_count": 21,
   "id": "c6a3585f",
   "metadata": {},
   "outputs": [
    {
     "data": {
      "text/plain": [
       "Lasso(alpha=1)"
      ]
     },
     "execution_count": 21,
     "metadata": {},
     "output_type": "execute_result"
    }
   ],
   "source": [
    "#Train a lasso regression model\n",
    "lasso_all = Lasso(alpha=1)\n",
    "lasso_all.fit(X_train, y_train)"
   ]
  },
  {
   "cell_type": "code",
   "execution_count": 22,
   "id": "2b76cd3e",
   "metadata": {},
   "outputs": [],
   "source": [
    "#Use the lasso model to predict duration\n",
    "lasso_all_train_pred = lasso_all.predict(X_train)\n",
    "lasso_all_test_pred = lasso_all.predict(X_test)"
   ]
  },
  {
   "cell_type": "code",
   "execution_count": 23,
   "id": "dc7944ae",
   "metadata": {},
   "outputs": [
    {
     "name": "stdout",
     "output_type": "stream",
     "text": [
      "Model: Lasso Regression\n",
      "Data: All Adoption - all features\n",
      "MAE Train: 0.707\n",
      "MAE Test: 0.705\n",
      "MSE Train: 0.682\n",
      "MSE Test: 0.677\n",
      "R-squared Train: 0.000\n",
      "R-squared Test: -0.000\n"
     ]
    }
   ],
   "source": [
    "compute_metrics(\"Lasso Regression\",\"All Adoption - all features\",\n",
    "                y_train, lasso_all_train_pred, y_test, lasso_all_test_pred)"
   ]
  },
  {
   "cell_type": "code",
   "execution_count": 24,
   "id": "d606c976",
   "metadata": {},
   "outputs": [],
   "source": [
    "#Now use selected features\n",
    "lasso_all_fs = Lasso(alpha=1)\n",
    "lasso_all_fs.fit(X_fs_train, y_fs_train)\n",
    "\n",
    "#Use the lasso model to predict duration\n",
    "lasso_all_fs_train_pred = lasso_all_fs.predict(X_fs_train)\n",
    "lasso_all_fs_test_pred = lasso_all_fs.predict(X_fs_test)"
   ]
  },
  {
   "cell_type": "code",
   "execution_count": 25,
   "id": "718b409f",
   "metadata": {},
   "outputs": [
    {
     "name": "stdout",
     "output_type": "stream",
     "text": [
      "Model: Lasso Regression\n",
      "Data: All Adoption - selected features\n",
      "MAE Train: 0.707\n",
      "MAE Test: 0.705\n",
      "MSE Train: 0.682\n",
      "MSE Test: 0.677\n",
      "R-squared Train: 0.000\n",
      "R-squared Test: -0.000\n"
     ]
    }
   ],
   "source": [
    "compute_metrics(\"Lasso Regression\",\"All Adoption - selected features\",\n",
    "                y_fs_train, lasso_all_fs_train_pred, y_fs_test, lasso_all_fs_test_pred)"
   ]
  },
  {
   "cell_type": "markdown",
   "id": "57cd07ad",
   "metadata": {},
   "source": [
    "# Ridge Regression"
   ]
  },
  {
   "cell_type": "code",
   "execution_count": 26,
   "id": "613d53f6",
   "metadata": {},
   "outputs": [],
   "source": [
    "#Train a ridge regression model\n",
    "ridge_all = Ridge()\n",
    "ridge_all.fit(X_train, y_train)\n",
    "\n",
    "ridge_all_train_pred = ridge_all.predict(X_train)\n",
    "ridge_all_test_pred = ridge_all.predict(X_test)"
   ]
  },
  {
   "cell_type": "code",
   "execution_count": 27,
   "id": "6fdda7d1",
   "metadata": {},
   "outputs": [
    {
     "name": "stdout",
     "output_type": "stream",
     "text": [
      "Model: Ridge Regression\n",
      "Data: All Adoption - all features\n",
      "MAE Train: 0.619\n",
      "MAE Test: 0.624\n",
      "MSE Train: 0.556\n",
      "MSE Test: 0.560\n",
      "R-squared Train: 0.185\n",
      "R-squared Test: 0.173\n"
     ]
    }
   ],
   "source": [
    "compute_metrics(\"Ridge Regression\",\"All Adoption - all features\",\n",
    "                y_train, ridge_all_train_pred, y_test, ridge_all_test_pred)"
   ]
  },
  {
   "cell_type": "code",
   "execution_count": 28,
   "id": "6b916955",
   "metadata": {},
   "outputs": [],
   "source": [
    "#Now use selected features\n",
    "ridge_all_fs = Ridge()\n",
    "ridge_all_fs.fit(X_fs_train, y_fs_train)\n",
    "\n",
    "ridge_all_fs_train_pred = ridge_all_fs.predict(X_fs_train)\n",
    "ridge_all_fs_test_pred = ridge_all_fs.predict(X_fs_test)"
   ]
  },
  {
   "cell_type": "code",
   "execution_count": 29,
   "id": "47f7f804",
   "metadata": {},
   "outputs": [
    {
     "name": "stdout",
     "output_type": "stream",
     "text": [
      "Model: Ridge Regression\n",
      "Data: All Adoption - selected features\n",
      "MAE Train: 0.620\n",
      "MAE Test: 0.624\n",
      "MSE Train: 0.556\n",
      "MSE Test: 0.560\n",
      "R-squared Train: 0.184\n",
      "R-squared Test: 0.173\n"
     ]
    }
   ],
   "source": [
    "compute_metrics(\"Ridge Regression\",\"All Adoption - selected features\",\n",
    "                y_fs_train, ridge_all_fs_train_pred, y_fs_test, ridge_all_fs_test_pred)"
   ]
  },
  {
   "cell_type": "markdown",
   "id": "3f5e555f",
   "metadata": {},
   "source": [
    "# Regression Tree"
   ]
  },
  {
   "cell_type": "code",
   "execution_count": 30,
   "id": "797b4878",
   "metadata": {},
   "outputs": [],
   "source": [
    "#train regression tree model\n",
    "rt = DecisionTreeRegressor(max_depth = 10, random_state = seed) \n",
    "  \n",
    "# fit the regressor with X and Y data\n",
    "rt.fit(X_train, y_train)\n",
    "\n",
    "#use regression tree to predict duration\n",
    "rt_all_train_pred = rt.predict(X_train)\n",
    "rt_all_test_pred = rt.predict(X_test)"
   ]
  },
  {
   "cell_type": "code",
   "execution_count": 31,
   "id": "f042fcfe",
   "metadata": {},
   "outputs": [
    {
     "name": "stdout",
     "output_type": "stream",
     "text": [
      "Model: Regression Tree\n",
      "Data: All Adoption - all features\n",
      "MAE Train: 0.443\n",
      "MAE Test: 0.467\n",
      "MSE Train: 0.373\n",
      "MSE Test: 0.414\n",
      "R-squared Train: 0.453\n",
      "R-squared Test: 0.389\n"
     ]
    }
   ],
   "source": [
    "compute_metrics(\"Regression Tree\",\"All Adoption - all features\",y_train, rt_all_train_pred, y_test, rt_all_test_pred)"
   ]
  },
  {
   "cell_type": "code",
   "execution_count": 32,
   "id": "17447111",
   "metadata": {},
   "outputs": [],
   "source": [
    "#repeat with feature selection\n",
    "rt_fs = DecisionTreeRegressor(max_depth = 10, random_state = seed) \n",
    "  \n",
    "# fit the regressor with X and Y data\n",
    "rt_fs.fit(X_fs_train, y_fs_train)\n",
    "\n",
    "#use regression tree to predict duration\n",
    "rt_all_fs_train_pred = rt_fs.predict(X_fs_train)\n",
    "rt_all_fs_test_pred = rt_fs.predict(X_fs_test)"
   ]
  },
  {
   "cell_type": "code",
   "execution_count": 33,
   "id": "990edc0b",
   "metadata": {},
   "outputs": [
    {
     "name": "stdout",
     "output_type": "stream",
     "text": [
      "Model: Regression Tree\n",
      "Data: All Adoption - selected features\n",
      "MAE Train: 0.443\n",
      "MAE Test: 0.467\n",
      "MSE Train: 0.373\n",
      "MSE Test: 0.413\n",
      "R-squared Train: 0.453\n",
      "R-squared Test: 0.390\n"
     ]
    }
   ],
   "source": [
    "compute_metrics(\"Regression Tree\",\"All Adoption - selected features\",\n",
    "                y_fs_train, rt_all_fs_train_pred, y_fs_test, rt_all_fs_test_pred)"
   ]
  },
  {
   "cell_type": "markdown",
   "id": "0d4730ae",
   "metadata": {},
   "source": [
    "# Random Forest"
   ]
  },
  {
   "cell_type": "code",
   "execution_count": 34,
   "id": "ba2569ab",
   "metadata": {},
   "outputs": [],
   "source": [
    "#Train random forest model\n",
    "rf = RandomForestRegressor(max_depth = 10, random_state = seed)\n",
    "rf.fit(X_train, y_train)\n",
    "\n",
    "# Make prediction\n",
    "rf_all_train_pred = rf.predict(X_train)\n",
    "rf_all_test_pred = rf.predict(X_test)"
   ]
  },
  {
   "cell_type": "code",
   "execution_count": 35,
   "id": "d9b9088c",
   "metadata": {},
   "outputs": [
    {
     "name": "stdout",
     "output_type": "stream",
     "text": [
      "Model: Random Forest\n",
      "Data: All Adoption - all features\n",
      "MAE Train: 0.436\n",
      "MAE Test: 0.457\n",
      "MSE Train: 0.356\n",
      "MSE Test: 0.392\n",
      "R-squared Train: 0.478\n",
      "R-squared Test: 0.421\n"
     ]
    }
   ],
   "source": [
    "compute_metrics(\"Random Forest\",\"All Adoption - all features\",y_train, rf_all_train_pred , y_test, rf_all_test_pred)"
   ]
  },
  {
   "cell_type": "code",
   "execution_count": 36,
   "id": "fce65d24",
   "metadata": {},
   "outputs": [],
   "source": [
    "#Repeat with selected features\n",
    "rf_fs = RandomForestRegressor(max_depth = 10, random_state = seed)\n",
    "rf_fs.fit(X_fs_train, y_fs_train)\n",
    "\n",
    "# Make prediction\n",
    "rf_all_fs_train_pred = rf_fs.predict(X_fs_train)\n",
    "rf_all_fs_test_pred = rf_fs.predict(X_fs_test)"
   ]
  },
  {
   "cell_type": "code",
   "execution_count": 37,
   "id": "7fa945a8",
   "metadata": {},
   "outputs": [
    {
     "name": "stdout",
     "output_type": "stream",
     "text": [
      "Model: Random Forest\n",
      "Data: All Adoption - selected features\n",
      "MAE Train: 0.436\n",
      "MAE Test: 0.457\n",
      "MSE Train: 0.356\n",
      "MSE Test: 0.392\n",
      "R-squared Train: 0.478\n",
      "R-squared Test: 0.421\n"
     ]
    }
   ],
   "source": [
    "compute_metrics(\"Random Forest\",\"All Adoption - selected features\",y_fs_train, rf_all_fs_train_pred,\n",
    "                y_fs_test, rf_all_fs_test_pred)"
   ]
  },
  {
   "cell_type": "markdown",
   "id": "f395ccd1",
   "metadata": {},
   "source": [
    "# Ada Boost"
   ]
  },
  {
   "cell_type": "code",
   "execution_count": 38,
   "id": "6a9cf99d",
   "metadata": {},
   "outputs": [
    {
     "name": "stdout",
     "output_type": "stream",
     "text": [
      "Best: 0.209443 using {'learning_rate': 0.1, 'n_estimators': 10}\n"
     ]
    }
   ],
   "source": [
    "#build AdaBoost model\n",
    "ada = AdaBoostRegressor(random_state=seed)\n",
    "ada.fit(X_train, y_train)\n",
    "\n",
    "param_gridada = {'n_estimators': (10, 50, 100),\n",
    "              'learning_rate': (.1, .5, 1),\n",
    "             }\n",
    "\n",
    "gridada = GridSearchCV(ada, param_gridada, scoring = 'r2' )\n",
    "gridada.fit(X_train,y_train)\n",
    "\n",
    "\n",
    "# Make prediction\n",
    "ada_all_test_pred = gridada.predict(X_test)\n",
    "ada_all_train_pred = gridada.predict(X_train)\n",
    "\n",
    "print(\"Best: %f using %s\" % (gridada.best_score_, gridada.best_params_))"
   ]
  },
  {
   "cell_type": "code",
   "execution_count": 39,
   "id": "9060b9c1",
   "metadata": {},
   "outputs": [
    {
     "name": "stdout",
     "output_type": "stream",
     "text": [
      "Model: Adaboost\n",
      "Data: All Adoptions - all features\n",
      "MAE Train: 0.589\n",
      "MAE Test: 0.592\n",
      "MSE Train: 0.539\n",
      "MSE Test: 0.540\n",
      "R-squared Train: 0.209\n",
      "R-squared Test: 0.202\n"
     ]
    }
   ],
   "source": [
    "compute_metrics(\"Adaboost\",\"All Adoptions - all features\",y_train, ada_all_train_pred, y_test, ada_all_test_pred)"
   ]
  },
  {
   "cell_type": "code",
   "execution_count": 40,
   "id": "d71ea1de",
   "metadata": {},
   "outputs": [
    {
     "name": "stdout",
     "output_type": "stream",
     "text": [
      "Best: 0.209443 using {'learning_rate': 0.1, 'n_estimators': 10}\n"
     ]
    }
   ],
   "source": [
    "#Repeat with feature selection\n",
    "ada_fs = AdaBoostRegressor(random_state=seed)\n",
    "ada_fs.fit(X_fs_train, y_fs_train)\n",
    "\n",
    "gridadafs = GridSearchCV(ada_fs, param_gridada)\n",
    "gridadafs.fit(X_fs_train, y_fs_train)\n",
    "\n",
    "# Make prediction\n",
    "ada_all_fs_test_pred = gridadafs.predict(X_fs_test)\n",
    "ada_all_fs_train_pred = gridadafs.predict(X_fs_train)\n",
    "\n",
    "print(\"Best: %f using %s\" % (gridadafs.best_score_, gridadafs.best_params_))"
   ]
  },
  {
   "cell_type": "code",
   "execution_count": 41,
   "id": "bc7b62d6",
   "metadata": {},
   "outputs": [
    {
     "name": "stdout",
     "output_type": "stream",
     "text": [
      "Model: Adaboost\n",
      "Data: All Adoption - selected features\n",
      "MAE Train: 0.589\n",
      "MAE Test: 0.592\n",
      "MSE Train: 0.539\n",
      "MSE Test: 0.540\n",
      "R-squared Train: 0.209\n",
      "R-squared Test: 0.202\n"
     ]
    }
   ],
   "source": [
    "compute_metrics(\"Adaboost\",\"All Adoption - selected features\",y_fs_train,\n",
    "                ada_all_fs_train_pred, y_fs_test, ada_all_fs_test_pred)"
   ]
  },
  {
   "cell_type": "markdown",
   "id": "a04c889a",
   "metadata": {},
   "source": [
    "# Neural Network"
   ]
  },
  {
   "cell_type": "code",
   "execution_count": 42,
   "id": "19cf4381",
   "metadata": {},
   "outputs": [
    {
     "name": "stdout",
     "output_type": "stream",
     "text": [
      "Best: 0.242276 using {'hidden_layer_sizes': (25, 25), 'learning_rate': 'constant'}\n"
     ]
    }
   ],
   "source": [
    "#Train a neural network model\n",
    "nn = MLPRegressor(activation = 'relu', max_iter = 10000, random_state = seed)\n",
    "nn.fit(X_train, y_train)\n",
    "\n",
    "param_gridnn = {'hidden_layer_sizes': [(20,20),(25,25), (30,30),(35,35), (40,40)],\n",
    "                'learning_rate': ('constant', 'invscaling', 'adaptive')\n",
    "             }\n",
    "\n",
    "gridnn = GridSearchCV(nn, param_gridnn, scoring = 'r2' )\n",
    "gridnn.fit(X_train,y_train)\n",
    "\n",
    "\n",
    "# Make prediction\n",
    "nn_all_test_pred = gridnn.predict(X_test)\n",
    "nn_all_train_pred = gridnn.predict(X_train)\n",
    "\n",
    "print(\"Best: %f using %s\" % (gridnn.best_score_, gridnn.best_params_))\n"
   ]
  },
  {
   "cell_type": "code",
   "execution_count": 43,
   "id": "1411572b",
   "metadata": {},
   "outputs": [
    {
     "name": "stdout",
     "output_type": "stream",
     "text": [
      "Model: Neural Network\n",
      "Data: All Adoption - all features\n",
      "MAE Train: 0.580\n",
      "MAE Test: 0.587\n",
      "MSE Train: 0.512\n",
      "MSE Test: 0.521\n",
      "R-squared Train: 0.249\n",
      "R-squared Test: 0.231\n"
     ]
    }
   ],
   "source": [
    "compute_metrics(\"Neural Network\",\"All Adoption - all features\",y_train, nn_all_train_pred, y_test, nn_all_test_pred)"
   ]
  },
  {
   "cell_type": "code",
   "execution_count": 44,
   "id": "7fabd1c5",
   "metadata": {},
   "outputs": [
    {
     "name": "stdout",
     "output_type": "stream",
     "text": [
      "Best: 0.244742 using {'hidden_layer_sizes': (30, 30), 'learning_rate': 'constant'}\n"
     ]
    }
   ],
   "source": [
    "#Repeat with selected features\n",
    "nn_fs = MLPRegressor(activation = 'relu', max_iter = 10000, random_state = seed)\n",
    "nn_fs.fit(X_fs_train, y_fs_train)\n",
    "\n",
    "\n",
    "gridnnfs = GridSearchCV(nn_fs, param_gridnn, scoring = 'r2' )\n",
    "gridnnfs.fit(X_fs_train,y_fs_train)\n",
    "\n",
    "# Make prediction\n",
    "nn_all_fs_test_pred = nn_fs.predict(X_fs_test)\n",
    "nn_all_fs_train_pred = nn_fs.predict(X_fs_train)\n",
    "\n",
    "print(\"Best: %f using %s\" % (gridnnfs.best_score_, gridnnfs.best_params_))\n"
   ]
  },
  {
   "cell_type": "code",
   "execution_count": 45,
   "id": "1e44cee0",
   "metadata": {
    "scrolled": true
   },
   "outputs": [
    {
     "name": "stdout",
     "output_type": "stream",
     "text": [
      "Model: Neural Network\n",
      "Data: All Adoption - all features\n",
      "MAE Train: 0.579\n",
      "MAE Test: 0.585\n",
      "MSE Train: 0.513\n",
      "MSE Test: 0.521\n",
      "R-squared Train: 0.247\n",
      "R-squared Test: 0.230\n"
     ]
    }
   ],
   "source": [
    "compute_metrics(\"Neural Network\",\"All Adoption - all features\",\n",
    "                y_fs_train, nn_all_fs_train_pred, y_fs_test, nn_all_fs_test_pred)"
   ]
  },
  {
   "cell_type": "markdown",
   "id": "5a15857c",
   "metadata": {},
   "source": [
    "# CAT ADOPTIONS"
   ]
  },
  {
   "cell_type": "markdown",
   "id": "672dd2f8",
   "metadata": {},
   "source": [
    "# Lasso Regression"
   ]
  },
  {
   "cell_type": "code",
   "execution_count": 46,
   "id": "3b15b1d1",
   "metadata": {},
   "outputs": [
    {
     "data": {
      "text/plain": [
       "Lasso(alpha=1)"
      ]
     },
     "execution_count": 46,
     "metadata": {},
     "output_type": "execute_result"
    }
   ],
   "source": [
    "#Train a lasso regression model\n",
    "lasso_cat = Lasso(alpha=1)\n",
    "lasso_cat.fit(X_cat_train, y_cat_train)"
   ]
  },
  {
   "cell_type": "code",
   "execution_count": 47,
   "id": "87a03296",
   "metadata": {},
   "outputs": [],
   "source": [
    "#Use the lasso model to predict duration\n",
    "lasso_cat_train_pred = lasso_cat.predict(X_cat_train)\n",
    "lasso_cat_test_pred = lasso_cat.predict(X_cat_test)"
   ]
  },
  {
   "cell_type": "code",
   "execution_count": 48,
   "id": "52ebdd16",
   "metadata": {},
   "outputs": [
    {
     "name": "stdout",
     "output_type": "stream",
     "text": [
      "Model: Lasso Regression\n",
      "Data: Cat Adoption - all features\n",
      "MAE Train: 0.663\n",
      "MAE Test: 0.660\n",
      "MSE Train: 0.602\n",
      "MSE Test: 0.601\n",
      "R-squared Train: 0.000\n",
      "R-squared Test: -0.000\n"
     ]
    }
   ],
   "source": [
    "compute_metrics(\"Lasso Regression\",\"Cat Adoption - all features\",\n",
    "                y_cat_train, lasso_cat_train_pred, y_cat_test, lasso_cat_test_pred)"
   ]
  },
  {
   "cell_type": "code",
   "execution_count": 49,
   "id": "7ecc793a",
   "metadata": {},
   "outputs": [],
   "source": [
    "#Now use selected features\n",
    "lasso_cat_fs = Lasso(alpha=1)\n",
    "lasso_cat_fs.fit(X_cat_fs_train, y_cat_fs_train)\n",
    "\n",
    "#Use the lasso model to predict duration\n",
    "lasso_cat_fs_train_pred = lasso_cat_fs.predict(X_cat_fs_train)\n",
    "lasso_cat_fs_test_pred = lasso_cat_fs.predict(X_cat_fs_test)"
   ]
  },
  {
   "cell_type": "code",
   "execution_count": 50,
   "id": "da550c11",
   "metadata": {},
   "outputs": [
    {
     "name": "stdout",
     "output_type": "stream",
     "text": [
      "Model: Lasso Regression\n",
      "Data: Cat Adoption - selected features\n",
      "MAE Train: 0.663\n",
      "MAE Test: 0.660\n",
      "MSE Train: 0.602\n",
      "MSE Test: 0.601\n",
      "R-squared Train: 0.000\n",
      "R-squared Test: -0.000\n"
     ]
    }
   ],
   "source": [
    "compute_metrics(\"Lasso Regression\",\"Cat Adoption - selected features\",\n",
    "                y_cat_fs_train, lasso_cat_fs_train_pred, y_cat_fs_test, lasso_cat_fs_test_pred)"
   ]
  },
  {
   "cell_type": "markdown",
   "id": "1886342f",
   "metadata": {},
   "source": [
    "# Ridge Regression"
   ]
  },
  {
   "cell_type": "code",
   "execution_count": 51,
   "id": "819d691a",
   "metadata": {},
   "outputs": [],
   "source": [
    "#Train a ridge regression model\n",
    "ridge_cat = Ridge()\n",
    "ridge_cat.fit(X_cat_train, y_cat_train)\n",
    "\n",
    "ridge_cat_train_pred = ridge_cat.predict(X_cat_train)\n",
    "ridge_cat_test_pred = ridge_cat.predict(X_cat_test)"
   ]
  },
  {
   "cell_type": "code",
   "execution_count": 52,
   "id": "1ee39ce4",
   "metadata": {},
   "outputs": [
    {
     "name": "stdout",
     "output_type": "stream",
     "text": [
      "Model: Ridge Regression\n",
      "Data: Cat Adoption - all features\n",
      "MAE Train: 0.611\n",
      "MAE Test: 0.608\n",
      "MSE Train: 0.514\n",
      "MSE Test: 0.512\n",
      "R-squared Train: 0.145\n",
      "R-squared Test: 0.149\n"
     ]
    }
   ],
   "source": [
    "compute_metrics(\"Ridge Regression\",\"Cat Adoption - all features\",\n",
    "                y_cat_train, ridge_cat_train_pred, y_cat_test, ridge_cat_test_pred)"
   ]
  },
  {
   "cell_type": "code",
   "execution_count": 53,
   "id": "aff40a4a",
   "metadata": {},
   "outputs": [],
   "source": [
    "#Now use selected features\n",
    "ridge_cat_fs = Ridge()\n",
    "ridge_cat_fs.fit(X_cat_fs_train, y_cat_fs_train)\n",
    "\n",
    "ridge_cat_fs_train_pred = ridge_cat_fs.predict(X_cat_fs_train)\n",
    "ridge_cat_fs_test_pred = ridge_cat_fs.predict(X_cat_fs_test)"
   ]
  },
  {
   "cell_type": "code",
   "execution_count": 54,
   "id": "8fbafd05",
   "metadata": {},
   "outputs": [
    {
     "name": "stdout",
     "output_type": "stream",
     "text": [
      "Model: Ridge Regression\n",
      "Data: Cat Adoption - selected features\n",
      "MAE Train: 0.613\n",
      "MAE Test: 0.610\n",
      "MSE Train: 0.516\n",
      "MSE Test: 0.514\n",
      "R-squared Train: 0.142\n",
      "R-squared Test: 0.145\n"
     ]
    }
   ],
   "source": [
    "compute_metrics(\"Ridge Regression\",\"Cat Adoption - selected features\",\n",
    "                y_cat_fs_train, ridge_cat_fs_train_pred, y_cat_fs_test, ridge_cat_fs_test_pred)"
   ]
  },
  {
   "cell_type": "markdown",
   "id": "54c52a37",
   "metadata": {},
   "source": [
    "# Regression Tree"
   ]
  },
  {
   "cell_type": "code",
   "execution_count": 55,
   "id": "4d545d9f",
   "metadata": {},
   "outputs": [],
   "source": [
    "#train regression tree model\n",
    "rt_cat = DecisionTreeRegressor(max_depth = 10, random_state = 0) \n",
    "  \n",
    "# fit the regressor with X and Y data\n",
    "rt_cat.fit(X_cat_train, y_cat_train)\n",
    "\n",
    "#use regression tree to predict duration\n",
    "rt_cat_train_pred = rt_cat.predict(X_cat_train)\n",
    "rt_cat_test_pred = rt_cat.predict(X_cat_test)"
   ]
  },
  {
   "cell_type": "code",
   "execution_count": 56,
   "id": "76a5f30d",
   "metadata": {},
   "outputs": [
    {
     "name": "stdout",
     "output_type": "stream",
     "text": [
      "Model: Regression Tree\n",
      "Data: Cat Adoption - all features\n",
      "MAE Train: 0.503\n",
      "MAE Test: 0.542\n",
      "MSE Train: 0.391\n",
      "MSE Test: 0.458\n",
      "R-squared Train: 0.351\n",
      "R-squared Test: 0.238\n"
     ]
    }
   ],
   "source": [
    "compute_metrics(\"Regression Tree\",\"Cat Adoption - all features\",y_cat_train, \n",
    "                rt_cat_train_pred, y_cat_test, rt_cat_test_pred)"
   ]
  },
  {
   "cell_type": "code",
   "execution_count": 57,
   "id": "f55bd432",
   "metadata": {},
   "outputs": [],
   "source": [
    "#repeat with feature selection\n",
    "rt_cat_fs = DecisionTreeRegressor(max_depth = 10, random_state = 0) \n",
    "  \n",
    "# fit the regressor with X and Y data\n",
    "rt_cat_fs.fit(X_cat_fs_train, y_cat_fs_train)\n",
    "\n",
    "#use regression tree to predict duration\n",
    "rt_cat_fs_train_pred = rt_cat_fs.predict(X_cat_fs_train)\n",
    "rt_cat_fs_test_pred = rt_cat_fs.predict(X_cat_fs_test)"
   ]
  },
  {
   "cell_type": "code",
   "execution_count": 58,
   "id": "0e127e3b",
   "metadata": {},
   "outputs": [
    {
     "name": "stdout",
     "output_type": "stream",
     "text": [
      "Model: Regression Tree\n",
      "Data: Cat Adoption - selected features\n",
      "MAE Train: 0.504\n",
      "MAE Test: 0.538\n",
      "MSE Train: 0.392\n",
      "MSE Test: 0.454\n",
      "R-squared Train: 0.348\n",
      "R-squared Test: 0.245\n"
     ]
    }
   ],
   "source": [
    "compute_metrics(\"Regression Tree\",\"Cat Adoption - selected features\",\n",
    "                y_cat_fs_train, rt_cat_fs_train_pred, y_cat_fs_test, rt_cat_fs_test_pred)"
   ]
  },
  {
   "cell_type": "markdown",
   "id": "34ff884c",
   "metadata": {},
   "source": [
    "# Random Forest"
   ]
  },
  {
   "cell_type": "code",
   "execution_count": 59,
   "id": "624a0151",
   "metadata": {},
   "outputs": [],
   "source": [
    "#Train random forest model\n",
    "rf_cat = RandomForestRegressor(max_depth = 10, random_state = 101)\n",
    "rf_cat.fit(X_cat_train, y_cat_train)\n",
    "\n",
    "# Make prediction\n",
    "rf_cat_train_pred = rf_cat.predict(X_cat_train)\n",
    "rf_cat_test_pred = rf_cat.predict(X_cat_test)"
   ]
  },
  {
   "cell_type": "code",
   "execution_count": 60,
   "id": "23103101",
   "metadata": {},
   "outputs": [
    {
     "name": "stdout",
     "output_type": "stream",
     "text": [
      "Model: Random Forest\n",
      "Data: Cat Adoption - all features\n",
      "MAE Train: 0.490\n",
      "MAE Test: 0.521\n",
      "MSE Train: 0.363\n",
      "MSE Test: 0.418\n",
      "R-squared Train: 0.397\n",
      "R-squared Test: 0.304\n"
     ]
    }
   ],
   "source": [
    "compute_metrics(\"Random Forest\",\"Cat Adoption - all features\",y_cat_train, \n",
    "                rf_cat_train_pred , y_cat_test, rf_cat_test_pred)"
   ]
  },
  {
   "cell_type": "code",
   "execution_count": 61,
   "id": "1687b7bd",
   "metadata": {},
   "outputs": [],
   "source": [
    "#Repeat with selected features\n",
    "rf_cat_fs = RandomForestRegressor(max_depth = 10, random_state = 101)\n",
    "rf_cat_fs.fit(X_cat_fs_train, y_cat_fs_train)\n",
    "\n",
    "# Make prediction\n",
    "rf_cat_fs_train_pred = rf_cat_fs.predict(X_cat_fs_train)\n",
    "rf_cat_fs_test_pred = rf_cat_fs.predict(X_cat_fs_test)"
   ]
  },
  {
   "cell_type": "code",
   "execution_count": 62,
   "id": "fd0c75fb",
   "metadata": {},
   "outputs": [
    {
     "name": "stdout",
     "output_type": "stream",
     "text": [
      "Model: Random Forest\n",
      "Data: Cat Adoption - selected features\n",
      "MAE Train: 0.492\n",
      "MAE Test: 0.519\n",
      "MSE Train: 0.366\n",
      "MSE Test: 0.417\n",
      "R-squared Train: 0.391\n",
      "R-squared Test: 0.307\n"
     ]
    }
   ],
   "source": [
    "compute_metrics(\"Random Forest\",\"Cat Adoption - selected features\",y_cat_fs_train, rf_cat_fs_train_pred,\n",
    "                y_cat_fs_test, rf_cat_fs_test_pred)"
   ]
  },
  {
   "cell_type": "markdown",
   "id": "c8c560c7",
   "metadata": {},
   "source": [
    "# Ada Boost"
   ]
  },
  {
   "cell_type": "code",
   "execution_count": 96,
   "id": "8de91e50",
   "metadata": {},
   "outputs": [
    {
     "name": "stdout",
     "output_type": "stream",
     "text": [
      "Best: 0.162291 using {'learning_rate': 0.5, 'n_estimators': 10}\n"
     ]
    }
   ],
   "source": [
    "#build AdaBoost model\n",
    "ada_cat = AdaBoostRegressor(random_state=seed)\n",
    "ada_cat.fit(X_cat_train, y_cat_train)\n",
    "\n",
    "param_gridadacat = {'n_estimators': (10, 50, 100),\n",
    "              'learning_rate': (.1, .5, 1),\n",
    "             }\n",
    "\n",
    "gridadacat = GridSearchCV(ada_cat, param_gridadacat, scoring = 'r2' )\n",
    "gridadacat.fit(X_cat_train,y_cat_train)\n",
    "\n",
    "\n",
    "# Make prediction\n",
    "ada_cat_test_pred = ada_cat.predict(X_cat_test)\n",
    "ada_cat_train_pred = ada_cat.predict(X_cat_train)\n",
    "\n",
    "print(\"Best: %f using %s\" % (gridadacat.best_score_, gridadacat.best_params_))"
   ]
  },
  {
   "cell_type": "code",
   "execution_count": 97,
   "id": "7e09a2dd",
   "metadata": {},
   "outputs": [
    {
     "name": "stdout",
     "output_type": "stream",
     "text": [
      "Model: Adaboost\n",
      "Data: Cat Adoption - all features\n",
      "MAE Train: 0.625\n",
      "MAE Test: 0.622\n",
      "MSE Train: 0.513\n",
      "MSE Test: 0.515\n",
      "R-squared Train: 0.147\n",
      "R-squared Test: 0.143\n"
     ]
    }
   ],
   "source": [
    "compute_metrics(\"Adaboost\",\"Cat Adoption - all features\",y_cat_train, \n",
    "                ada_cat_train_pred, y_cat_test, ada_cat_test_pred)"
   ]
  },
  {
   "cell_type": "code",
   "execution_count": 98,
   "id": "d67c9303",
   "metadata": {},
   "outputs": [
    {
     "name": "stdout",
     "output_type": "stream",
     "text": [
      "Best: 0.161500 using {'learning_rate': 0.5, 'n_estimators': 10}\n"
     ]
    }
   ],
   "source": [
    "#Repeat with feature selection\n",
    "ada_cat_fs = AdaBoostRegressor(random_state=seed)\n",
    "ada_cat_fs.fit(X_cat_fs_train, y_cat_fs_train)\n",
    "\n",
    "gridadacatfs = GridSearchCV(ada_cat_fs, param_gridadacat, scoring = 'r2' )\n",
    "gridadacatfs.fit(X_cat_fs_train,y_cat_fs_train)\n",
    "\n",
    "# Make prediction\n",
    "ada_cat_fs_test_pred = ada_cat_fs.predict(X_cat_fs_test)\n",
    "ada_cat_fs_train_pred = ada_cat_fs.predict(X_cat_fs_train)\n",
    "\n",
    "print(\"Best: %f using %s\" % (gridadacatfs.best_score_, gridadacatfs.best_params_))"
   ]
  },
  {
   "cell_type": "code",
   "execution_count": 99,
   "id": "be2c82d2",
   "metadata": {},
   "outputs": [
    {
     "name": "stdout",
     "output_type": "stream",
     "text": [
      "Model: Adaboost\n",
      "Data: Cat Adoption - selected features\n",
      "MAE Train: 0.627\n",
      "MAE Test: 0.625\n",
      "MSE Train: 0.515\n",
      "MSE Test: 0.517\n",
      "R-squared Train: 0.144\n",
      "R-squared Test: 0.141\n"
     ]
    }
   ],
   "source": [
    "compute_metrics(\"Adaboost\",\"Cat Adoption - selected features\",y_cat_fs_train,\n",
    "                ada_cat_fs_train_pred, y_cat_fs_test, ada_cat_fs_test_pred)"
   ]
  },
  {
   "cell_type": "markdown",
   "id": "7f9dcbc6",
   "metadata": {},
   "source": [
    "# Neural Network"
   ]
  },
  {
   "cell_type": "code",
   "execution_count": 100,
   "id": "c9d0d0be",
   "metadata": {},
   "outputs": [
    {
     "name": "stdout",
     "output_type": "stream",
     "text": [
      "Best: 0.188686 using {'hidden_layer_sizes': (40, 40), 'learning_rate': 'constant'}\n"
     ]
    }
   ],
   "source": [
    "#Train a neural network model\n",
    "nn_cat = MLPRegressor(activation = 'relu', max_iter = 10000, \n",
    "                                    random_state = seed)\n",
    "nn_cat.fit(X_cat_train, y_cat_train)\n",
    "\n",
    "param_gridnncat = {'hidden_layer_sizes': [(20,20),(25,25), (30,30),(35,35), (40,40)],\n",
    "                'learning_rate': ('constant', 'invscaling', 'adaptive')\n",
    "             }\n",
    "\n",
    "gridnncat = GridSearchCV(nn_cat, param_gridnncat, scoring = 'r2' )\n",
    "gridnncat.fit(X_cat_train,y_cat_train)\n",
    "\n",
    "# Make prediction\n",
    "nn_cat_test_pred = nn_cat.predict(X_cat_test)\n",
    "nn_cat_train_pred = nn_cat.predict(X_cat_train)\n",
    "\n",
    "print(\"Best: %f using %s\" % (gridnncat.best_score_, gridnncat.best_params_))\n"
   ]
  },
  {
   "cell_type": "code",
   "execution_count": 101,
   "id": "fde5a20d",
   "metadata": {},
   "outputs": [
    {
     "name": "stdout",
     "output_type": "stream",
     "text": [
      "Model: Neural Network\n",
      "Data: Cat Adoption - all features\n",
      "MAE Train: 0.582\n",
      "MAE Test: 0.582\n",
      "MSE Train: 0.482\n",
      "MSE Test: 0.487\n",
      "R-squared Train: 0.199\n",
      "R-squared Test: 0.190\n"
     ]
    }
   ],
   "source": [
    "compute_metrics(\"Neural Network\",\"Cat Adoption - all features\",y_cat_train, \n",
    "                nn_cat_train_pred, y_cat_test, nn_cat_test_pred)"
   ]
  },
  {
   "cell_type": "code",
   "execution_count": 102,
   "id": "1c63f424",
   "metadata": {},
   "outputs": [
    {
     "name": "stdout",
     "output_type": "stream",
     "text": [
      "Best: 0.187734 using {'hidden_layer_sizes': (35, 35), 'learning_rate': 'constant'}\n"
     ]
    }
   ],
   "source": [
    "#Repeat with selected features\n",
    "nn_cat_fs = MLPRegressor(activation = 'relu', max_iter = 10000, \n",
    "                                    random_state = seed)\n",
    "nn_cat_fs.fit(X_cat_fs_train, y_cat_fs_train)\n",
    "\n",
    "gridnncatfs = GridSearchCV(nn_cat_fs, param_gridnncat, scoring = 'r2' )\n",
    "gridnncatfs.fit(X_cat_fs_train,y_cat_fs_train)\n",
    "\n",
    "# Make prediction\n",
    "nn_cat_fs_test_pred = nn_cat_fs.predict(X_cat_fs_test)\n",
    "nn_cat_fs_train_pred = nn_cat_fs.predict(X_cat_fs_train)\n",
    "\n",
    "print(\"Best: %f using %s\" % (gridnncatfs.best_score_, gridnncatfs.best_params_))"
   ]
  },
  {
   "cell_type": "code",
   "execution_count": 103,
   "id": "cf8aa856",
   "metadata": {
    "scrolled": false
   },
   "outputs": [
    {
     "name": "stdout",
     "output_type": "stream",
     "text": [
      "Model: Neural Network\n",
      "Data: Cat Adoption - selected features\n",
      "MAE Train: 0.584\n",
      "MAE Test: 0.580\n",
      "MSE Train: 0.488\n",
      "MSE Test: 0.486\n",
      "R-squared Train: 0.188\n",
      "R-squared Test: 0.192\n"
     ]
    }
   ],
   "source": [
    "compute_metrics(\"Neural Network\",\"Cat Adoption - selected features\",\n",
    "                y_cat_fs_train, nn_cat_fs_train_pred, y_cat_fs_test, nn_cat_fs_test_pred)"
   ]
  },
  {
   "cell_type": "markdown",
   "id": "40341516",
   "metadata": {},
   "source": [
    "# DOG ADOPTIONS"
   ]
  },
  {
   "cell_type": "markdown",
   "id": "a4bd5a0a",
   "metadata": {},
   "source": [
    "# Lasso Regression"
   ]
  },
  {
   "cell_type": "code",
   "execution_count": 71,
   "id": "c6e4ee64",
   "metadata": {},
   "outputs": [
    {
     "data": {
      "text/plain": [
       "Lasso(alpha=1)"
      ]
     },
     "execution_count": 71,
     "metadata": {},
     "output_type": "execute_result"
    }
   ],
   "source": [
    "#Train a lasso regression model\n",
    "lasso_dog = Lasso(alpha=1)\n",
    "lasso_dog.fit(X_dog_train, y_dog_train)"
   ]
  },
  {
   "cell_type": "code",
   "execution_count": 72,
   "id": "31123f15",
   "metadata": {},
   "outputs": [],
   "source": [
    "#Use the lasso model to predict duration\n",
    "lasso_dog_train_pred = lasso_dog.predict(X_dog_train)\n",
    "lasso_dog_test_pred = lasso_dog.predict(X_dog_test)"
   ]
  },
  {
   "cell_type": "code",
   "execution_count": 73,
   "id": "789869f8",
   "metadata": {},
   "outputs": [
    {
     "name": "stdout",
     "output_type": "stream",
     "text": [
      "Model: Lasso Regression\n",
      "Data: Dog Adoption - all features\n",
      "MAE Train: 0.662\n",
      "MAE Test: 0.666\n",
      "MSE Train: 0.658\n",
      "MSE Test: 0.663\n",
      "R-squared Train: 0.000\n",
      "R-squared Test: -0.000\n"
     ]
    }
   ],
   "source": [
    "compute_metrics(\"Lasso Regression\",\"Dog Adoption - all features\",\n",
    "                y_dog_train, lasso_dog_train_pred, y_dog_test, lasso_dog_test_pred)"
   ]
  },
  {
   "cell_type": "code",
   "execution_count": 74,
   "id": "fbc3bfa3",
   "metadata": {},
   "outputs": [],
   "source": [
    "#Now use selected features\n",
    "lasso_dog_fs = Lasso(alpha=1)\n",
    "lasso_dog_fs.fit(X_dog_fs_train, y_dog_fs_train)\n",
    "\n",
    "#Use the lasso model to predict duration\n",
    "lasso_dog_fs_train_pred = lasso_dog_fs.predict(X_dog_fs_train)\n",
    "lasso_dog_fs_test_pred = lasso_dog_fs.predict(X_dog_fs_test)"
   ]
  },
  {
   "cell_type": "code",
   "execution_count": 75,
   "id": "bf226b21",
   "metadata": {},
   "outputs": [
    {
     "name": "stdout",
     "output_type": "stream",
     "text": [
      "Model: Lasso Regression\n",
      "Data: Dog Adoption - selected features\n",
      "MAE Train: 0.662\n",
      "MAE Test: 0.666\n",
      "MSE Train: 0.658\n",
      "MSE Test: 0.663\n",
      "R-squared Train: 0.000\n",
      "R-squared Test: -0.000\n"
     ]
    }
   ],
   "source": [
    "compute_metrics(\"Lasso Regression\",\"Dog Adoption - selected features\",\n",
    "                y_dog_fs_train, lasso_dog_fs_train_pred, y_dog_fs_test, lasso_dog_fs_test_pred)"
   ]
  },
  {
   "cell_type": "markdown",
   "id": "858309d3",
   "metadata": {},
   "source": [
    "# Ridge Regression"
   ]
  },
  {
   "cell_type": "code",
   "execution_count": 76,
   "id": "d2916b73",
   "metadata": {},
   "outputs": [],
   "source": [
    "#Train a ridge regression model\n",
    "ridge_dog = Ridge()\n",
    "ridge_dog.fit(X_dog_train, y_dog_train)\n",
    "\n",
    "ridge_dog_train_pred = ridge_dog.predict(X_dog_train)\n",
    "ridge_dog_test_pred = ridge_dog.predict(X_dog_test)"
   ]
  },
  {
   "cell_type": "code",
   "execution_count": 77,
   "id": "5fa341d7",
   "metadata": {},
   "outputs": [
    {
     "name": "stdout",
     "output_type": "stream",
     "text": [
      "Model: Ridge Regression\n",
      "Data: Dog Adoption - all features\n",
      "MAE Train: 0.601\n",
      "MAE Test: 0.599\n",
      "MSE Train: 0.563\n",
      "MSE Test: 0.559\n",
      "R-squared Train: 0.143\n",
      "R-squared Test: 0.156\n"
     ]
    }
   ],
   "source": [
    "compute_metrics(\"Ridge Regression\",\"Dog Adoption - all features\",\n",
    "                y_dog_train, ridge_dog_train_pred, y_dog_test, ridge_dog_test_pred)"
   ]
  },
  {
   "cell_type": "code",
   "execution_count": 78,
   "id": "0989f801",
   "metadata": {},
   "outputs": [],
   "source": [
    "#Now use selected features\n",
    "ridge_dog_fs = Ridge()\n",
    "ridge_dog_fs.fit(X_dog_fs_train, y_dog_fs_train)\n",
    "\n",
    "ridge_dog_fs_train_pred = ridge_dog_fs.predict(X_dog_fs_train)\n",
    "ridge_dog_fs_test_pred = ridge_dog_fs.predict(X_dog_fs_test)"
   ]
  },
  {
   "cell_type": "code",
   "execution_count": 79,
   "id": "57c69fac",
   "metadata": {},
   "outputs": [
    {
     "name": "stdout",
     "output_type": "stream",
     "text": [
      "Model: Ridge Regression\n",
      "Data: Dog Adoption - selected features\n",
      "MAE Train: 0.602\n",
      "MAE Test: 0.599\n",
      "MSE Train: 0.564\n",
      "MSE Test: 0.560\n",
      "R-squared Train: 0.142\n",
      "R-squared Test: 0.155\n"
     ]
    }
   ],
   "source": [
    "compute_metrics(\"Ridge Regression\",\"Dog Adoption - selected features\",\n",
    "                y_dog_fs_train, ridge_dog_fs_train_pred, y_dog_fs_test, ridge_dog_fs_test_pred)"
   ]
  },
  {
   "cell_type": "markdown",
   "id": "0aeb8d00",
   "metadata": {},
   "source": [
    "# Regression Tree"
   ]
  },
  {
   "cell_type": "code",
   "execution_count": 80,
   "id": "3dc4c2f6",
   "metadata": {},
   "outputs": [],
   "source": [
    "#train regression tree model\n",
    "rt_dog = DecisionTreeRegressor(max_depth = 10, random_state = 0) \n",
    "  \n",
    "# fit the regressor with X and Y data\n",
    "rt_dog.fit(X_dog_train, y_dog_train)\n",
    "\n",
    "#use regression tree to predict duration\n",
    "rt_dog_train_pred = rt_dog.predict(X_dog_train)\n",
    "rt_dog_test_pred = rt_dog.predict(X_dog_test)"
   ]
  },
  {
   "cell_type": "code",
   "execution_count": 81,
   "id": "22e85ea2",
   "metadata": {},
   "outputs": [
    {
     "name": "stdout",
     "output_type": "stream",
     "text": [
      "Model: Regression Tree\n",
      "Data: Dog Adoption - all features\n",
      "MAE Train: 0.385\n",
      "MAE Test: 0.419\n",
      "MSE Train: 0.341\n",
      "MSE Test: 0.409\n",
      "R-squared Train: 0.481\n",
      "R-squared Test: 0.382\n"
     ]
    }
   ],
   "source": [
    "compute_metrics(\"Regression Tree\",\"Dog Adoption - all features\",y_dog_train, \n",
    "                rt_dog_train_pred, y_dog_test, rt_dog_test_pred)"
   ]
  },
  {
   "cell_type": "code",
   "execution_count": 82,
   "id": "5a9caefe",
   "metadata": {},
   "outputs": [],
   "source": [
    "#repeat with feature selection\n",
    "rt_dog_fs = DecisionTreeRegressor(max_depth = 10, random_state = 0) \n",
    "  \n",
    "# fit the regressor with X and Y data\n",
    "rt_dog_fs.fit(X_dog_fs_train, y_dog_fs_train)\n",
    "\n",
    "#use regression tree to predict duration\n",
    "rt_dog_fs_train_pred = rt_dog_fs.predict(X_dog_fs_train)\n",
    "rt_dog_fs_test_pred = rt_dog_fs.predict(X_dog_fs_test)"
   ]
  },
  {
   "cell_type": "code",
   "execution_count": 83,
   "id": "ba614d54",
   "metadata": {},
   "outputs": [
    {
     "name": "stdout",
     "output_type": "stream",
     "text": [
      "Model: Regression Tree\n",
      "Data: Dog Adoption - selected features\n",
      "MAE Train: 0.387\n",
      "MAE Test: 0.417\n",
      "MSE Train: 0.344\n",
      "MSE Test: 0.405\n",
      "R-squared Train: 0.477\n",
      "R-squared Test: 0.388\n"
     ]
    }
   ],
   "source": [
    "compute_metrics(\"Regression Tree\",\"Dog Adoption - selected features\",\n",
    "                y_dog_fs_train, rt_dog_fs_train_pred, y_dog_fs_test, rt_dog_fs_test_pred)"
   ]
  },
  {
   "cell_type": "markdown",
   "id": "e0e75855",
   "metadata": {},
   "source": [
    "# Random Forest"
   ]
  },
  {
   "cell_type": "code",
   "execution_count": 84,
   "id": "dad280b4",
   "metadata": {},
   "outputs": [],
   "source": [
    "#Train random forest model\n",
    "rf_dog = RandomForestRegressor(max_depth = 10, random_state = 101)\n",
    "rf_dog.fit(X_dog_train, y_dog_train)\n",
    "\n",
    "# Make prediction\n",
    "rf_dog_train_pred = rf_dog.predict(X_dog_train)\n",
    "rf_dog_test_pred = rf_dog.predict(X_dog_test)"
   ]
  },
  {
   "cell_type": "code",
   "execution_count": 85,
   "id": "357436c5",
   "metadata": {},
   "outputs": [
    {
     "name": "stdout",
     "output_type": "stream",
     "text": [
      "Model: Random Forest\n",
      "Data: Dog Adoption - all features\n",
      "MAE Train: 0.377\n",
      "MAE Test: 0.406\n",
      "MSE Train: 0.321\n",
      "MSE Test: 0.377\n",
      "R-squared Train: 0.511\n",
      "R-squared Test: 0.431\n"
     ]
    }
   ],
   "source": [
    "compute_metrics(\"Random Forest\",\"Dog Adoption - all features\",y_dog_train, \n",
    "                rf_dog_train_pred , y_dog_test, rf_dog_test_pred)"
   ]
  },
  {
   "cell_type": "code",
   "execution_count": 86,
   "id": "474f967f",
   "metadata": {},
   "outputs": [],
   "source": [
    "#Repeat with selected features\n",
    "rf_dog_fs = RandomForestRegressor(max_depth = 10, random_state = 101)\n",
    "rf_dog_fs.fit(X_dog_fs_train, y_dog_fs_train)\n",
    "\n",
    "# Make prediction\n",
    "rf_dog_fs_train_pred = rf_dog_fs.predict(X_dog_fs_train)\n",
    "rf_dog_fs_test_pred = rf_dog_fs.predict(X_dog_fs_test)"
   ]
  },
  {
   "cell_type": "code",
   "execution_count": 87,
   "id": "31dfdc6f",
   "metadata": {},
   "outputs": [
    {
     "name": "stdout",
     "output_type": "stream",
     "text": [
      "Model: Random Forest\n",
      "Data: Dog Adoption - selected features\n",
      "MAE Train: 0.380\n",
      "MAE Test: 0.406\n",
      "MSE Train: 0.326\n",
      "MSE Test: 0.377\n",
      "R-squared Train: 0.505\n",
      "R-squared Test: 0.431\n"
     ]
    }
   ],
   "source": [
    "compute_metrics(\"Random Forest\",\"Dog Adoption - selected features\",y_dog_fs_train, rf_dog_fs_train_pred,\n",
    "                y_dog_fs_test, rf_dog_fs_test_pred)"
   ]
  },
  {
   "cell_type": "markdown",
   "id": "e8e5aa1b",
   "metadata": {},
   "source": [
    "# Ada Boost"
   ]
  },
  {
   "cell_type": "code",
   "execution_count": 104,
   "id": "c3cfdb7c",
   "metadata": {},
   "outputs": [
    {
     "name": "stdout",
     "output_type": "stream",
     "text": [
      "Best: 0.224041 using {'learning_rate': 0.1, 'n_estimators': 10}\n"
     ]
    }
   ],
   "source": [
    "#build AdaBoost model\n",
    "ada_dog = AdaBoostRegressor(random_state=seed)\n",
    "ada_dog.fit(X_dog_train, y_dog_train)\n",
    "\n",
    "param_gridadadog = {'n_estimators': (10, 50, 100),\n",
    "              'learning_rate': (.1, .5, 1),\n",
    "             }\n",
    "\n",
    "gridadadog = GridSearchCV(ada_dog, param_gridadadog, scoring = 'r2' )\n",
    "gridadadog.fit(X_dog_train,y_dog_train)\n",
    "\n",
    "\n",
    "# Make prediction\n",
    "ada_dog_test_pred = ada_dog.predict(X_dog_test)\n",
    "ada_dog_train_pred = ada_dog.predict(X_dog_train)\n",
    "\n",
    "print(\"Best: %f using %s\" % (gridadadog.best_score_, gridadadog.best_params_))"
   ]
  },
  {
   "cell_type": "code",
   "execution_count": 105,
   "id": "2d436910",
   "metadata": {},
   "outputs": [
    {
     "name": "stdout",
     "output_type": "stream",
     "text": [
      "Model: Adaboost\n",
      "Data: Dog Adoption - all features\n",
      "MAE Train: 0.581\n",
      "MAE Test: 0.583\n",
      "MSE Train: 0.512\n",
      "MSE Test: 0.514\n",
      "R-squared Train: 0.221\n",
      "R-squared Test: 0.225\n"
     ]
    }
   ],
   "source": [
    "compute_metrics(\"Adaboost\",\"Dog Adoption - all features\",y_dog_train, \n",
    "                ada_dog_train_pred, y_dog_test, ada_dog_test_pred)"
   ]
  },
  {
   "cell_type": "code",
   "execution_count": 106,
   "id": "2c816309",
   "metadata": {},
   "outputs": [
    {
     "name": "stdout",
     "output_type": "stream",
     "text": [
      "Best: 0.224017 using {'learning_rate': 0.1, 'n_estimators': 10}\n"
     ]
    }
   ],
   "source": [
    "#Repeat with feature selection\n",
    "ada_dog_fs = AdaBoostRegressor(random_state=seed)\n",
    "ada_dog_fs.fit(X_dog_fs_train, y_dog_fs_train)\n",
    "\n",
    "gridadadogfs = GridSearchCV(ada_dog_fs, param_gridadadog, scoring = 'r2' )\n",
    "gridadadogfs.fit(X_dog_fs_train,y_dog_fs_train)\n",
    "\n",
    "# Make prediction\n",
    "ada_dog_fs_test_pred = ada_dog_fs.predict(X_dog_fs_test)\n",
    "ada_dog_fs_train_pred = ada_dog_fs.predict(X_dog_fs_train)\n",
    "\n",
    "print(\"Best: %f using %s\" % (gridadadogfs.best_score_, gridadadogfs.best_params_))"
   ]
  },
  {
   "cell_type": "code",
   "execution_count": 107,
   "id": "c1358a83",
   "metadata": {},
   "outputs": [
    {
     "name": "stdout",
     "output_type": "stream",
     "text": [
      "Model: Adaboost\n",
      "Data: Dog Adoption - selected features\n",
      "MAE Train: 0.611\n",
      "MAE Test: 0.612\n",
      "MSE Train: 0.540\n",
      "MSE Test: 0.541\n",
      "R-squared Train: 0.179\n",
      "R-squared Test: 0.184\n"
     ]
    }
   ],
   "source": [
    "compute_metrics(\"Adaboost\",\"Dog Adoption - selected features\",y_dog_fs_train,\n",
    "                ada_dog_fs_train_pred, y_dog_fs_test, ada_dog_fs_test_pred)"
   ]
  },
  {
   "cell_type": "markdown",
   "id": "398f1820",
   "metadata": {},
   "source": [
    "# Neural Network"
   ]
  },
  {
   "cell_type": "code",
   "execution_count": 108,
   "id": "a85f5b2f",
   "metadata": {},
   "outputs": [
    {
     "name": "stdout",
     "output_type": "stream",
     "text": [
      "Best: 0.174282 using {'hidden_layer_sizes': (35, 35), 'learning_rate': 'constant'}\n"
     ]
    }
   ],
   "source": [
    "#Train a neural network model\n",
    "nn_dog = MLPRegressor(activation = 'relu', max_iter = 10000, \n",
    "                                    random_state = seed)\n",
    "nn_dog.fit(X_dog_train, y_dog_train)\n",
    "\n",
    "param_gridnndog = {'hidden_layer_sizes': [(20,20),(25,25), (30,30),(35,35), (40,40)],\n",
    "                'learning_rate': ('constant', 'invscaling', 'adaptive')\n",
    "             }\n",
    "\n",
    "gridnndog = GridSearchCV(nn_dog, param_gridnndog, scoring = 'r2' )\n",
    "gridnndog.fit(X_dog_train,y_dog_train)\n",
    "\n",
    "# Make prediction\n",
    "nn_dog_test_pred = nn_dog.predict(X_dog_test)\n",
    "nn_dog_train_pred = nn_dog.predict(X_dog_train)\n",
    "\n",
    "print(\"Best: %f using %s\" % (gridnndog.best_score_, gridnndog.best_params_))\n"
   ]
  },
  {
   "cell_type": "code",
   "execution_count": 109,
   "id": "2bbfc7e1",
   "metadata": {},
   "outputs": [
    {
     "name": "stdout",
     "output_type": "stream",
     "text": [
      "Model: Neural Network\n",
      "Data: Dog Adoption - all features\n",
      "MAE Train: 0.579\n",
      "MAE Test: 0.583\n",
      "MSE Train: 0.536\n",
      "MSE Test: 0.544\n",
      "R-squared Train: 0.184\n",
      "R-squared Test: 0.178\n"
     ]
    }
   ],
   "source": [
    "compute_metrics(\"Neural Network\",\"Dog Adoption - all features\",y_dog_train, \n",
    "                nn_dog_train_pred, y_dog_test, nn_dog_test_pred)"
   ]
  },
  {
   "cell_type": "code",
   "execution_count": 110,
   "id": "0dead328",
   "metadata": {},
   "outputs": [
    {
     "name": "stdout",
     "output_type": "stream",
     "text": [
      "Best: 0.175950 using {'hidden_layer_sizes': (35, 35), 'learning_rate': 'constant'}\n"
     ]
    }
   ],
   "source": [
    "#Repeat with selected features\n",
    "nn_dog_fs = MLPRegressor(activation = 'relu', max_iter = 10000, \n",
    "                                    random_state = seed)\n",
    "nn_dog_fs.fit(X_dog_fs_train, y_dog_fs_train)\n",
    "\n",
    "gridnndogfs = GridSearchCV(nn_dog_fs, param_gridnndog, scoring = 'r2' )\n",
    "gridnndogfs.fit(X_dog_fs_train,y_dog_fs_train)\n",
    "\n",
    "\n",
    "# Make prediction\n",
    "nn_dog_fs_test_pred = nn_dog_fs.predict(X_dog_fs_test)\n",
    "nn_dog_fs_train_pred = nn_dog_fs.predict(X_dog_fs_train)\n",
    "\n",
    "print(\"Best: %f using %s\" % (gridnndogfs.best_score_, gridnndogfs.best_params_))"
   ]
  },
  {
   "cell_type": "code",
   "execution_count": 111,
   "id": "707ab6ef",
   "metadata": {
    "scrolled": false
   },
   "outputs": [
    {
     "name": "stdout",
     "output_type": "stream",
     "text": [
      "Model: Neural Network\n",
      "Data: Dog Adoption - selected features\n",
      "MAE Train: 0.590\n",
      "MAE Test: 0.591\n",
      "MSE Train: 0.541\n",
      "MSE Test: 0.545\n",
      "R-squared Train: 0.177\n",
      "R-squared Test: 0.178\n"
     ]
    }
   ],
   "source": [
    "compute_metrics(\"Neural Network\",\"Dog Adoption - selected features\",\n",
    "                y_dog_fs_train, nn_dog_fs_train_pred, y_dog_fs_test, nn_dog_fs_test_pred)"
   ]
  },
  {
   "cell_type": "code",
   "execution_count": null,
   "id": "76d24ed4",
   "metadata": {},
   "outputs": [],
   "source": []
  }
 ],
 "metadata": {
  "kernelspec": {
   "display_name": "Python 3 (ipykernel)",
   "language": "python",
   "name": "python3"
  },
  "language_info": {
   "codemirror_mode": {
    "name": "ipython",
    "version": 3
   },
   "file_extension": ".py",
   "mimetype": "text/x-python",
   "name": "python",
   "nbconvert_exporter": "python",
   "pygments_lexer": "ipython3",
   "version": "3.7.11"
  }
 },
 "nbformat": 4,
 "nbformat_minor": 5
}

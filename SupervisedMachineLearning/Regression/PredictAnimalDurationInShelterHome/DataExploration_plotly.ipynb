{
 "cells": [
  {
   "cell_type": "code",
   "execution_count": 1,
   "id": "661b8777",
   "metadata": {},
   "outputs": [
    {
     "name": "stdout",
     "output_type": "stream",
     "text": [
      "Requirement already satisfied: plotly in /Users/surekha/opt/anaconda3/lib/python3.9/site-packages (5.10.0)\r\n",
      "Requirement already satisfied: tenacity>=6.2.0 in /Users/surekha/opt/anaconda3/lib/python3.9/site-packages (from plotly) (8.1.0)\r\n"
     ]
    }
   ],
   "source": [
    "!pip install plotly"
   ]
  },
  {
   "cell_type": "code",
   "execution_count": 2,
   "id": "f33728e8",
   "metadata": {},
   "outputs": [],
   "source": [
    "import os\n",
    "import pandas as pd\n",
    "import numpy as np\n",
    "import matplotlib.pyplot as plt\n",
    "import plotly.express as px\n",
    "import seaborn as sns"
   ]
  },
  {
   "cell_type": "code",
   "execution_count": 3,
   "id": "19dd56a5",
   "metadata": {},
   "outputs": [],
   "source": [
    "#os.chdir(\"C:\\\\Users\\\\Shanu\\\\Documents\\\\PSU\\\\DAAN 888\")"
   ]
  },
  {
   "cell_type": "code",
   "execution_count": 4,
   "id": "85fd6e38",
   "metadata": {},
   "outputs": [],
   "source": [
    "intakes = pd.read_csv(\"Austin_Animal_Center_Intakes.csv\")"
   ]
  },
  {
   "cell_type": "code",
   "execution_count": null,
   "id": "f763f52f",
   "metadata": {},
   "outputs": [],
   "source": [
    "outcomes = pd.read_csv(\"Austin_Animal_Center_Outcomes.csv\")"
   ]
  },
  {
   "cell_type": "code",
   "execution_count": null,
   "id": "cf9d04cb",
   "metadata": {
    "scrolled": true
   },
   "outputs": [],
   "source": [
    "# let's look at the intakes dataset first and get a general overview\n",
    "intakes.head()"
   ]
  },
  {
   "cell_type": "code",
   "execution_count": null,
   "id": "f25229bf",
   "metadata": {},
   "outputs": [],
   "source": [
    "intakes.info()"
   ]
  },
  {
   "cell_type": "code",
   "execution_count": null,
   "id": "77941a57",
   "metadata": {},
   "outputs": [],
   "source": [
    "# all variables are loading as \"object\" datatype\n",
    "# we will need to convert certain variables to more appropriate datatypes, such as date/time\n",
    "\n",
    "intakes.isnull().sum()"
   ]
  },
  {
   "cell_type": "code",
   "execution_count": null,
   "id": "3dddee9b",
   "metadata": {},
   "outputs": [],
   "source": [
    "# there are 40912 blank names - this is likely a column we will discard during analysis\n",
    "# there is 1 missing value for Sex upon Intake - will need to decide whether to interpolate or discard\n",
    "intakes.duplicated().sum()"
   ]
  },
  {
   "cell_type": "code",
   "execution_count": null,
   "id": "9bb0cd45",
   "metadata": {},
   "outputs": [],
   "source": [
    "intakes.describe(include = \"all\")"
   ]
  },
  {
   "cell_type": "code",
   "execution_count": null,
   "id": "cf42ed77",
   "metadata": {},
   "outputs": [],
   "source": [
    "intakes[\"Intake Type\"].describe()"
   ]
  },
  {
   "cell_type": "code",
   "execution_count": null,
   "id": "5034939c",
   "metadata": {},
   "outputs": [],
   "source": [
    "intakes[\"Intake Type\"].value_counts()"
   ]
  },
  {
   "cell_type": "code",
   "execution_count": null,
   "id": "ca27c3c9",
   "metadata": {},
   "outputs": [],
   "source": [
    "intakes[\"Intake Type\"].value_counts().plot(kind=\"bar\",title=\"Unique values of intake\",xlabel='Various intake types', ylabel='Frequency')\n",
    "\n",
    "\n"
   ]
  },
  {
   "cell_type": "code",
   "execution_count": null,
   "id": "23de3f49",
   "metadata": {},
   "outputs": [],
   "source": [
    "intake_type_fig = px.histogram(intakes, x=\"Intake Type\")\n",
    "intake_type_fig.show()"
   ]
  },
  {
   "cell_type": "code",
   "execution_count": null,
   "id": "c2177e7f",
   "metadata": {},
   "outputs": [],
   "source": [
    "intakes[\"Intake Condition\"].describe()"
   ]
  },
  {
   "cell_type": "code",
   "execution_count": null,
   "id": "1e104e4e",
   "metadata": {},
   "outputs": [],
   "source": [
    "intakes[\"Intake Condition\"].value_counts()"
   ]
  },
  {
   "cell_type": "code",
   "execution_count": null,
   "id": "15088c24",
   "metadata": {},
   "outputs": [],
   "source": [
    "intakes[\"Intake Condition\"].value_counts().plot(kind=\"pie\", subplots=True)"
   ]
  },
  {
   "cell_type": "code",
   "execution_count": null,
   "id": "4475a5cb",
   "metadata": {},
   "outputs": [],
   "source": [
    "#\n",
    "intake_cond_fig = px.pie(intakes, names='Intake Condition', hole = 0.5)\n",
    "intake_cond_fig.show()\n"
   ]
  },
  {
   "cell_type": "code",
   "execution_count": null,
   "id": "f66dbd9b",
   "metadata": {},
   "outputs": [],
   "source": [
    "intakes[\"Animal Type\"].describe()"
   ]
  },
  {
   "cell_type": "code",
   "execution_count": null,
   "id": "d7e8a0a9",
   "metadata": {},
   "outputs": [],
   "source": [
    "intakes[\"Animal Type\"].value_counts()"
   ]
  },
  {
   "cell_type": "code",
   "execution_count": null,
   "id": "62ab9dab",
   "metadata": {},
   "outputs": [],
   "source": [
    "#intakes[\"Animal Type\"].value_counts().plot(kind=\"barh\",title=\"Count of each animal type\",xlabel='Different types of animals', ylabel='count')\n",
    "\n",
    "ianimal_type_fig = px.histogram(intakes, x=\"Animal Type\",title=\"Count of each animal type\")\n",
    "ianimal_type_fig.show()"
   ]
  },
  {
   "cell_type": "code",
   "execution_count": null,
   "id": "e7686978",
   "metadata": {},
   "outputs": [],
   "source": [
    "intakes[\"Age upon Intake\"].describe()"
   ]
  },
  {
   "cell_type": "code",
   "execution_count": null,
   "id": "6eb70473",
   "metadata": {},
   "outputs": [],
   "source": [
    "#intakes[\"Age upon Intake\"].value_counts()[:10]\n",
    "\n",
    "iage_fig = px.histogram(intakes, x=\"Age upon Intake\", title = \"Age upon intake of Animal\")\n",
    "iage_fig.show()"
   ]
  },
  {
   "cell_type": "code",
   "execution_count": null,
   "id": "f5432812",
   "metadata": {},
   "outputs": [],
   "source": [
    "outcomes.shape"
   ]
  },
  {
   "cell_type": "code",
   "execution_count": null,
   "id": "1072ac59",
   "metadata": {},
   "outputs": [],
   "source": [
    "outcomes.head()"
   ]
  },
  {
   "cell_type": "code",
   "execution_count": null,
   "id": "993e7ca6",
   "metadata": {},
   "outputs": [],
   "source": [
    "outcomes.describe(include = \"all\")"
   ]
  },
  {
   "cell_type": "code",
   "execution_count": null,
   "id": "e00e1980",
   "metadata": {},
   "outputs": [],
   "source": [
    "outcomes.info()"
   ]
  },
  {
   "cell_type": "code",
   "execution_count": null,
   "id": "13d6cb2d",
   "metadata": {},
   "outputs": [],
   "source": [
    "outcomes.isnull().sum()"
   ]
  },
  {
   "cell_type": "code",
   "execution_count": null,
   "id": "b7f04741",
   "metadata": {},
   "outputs": [],
   "source": [
    "outcomes.duplicated().sum()"
   ]
  },
  {
   "cell_type": "code",
   "execution_count": null,
   "id": "1e3ce3fb",
   "metadata": {},
   "outputs": [],
   "source": [
    "outcomes[\"Outcome Type\"].describe()"
   ]
  },
  {
   "cell_type": "code",
   "execution_count": null,
   "id": "2d4c6d18",
   "metadata": {},
   "outputs": [],
   "source": [
    "outcomes[\"Outcome Type\"].value_counts()"
   ]
  },
  {
   "cell_type": "code",
   "execution_count": null,
   "id": "5a641f99",
   "metadata": {},
   "outputs": [],
   "source": [
    "#outcomes[\"Outcome Type\"].value_counts().plot(kind=\"bar\",title=\"Distribution of various outcome types\",xlabel='Outcome types', ylabel='count')\n",
    "\n",
    "oanimal_type_fig = px.histogram(outcomes, x=\"Outcome Type\", title=\"Outcome Type of Animal\")\n",
    "oanimal_type_fig.show()"
   ]
  },
  {
   "cell_type": "code",
   "execution_count": null,
   "id": "56e41fcc",
   "metadata": {},
   "outputs": [],
   "source": [
    "outcomes[\"Sex upon Outcome\"].describe()"
   ]
  },
  {
   "cell_type": "code",
   "execution_count": null,
   "id": "cf84bda3",
   "metadata": {},
   "outputs": [],
   "source": [
    "outcomes[\"Sex upon Outcome\"].value_counts()"
   ]
  },
  {
   "cell_type": "code",
   "execution_count": null,
   "id": "337e2381",
   "metadata": {},
   "outputs": [],
   "source": [
    "#outcomes[\"Sex upon Outcome\"].value_counts().plot(kind=\"pie\",title=\"Distribution of the column sex upon outcome\",autopct='%1.2f%%')\n",
    "\n",
    "\n",
    "soutcome_fig = px.histogram(outcomes, x=\"Sex upon Outcome\", title=\"Sex upon Outcome of Animal\")\n",
    "soutcome_fig.show()"
   ]
  },
  {
   "cell_type": "code",
   "execution_count": null,
   "id": "df324793",
   "metadata": {},
   "outputs": [],
   "source": [
    "outcomes[\"Breed\"].describe()"
   ]
  },
  {
   "cell_type": "code",
   "execution_count": null,
   "id": "a20fc325",
   "metadata": {},
   "outputs": [],
   "source": [
    "outcomes[\"Breed\"].value_counts()[:10]"
   ]
  },
  {
   "cell_type": "code",
   "execution_count": null,
   "id": "3bea4ff4",
   "metadata": {},
   "outputs": [],
   "source": [
    "#outcomes[\"Breed\"].value_counts()[:10].plot(kind=\"bar\",title=\"Distribution of various Breed types\",xlabel='Breed types', ylabel='count')\n",
    "#identify the top outcome breeds\n",
    "top_outcome_breeds = outcomes[\"Breed\"].value_counts()[:10]\n",
    "print(type(top_outcome_breeds))\n",
    "\n",
    "#convert to pandas data frame\n",
    "top_outcome_breeds_df = top_outcome_breeds.to_frame()\n",
    "top_outcome_breeds_df.columns\n",
    "print(top_outcome_breeds_df)\n",
    "\n",
    "#plotly visualization of top breeds\n",
    "obreed_fig = px.histogram(top_outcome_breeds_df, x= top_outcome_breeds_df.index,\n",
    "                          y=\"Breed\", title =\"Breed on outcome\")\n",
    "obreed_fig.show()\n"
   ]
  },
  {
   "cell_type": "code",
   "execution_count": null,
   "id": "f56e33c8",
   "metadata": {},
   "outputs": [],
   "source": [
    "values = outcomes[\"Breed\"].value_counts()"
   ]
  },
  {
   "cell_type": "code",
   "execution_count": null,
   "id": "34e43e78",
   "metadata": {},
   "outputs": [],
   "source": [
    "values"
   ]
  },
  {
   "cell_type": "code",
   "execution_count": null,
   "id": "49794f27",
   "metadata": {},
   "outputs": [],
   "source": [
    "# if we convert to a dataframe, we can more easily manipulate to get counts and sort the frequencies\n",
    "valuesdf = pd.DataFrame({'name':values.index, 'count':values.values})"
   ]
  },
  {
   "cell_type": "code",
   "execution_count": null,
   "id": "31877ba6",
   "metadata": {},
   "outputs": [],
   "source": [
    "valuesdf.head()"
   ]
  },
  {
   "cell_type": "code",
   "execution_count": null,
   "id": "806d6538",
   "metadata": {},
   "outputs": [],
   "source": [
    "valuesdf.tail()"
   ]
  },
  {
   "cell_type": "code",
   "execution_count": null,
   "id": "c587e064",
   "metadata": {},
   "outputs": [],
   "source": [
    "# lots of Breeds that only occur 1 time - but how many?\n",
    "rare = valuesdf.apply(lambda x : True\n",
    "                         if x['count'] == 1 else False, axis = 1)"
   ]
  },
  {
   "cell_type": "code",
   "execution_count": null,
   "id": "7496f52b",
   "metadata": {},
   "outputs": [],
   "source": [
    "len(rare[rare == True].index)"
   ]
  },
  {
   "cell_type": "code",
   "execution_count": null,
   "id": "2c299f72",
   "metadata": {},
   "outputs": [],
   "source": [
    "# 1022 Breed types only occur once in the data - that's a lot!\n",
    "rare"
   ]
  },
  {
   "cell_type": "code",
   "execution_count": null,
   "id": "ea7df70b",
   "metadata": {},
   "outputs": [],
   "source": [
    "# how many Breed types only occur twice in the data?\n",
    "semirare = valuesdf.apply(lambda x : True\n",
    "                         if x['count'] == 2 else False, axis = 1)"
   ]
  },
  {
   "cell_type": "code",
   "execution_count": null,
   "id": "93035e5c",
   "metadata": {},
   "outputs": [],
   "source": [
    "len(semirare[semirare == True].index)"
   ]
  },
  {
   "cell_type": "code",
   "execution_count": null,
   "id": "cc6b14a1",
   "metadata": {},
   "outputs": [],
   "source": [
    "# so 1022 + 460 = 1482 Breed categories that appear only once or twice, which is half of the data in that column"
   ]
  },
  {
   "cell_type": "code",
   "execution_count": null,
   "id": "3397503d",
   "metadata": {},
   "outputs": [],
   "source": []
  }
 ],
 "metadata": {
  "kernelspec": {
   "display_name": "Python 3 (ipykernel)",
   "language": "python",
   "name": "python3"
  },
  "language_info": {
   "codemirror_mode": {
    "name": "ipython",
    "version": 3
   },
   "file_extension": ".py",
   "mimetype": "text/x-python",
   "name": "python",
   "nbconvert_exporter": "python",
   "pygments_lexer": "ipython3",
   "version": "3.9.7"
  }
 },
 "nbformat": 4,
 "nbformat_minor": 5
}

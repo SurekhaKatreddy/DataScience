{
  "cells": [
    {
      "cell_type": "markdown",
      "metadata": {
        "id": "OvzdlIJ_qQGp"
      },
      "source": [
        "# RNNs: How To Implement A Basic RNN\n",
        "RNNs have feedback loops in the recurrent layer."
      ]
    },
    {
      "cell_type": "markdown",
      "metadata": {
        "id": "mOYugn9NqQGs"
      },
      "source": [
        "### Read In, Clean, And Split The Data"
      ]
    },
    {
      "cell_type": "code",
      "execution_count": 6,
      "metadata": {
        "id": "qfBoAilAqQGt"
      },
      "outputs": [],
      "source": [
        "# Read in data and split into training and test set\n",
        "# NOTE: we are NOT cleaning the data\n",
        "import numpy as np\n",
        "import pandas as pd\n",
        "from sklearn.model_selection import train_test_split\n",
        "pd.set_option('display.max_colwidth', 1000)\n",
        "\n",
        "messages = pd.read_csv('/content/sample_data/spam.csv', encoding='latin-1')\n",
        "messages = messages.drop(labels = [\"Unnamed: 2\", \"Unnamed: 3\", \"Unnamed: 4\"], axis = 1)\n",
        "messages.columns = [\"label\", \"text\"]\n",
        "labels = np.where(messages['label']=='spam', 1, 0)\n",
        "\n",
        "X_train, X_test, y_train, y_test = train_test_split(messages['text'],\n",
        "                                                    labels, test_size=0.2)"
      ]
    },
    {
      "cell_type": "markdown",
      "metadata": {
        "id": "ZK7DbNA5qQGu"
      },
      "source": [
        "### Prep Data For Modeling"
      ]
    },
    {
      "cell_type": "code",
      "execution_count": 7,
      "metadata": {
        "colab": {
          "base_uri": "https://localhost:8080/"
        },
        "id": "BI3JoUq2qQGu",
        "outputId": "0c10269c-31e7-417e-dcf6-ac1eafab7dc9"
      },
      "outputs": [
        {
          "output_type": "stream",
          "name": "stdout",
          "text": [
            "Requirement already satisfied: keras in /usr/local/lib/python3.7/dist-packages (2.8.0)\n"
          ]
        }
      ],
      "source": [
        "# Install keras\n",
        "!pip install -U keras"
      ]
    },
    {
      "cell_type": "code",
      "execution_count": 8,
      "metadata": {
        "id": "NTB-URKgqQGu"
      },
      "outputs": [],
      "source": [
        "# Import the tools we will need from keras\n",
        "from keras.preprocessing.text import Tokenizer\n",
        "from keras.preprocessing.sequence import pad_sequences"
      ]
    },
    {
      "cell_type": "code",
      "execution_count": 9,
      "metadata": {
        "id": "ZLER1ncuqQGv"
      },
      "outputs": [],
      "source": [
        "# Initialize and fit the tokenizer\n",
        "tokenizer = Tokenizer()\n",
        "tokenizer.fit_on_texts(X_train)"
      ]
    },
    {
      "cell_type": "code",
      "execution_count": 10,
      "metadata": {
        "id": "SDKjib2tqQGv"
      },
      "outputs": [],
      "source": [
        "# Use that tokenizer to transform the text messages in the training and test sets\n",
        "X_train_seq = tokenizer.texts_to_sequences(X_train)\n",
        "X_test_seq = tokenizer.texts_to_sequences(X_test)"
      ]
    },
    {
      "cell_type": "code",
      "execution_count": 11,
      "metadata": {
        "colab": {
          "base_uri": "https://localhost:8080/"
        },
        "id": "UFYtkDzrqQGw",
        "outputId": "a568a06d-7679-4bd8-e883-16de1f540216"
      },
      "outputs": [
        {
          "output_type": "execute_result",
          "data": {
            "text/plain": [
              "[351, 385, 1, 73, 2567, 1026, 7, 2568]"
            ]
          },
          "metadata": {},
          "execution_count": 11
        }
      ],
      "source": [
        "# What do these sequences look like?\n",
        "X_train_seq[0]"
      ]
    },
    {
      "cell_type": "code",
      "execution_count": 12,
      "metadata": {
        "id": "Z0uRsYBoqQGx"
      },
      "outputs": [],
      "source": [
        "# Pad the sequences so each sequence is the same length\n",
        "X_train_seq_padded = pad_sequences(X_train_seq, 50)\n",
        "X_test_seq_padded = pad_sequences(X_test_seq, 50)"
      ]
    },
    {
      "cell_type": "code",
      "execution_count": 13,
      "metadata": {
        "colab": {
          "base_uri": "https://localhost:8080/"
        },
        "id": "_rDoozjTqQGx",
        "outputId": "00fc3aee-138c-41b1-f066-85d1af8fc7ec"
      },
      "outputs": [
        {
          "output_type": "execute_result",
          "data": {
            "text/plain": [
              "array([   0,    0,    0,    0,    0,    0,    0,    0,    0,    0,    0,\n",
              "          0,    0,    0,    0,    0,    0,    0,    0,    0,    0,    0,\n",
              "          0,    0,    0,    0,    0,    0,    0,    0,    0,    0,    0,\n",
              "          0,    0,    0,    0,    0,    0,    0,    0,    0,  351,  385,\n",
              "          1,   73, 2567, 1026,    7, 2568], dtype=int32)"
            ]
          },
          "metadata": {},
          "execution_count": 13
        }
      ],
      "source": [
        "# What do these padded sequences look like?\n",
        "X_train_seq_padded[0]"
      ]
    },
    {
      "cell_type": "markdown",
      "metadata": {
        "id": "Okwm_uBmqQGx"
      },
      "source": [
        "### Build Model"
      ]
    },
    {
      "cell_type": "code",
      "execution_count": 14,
      "metadata": {
        "id": "QZwrAl1WqQGx"
      },
      "outputs": [],
      "source": [
        "# Import the tools needed from keras and define functions to calculate recall and precision\n",
        "import keras.backend as K\n",
        "from keras.layers import Dense, Embedding, LSTM\n",
        "from keras.models import Sequential\n",
        "\n",
        "def recall_m(y_true, y_pred):\n",
        "        true_positives = K.sum(K.round(K.clip(y_true * y_pred, 0, 1)))\n",
        "        possible_positives = K.sum(K.round(K.clip(y_true, 0, 1)))\n",
        "        recall = true_positives / (possible_positives + K.epsilon())\n",
        "        return recall\n",
        "\n",
        "def precision_m(y_true, y_pred):\n",
        "        true_positives = K.sum(K.round(K.clip(y_true * y_pred, 0, 1)))\n",
        "        predicted_positives = K.sum(K.round(K.clip(y_pred, 0, 1)))\n",
        "        precision = true_positives / (predicted_positives + K.epsilon())\n",
        "        return precision"
      ]
    },
    {
      "cell_type": "markdown",
      "source": [
        "# Recurrent Neural Networks RNNs\n",
        "RNNs have feedback loops in the recurrent layer. \n",
        "\n",
        "\n",
        "\n",
        "*   👉 LSTM networks are a type of RNN that uses   special units to include a ‘memory cell’ that can maintain information in memory for long periods of time. This memory cell lets them learn longer-term dependencies.\n",
        "*   👉 LSTMs deal with vanishing and exploding gradient problem by introducing new gates, such as input and forget gates, which allow for a better control over the gradient flow and enable better preservation of “long-range dependencies”."
      ],
      "metadata": {
        "id": "mQKeE0sK5-Zl"
      }
    },
    {
      "cell_type": "code",
      "execution_count": 15,
      "metadata": {
        "colab": {
          "base_uri": "https://localhost:8080/"
        },
        "id": "m-PLYN34qQGy",
        "outputId": "8ff43c35-5988-4708-d577-d9e4d4c3a275"
      },
      "outputs": [
        {
          "output_type": "stream",
          "name": "stdout",
          "text": [
            "Model: \"sequential\"\n",
            "_________________________________________________________________\n",
            " Layer (type)                Output Shape              Param #   \n",
            "=================================================================\n",
            " embedding (Embedding)       (None, None, 32)          255488    \n",
            "                                                                 \n",
            " lstm (LSTM)                 (None, 32)                8320      \n",
            "                                                                 \n",
            " dense (Dense)               (None, 32)                1056      \n",
            "                                                                 \n",
            " dense_1 (Dense)             (None, 1)                 33        \n",
            "                                                                 \n",
            "=================================================================\n",
            "Total params: 264,897\n",
            "Trainable params: 264,897\n",
            "Non-trainable params: 0\n",
            "_________________________________________________________________\n"
          ]
        }
      ],
      "source": [
        "# Construct a simple RNN model\n",
        "model = Sequential()\n",
        "\n",
        "model.add(Embedding(len(tokenizer.index_word)+1, 32))\n",
        "model.add(LSTM(32, dropout=0, recurrent_dropout=0))\n",
        "model.add(Dense(32, activation='relu'))\n",
        "model.add(Dense(1, activation='sigmoid'))\n",
        "model.summary()"
      ]
    },
    {
      "cell_type": "code",
      "execution_count": 16,
      "metadata": {
        "id": "r48ea-o1qQGy"
      },
      "outputs": [],
      "source": [
        "# Compile the model\n",
        "model.compile(optimizer='adam',\n",
        "              loss='binary_crossentropy',\n",
        "              metrics=['accuracy', precision_m, recall_m])"
      ]
    },
    {
      "cell_type": "code",
      "execution_count": 17,
      "metadata": {
        "colab": {
          "base_uri": "https://localhost:8080/"
        },
        "id": "oxJiEbqYqQGy",
        "outputId": "83868bec-c5d0-439a-f766-30d7f0044a8f"
      },
      "outputs": [
        {
          "output_type": "stream",
          "name": "stdout",
          "text": [
            "Epoch 1/10\n",
            "140/140 [==============================] - 14s 67ms/step - loss: 0.2405 - accuracy: 0.9217 - precision_m: 0.5288 - recall_m: 0.4303 - val_loss: 0.0589 - val_accuracy: 0.9857 - val_precision_m: 0.9707 - val_recall_m: 0.9381\n",
            "Epoch 2/10\n",
            "140/140 [==============================] - 8s 58ms/step - loss: 0.0376 - accuracy: 0.9890 - precision_m: 0.9750 - recall_m: 0.9358 - val_loss: 0.0398 - val_accuracy: 0.9874 - val_precision_m: 0.9714 - val_recall_m: 0.9467\n",
            "Epoch 3/10\n",
            "140/140 [==============================] - 8s 54ms/step - loss: 0.0145 - accuracy: 0.9957 - precision_m: 0.9766 - recall_m: 0.9642 - val_loss: 0.0460 - val_accuracy: 0.9857 - val_precision_m: 0.9643 - val_recall_m: 0.9410\n",
            "Epoch 4/10\n",
            "140/140 [==============================] - 6s 43ms/step - loss: 0.0068 - accuracy: 0.9989 - precision_m: 0.9768 - recall_m: 0.9714 - val_loss: 0.0682 - val_accuracy: 0.9839 - val_precision_m: 0.9943 - val_recall_m: 0.8964\n",
            "Epoch 5/10\n",
            "140/140 [==============================] - 4s 30ms/step - loss: 0.0050 - accuracy: 0.9989 - precision_m: 0.9777 - recall_m: 0.9720 - val_loss: 0.0485 - val_accuracy: 0.9865 - val_precision_m: 0.9714 - val_recall_m: 0.9395\n",
            "Epoch 6/10\n",
            "140/140 [==============================] - 4s 30ms/step - loss: 0.0028 - accuracy: 0.9991 - precision_m: 0.9920 - recall_m: 0.9879 - val_loss: 0.0543 - val_accuracy: 0.9857 - val_precision_m: 0.9714 - val_recall_m: 0.9338\n",
            "Epoch 7/10\n",
            "140/140 [==============================] - 4s 30ms/step - loss: 6.5157e-04 - accuracy: 1.0000 - precision_m: 0.9643 - recall_m: 0.9643 - val_loss: 0.0690 - val_accuracy: 0.9874 - val_precision_m: 0.9886 - val_recall_m: 0.9290\n",
            "Epoch 8/10\n",
            "140/140 [==============================] - 4s 31ms/step - loss: 5.9558e-04 - accuracy: 0.9998 - precision_m: 0.9929 - recall_m: 0.9911 - val_loss: 0.0709 - val_accuracy: 0.9857 - val_precision_m: 0.9771 - val_recall_m: 0.9290\n",
            "Epoch 9/10\n",
            "140/140 [==============================] - 4s 30ms/step - loss: 1.5930e-04 - accuracy: 1.0000 - precision_m: 0.9857 - recall_m: 0.9857 - val_loss: 0.0750 - val_accuracy: 0.9865 - val_precision_m: 0.9829 - val_recall_m: 0.9290\n",
            "Epoch 10/10\n",
            "140/140 [==============================] - 4s 30ms/step - loss: 1.0179e-04 - accuracy: 1.0000 - precision_m: 0.9786 - recall_m: 0.9786 - val_loss: 0.0776 - val_accuracy: 0.9865 - val_precision_m: 0.9829 - val_recall_m: 0.9290\n"
          ]
        }
      ],
      "source": [
        "# Fit the RNN model\n",
        "history = model.fit(X_train_seq_padded, y_train, \n",
        "                    batch_size=32, epochs=10,\n",
        "                    validation_data=(X_test_seq_padded, y_test))"
      ]
    },
    {
      "cell_type": "code",
      "execution_count": 18,
      "metadata": {
        "colab": {
          "base_uri": "https://localhost:8080/",
          "height": 809
        },
        "id": "0sYJqDulqQGy",
        "outputId": "d4cdf929-d0fe-46cc-e3d3-5fe956b94035"
      },
      "outputs": [
        {
          "output_type": "display_data",
          "data": {
            "text/plain": [
              "<Figure size 432x288 with 1 Axes>"
            ],
            "image/png": "[encoded data removed]"
          },
          "metadata": {
            "needs_background": "light"
          }
        },
        {
          "output_type": "display_data",
          "data": {
            "text/plain": [
              "<Figure size 432x288 with 1 Axes>"
            ],
            "image/png": "[encoded data removed]"
          },
          "metadata": {
            "needs_background": "light"
          }
        },
        {
          "output_type": "display_data",
          "data": {
            "text/plain": [
              "<Figure size 432x288 with 1 Axes>"
            ],
            "image/png": "[encoded data removed]"
          },
          "metadata": {
            "needs_background": "light"
          }
        }
      ],
      "source": [
        "# Plot the evaluation metrics by each epoch for the model to see if we are over or underfitting\n",
        "import matplotlib.pyplot as plt\n",
        "\n",
        "for i in ['accuracy', 'precision_m', 'recall_m']:\n",
        "    acc = history.history[i]\n",
        "    val_acc = history.history['val_{}'.format(i)]\n",
        "    epochs = range(1, len(acc) + 1)\n",
        "\n",
        "    plt.figure()\n",
        "    plt.plot(epochs, acc, label='Training Accuracy')\n",
        "    plt.plot(epochs, val_acc, label='Validation Accuracy')\n",
        "    plt.title('Results for {}'.format(i))\n",
        "    plt.legend()\n",
        "    plt.show()"
      ]
    }
  ],
  "metadata": {
    "kernelspec": {
      "display_name": "Python 3 (ipykernel)",
      "language": "python",
      "name": "python3"
    },
    "language_info": {
      "codemirror_mode": {
        "name": "ipython",
        "version": 3
      },
      "file_extension": ".py",
      "mimetype": "text/x-python",
      "name": "python",
      "nbconvert_exporter": "python",
      "pygments_lexer": "ipython3",
      "version": "3.7.11"
    },
    "colab": {
      "name": "RNN_NLP.ipynb",
      "provenance": [],
      "collapsed_sections": []
    }
  },
  "nbformat": 4,
  "nbformat_minor": 0
}
{
  "cells": [
    {
      "cell_type": "markdown",
      "metadata": {
        "id": "d6IdqY9qdOPy"
      },
      "source": [
        "## Using RNNs to classify sentiment on IMDB data\n",
        "\n",
        "In this project, we will train three types of RNNs:  \"vanilla\" RNN, LSTM and GRU to predict the sentiment on IMDB reviews.  \n",
        "\n",
        "Keras provides a convenient interface to load the data and immediately encode the words into integers (based on the most common words). \n",
        "This will save you a lot of the drudgery that is usually involved when working with raw text.\n",
        "\n",
        "The IMDB is  data consists of 25000 training sequences and 25000 test sequences. \n",
        "The outcome is binary (positive/negative) and both outcomes are equally represented in both the training and the test set.\n",
        "\n",
        "\n",
        "Walk through the following steps to prepare the data and the building of an RNN model. "
      ]
    },
    {
      "cell_type": "markdown",
      "source": [
        "# Import libraries"
      ],
      "metadata": {
        "id": "Orxwc-0vqGzZ"
      }
    },
    {
      "cell_type": "code",
      "execution_count": null,
      "metadata": {
        "id": "0xVh3aPidOPz"
      },
      "outputs": [],
      "source": [
        "import tensorflow\n",
        "import keras\n",
        "from keras.datasets import imdb\n",
        "from keras.preprocessing import sequence\n",
        "from tensorflow.keras import optimizers\n",
        "from keras import initializers\n",
        "from keras.layers import Dense\n",
        "from keras.models import Sequential\n",
        "from keras.layers import Embedding, SimpleRNN\n",
        "import matplotlib.pyplot as plt\n",
        "from keras.layers import LSTM\n",
        "import timeit\n",
        "from keras.layers.recurrent import GRU\n",
        "from numpy.random import seed\n",
        "\n",
        "seed(32)"
      ]
    },
    {
      "cell_type": "markdown",
      "source": [
        "# Load Data"
      ],
      "metadata": {
        "id": "DgDTiKrLqK15"
      }
    },
    {
      "cell_type": "markdown",
      "metadata": {
        "id": "OWDr2e3wdOP0"
      },
      "source": [
        "1- Use the `imdb.load_data()` to load in the data \n",
        "\n",
        "2- Specify the maximum length of a sequence to 20000 words and the pick the most common words to 30. "
      ]
    },
    {
      "cell_type": "code",
      "execution_count": null,
      "metadata": {
        "id": "1ZXF1RZcdOP1"
      },
      "outputs": [],
      "source": [
        "vocabulary_size = 20000\n",
        "max_length = 30\n",
        "#load the data\n",
        "(X_train, y_train), (X_test, y_test) = imdb.load_data(num_words = vocabulary_size)\n",
        "print('Loaded dataset with {} training samples, {} test samples'.format(len(X_train), len(X_test)))"
      ]
    },
    {
      "cell_type": "markdown",
      "metadata": {
        "id": "-S8rkWZndOP1"
      },
      "source": [
        "3- Check that the number of sequences in train and test datasets are equal (default split):\n",
        "    \n",
        "Expected output:\n",
        "- `x_train = 25000 train sequences`\n",
        "\n",
        "- `x_test = 25000 test sequences`"
      ]
    },
    {
      "cell_type": "code",
      "execution_count": null,
      "metadata": {
        "id": "xyZ8vFkwdOP1"
      },
      "outputs": [],
      "source": [
        "print('---X_train---')\n",
        "print(len(X_train))\n",
        "print('---y_train---')\n",
        "print(len(y_train))\n",
        "print('---X_test---')\n",
        "print(len(X_test))\n",
        "print('---y_test---')\n",
        "print(len(y_test))\n",
        "if(len(X_train) == len(X_test)):\n",
        "    print(\"Default split: length of test and train is the same:\" + str(len(X_train)))"
      ]
    },
    {
      "cell_type": "markdown",
      "metadata": {
        "id": "-BfyaFI2dOP2"
      },
      "source": [
        "# Pad the sequences\n",
        "\n",
        "Pad (or truncate) the sequences so that they are of the maximum length\n",
        "After padding or truncating, check the dimensionality of x_train and x_test.\n",
        "\n",
        "Expected output:\n",
        "- `x_train shape: (25000, 30)`\n",
        "- `x_test shape: (25000, 30)`"
      ]
    },
    {
      "cell_type": "code",
      "execution_count": null,
      "metadata": {
        "id": "6f4-4kr6dOP3"
      },
      "outputs": [],
      "source": [
        "X_train = sequence.pad_sequences(X_train, maxlen= max_length)\n",
        "X_test = sequence.pad_sequences(X_test, maxlen=max_length)\n",
        "print('---X_train---')\n",
        "print(X_train.shape)\n",
        "print('---X_test---')\n",
        "print(X_test.shape)\n",
        "print('---Y_train---')\n",
        "print(y_train.shape)\n",
        "print('---y_train---')\n",
        "print(y_test.shape)"
      ]
    },
    {
      "cell_type": "markdown",
      "metadata": {
        "id": "uTo3JhEOdOP3"
      },
      "source": [
        "## Keras layers for (Vanilla) RNNs\n",
        "\n",
        "In this step, you will not use pre-trained word vectors, Instead you will learn an embedding as part of the  the Vanilla) RNNs network  Neural Network. \n",
        "\n",
        "In the Keras API documentation, the Embedding Layer and the SimpleRNN Layer have the following syntax:\n",
        "\n",
        "### Embedding Layer\n",
        "`keras.layers.embeddings.Embedding(input_dim, output_dim, embeddings_initializer='uniform', embeddings_regularizer=None, activity_regularizer=None, embeddings_constraint=None, mask_zero=False, input_length=None)`\n",
        "\n",
        "- This layer maps each integer into a distinct (dense) word vector of length `output_dim`.\n",
        "- Can think of this as learning a word vector embedding \"on the fly\" rather than using an existing mapping (like GloVe)\n",
        "- The `input_dim` should be the size of the vocabulary.\n",
        "- The `input_length` specifies the length of the sequences that the network expects.\n",
        "\n",
        "### SimpleRNN Layer\n",
        "`keras.layers.recurrent.SimpleRNN(units, activation='tanh', use_bias=True, kernel_initializer='glorot_uniform', recurrent_initializer='orthogonal', bias_initializer='zeros', kernel_regularizer=None, recurrent_regularizer=None, bias_regularizer=None, activity_regularizer=None, kernel_constraint=None, recurrent_constraint=None, bias_constraint=None, dropout=0.0, recurrent_dropout=0.0)`\n",
        "\n",
        "- This is the basic RNN, where the output is also fed back as the \"hidden state\" to the next iteration.\n",
        "- The parameter `units` gives the dimensionality of the output (and therefore the hidden state).  Note that typically there will be another layer after the RNN mapping the (RNN) output to the network output.  So we should think of this value as the desired dimensionality of the hidden state and not necessarily the desired output of the network.\n",
        "- Recall that there are two sets of weights, one for the \"recurrent\" phase and the other for the \"kernel\" phase.  These can be configured separately in terms of their initialization, regularization, etc.\n",
        "\n",
        "\n",
        "\n",
        "\n"
      ]
    },
    {
      "cell_type": "markdown",
      "metadata": {
        "id": "cMcaPMujdOP4"
      },
      "source": [
        "Build the RNN with three layers: \n",
        "- The SimpleRNN layer with 5 neurons and initialize its kernel with stddev=0.001\n",
        "\n",
        "- The Embedding layer and initialize it by setting the word embedding dimension to 50. This means that this layer takes each integer in the sequence and embeds it in a 50-dimensional vector.\n",
        "\n",
        "-  The output layer has the sigmoid activation function."
      ]
    },
    {
      "cell_type": "code",
      "execution_count": null,
      "metadata": {
        "id": "5d5F1CTNdOP4"
      },
      "outputs": [],
      "source": [
        "embedding_dimension = 50\n",
        "stddev=0.001\n",
        "n_count = 5\n",
        "n_epochs = 10\n",
        "n_batch_size = 32\n",
        "learning_rate = .0001\n",
        "validation_split = 0.2\n",
        "\n",
        "#function to create vanilla RNN model with three layers\n",
        "def MyModel(vocabulary_size, embedding_dimension, max_length,n_count, stddev):\n",
        "    model = Sequential()\n",
        "    model.add(Embedding(vocabulary_size, embedding_dimension,\n",
        "                        embeddings_initializer='uniform', \n",
        "                        embeddings_regularizer=None, activity_regularizer=None, \n",
        "                        embeddings_constraint=None, \n",
        "                        mask_zero=False, input_length=max_length))\n",
        "    #SimpleRNN with stddev = 0.001\n",
        "    model.add(SimpleRNN(n_count,\n",
        "                        kernel_initializer= keras.initializers.random_normal(stddev=stddev)))\n",
        "\n",
        "    #The output layer has the sigmoid activation function.\n",
        "    model.add(Dense(1, activation='sigmoid'))\n",
        "    return model\n",
        "model_30 = MyModel(vocabulary_size, embedding_dimension, max_length, n_count, stddev)\n",
        "model_30.summary()    "
      ]
    },
    {
      "cell_type": "markdown",
      "metadata": {
        "id": "Y1YQy0zMdOP4"
      },
      "source": [
        "Train the network with the RMSprop with learning rate of .0001 and epochs=10. PLot the loss and accuracy metrics during the training and interpret the result."
      ]
    },
    {
      "cell_type": "code",
      "execution_count": null,
      "metadata": {
        "id": "aEZy7DYjdOP4"
      },
      "outputs": [],
      "source": [
        "from keras.callbacks import ModelCheckpoint, EarlyStopping\n",
        "def FitAndPlot(model, early_stop = False):\n",
        "    # simple early stopping\n",
        "    es = EarlyStopping(monitor='val_loss', mode='min', verbose=1)\n",
        "    if (early_stop == False):\n",
        "      history = model.fit(X_train, y_train,\n",
        "                          epochs=n_epochs,\n",
        "                          batch_size=n_batch_size,\n",
        "                          validation_split= 0.2\n",
        "                          ) \n",
        "    elif early_stop == True:\n",
        "      history = model.fit(X_train, y_train,\n",
        "                          epochs=n_epochs,\n",
        "                          batch_size=n_batch_size,\n",
        "                          validation_split= 0.2,\n",
        "                          callbacks=[es])\n",
        "\n",
        "    acc = history.history['acc']\n",
        "    val_acc = history.history['val_acc']\n",
        "    loss = history.history['loss']\n",
        "    val_loss = history.history['val_loss']\n",
        "\n",
        "    epochs = range(len(acc))\n",
        "\n",
        "    plt.plot(epochs, acc, 'bo', label='Training acc')\n",
        "    plt.plot(epochs, val_acc, 'b', label='Validation acc')\n",
        "    plt.title('Training and validation accuracy')\n",
        "    plt.legend()\n",
        "\n",
        "    plt.figure()\n",
        "\n",
        "    plt.plot(epochs, loss, 'bo', label='Training loss')\n",
        "    plt.plot(epochs, val_loss, 'b', label='Validation loss')\n",
        "    plt.title('Training and validation loss')\n",
        "    plt.legend()\n",
        "    plt.show()"
      ]
    },
    {
      "cell_type": "markdown",
      "metadata": {
        "id": "ppQQLDUvdOP5"
      },
      "source": [
        "Check the accuracy and the loss of your models on the test dataset."
      ]
    },
    {
      "cell_type": "code",
      "execution_count": null,
      "metadata": {
        "id": "JwTjbQ-YdOP5"
      },
      "outputs": [],
      "source": [
        "model_30.compile(optimizer = tensorflow.keras.optimizers.RMSprop(\n",
        "             learning_rate=learning_rate),\n",
        "              loss='binary_crossentropy', \n",
        "              metrics=['acc'])\n",
        "print(\"batch size : \" + str(n_batch_size))\n",
        "print(\"epochs : \" + str(n_epochs))\n",
        "FitAndPlot(model_30)"
      ]
    },
    {
      "cell_type": "code",
      "execution_count": null,
      "metadata": {
        "id": "KmQYA3LNdOP5"
      },
      "outputs": [],
      "source": [
        "model_30.evaluate(X_test,y_test)"
      ]
    },
    {
      "cell_type": "markdown",
      "metadata": {
        "id": "fVnVI_hGheL1"
      },
      "source": [
        "Validation accuracy saturates although training accuracy increases. So there is an overfitting problem as the model fails to generalize on unseen data. Also early stopping can be employed in this case.\n",
        "Note : In different runs, the accuracy values are different in spite of setting the seed."
      ]
    },
    {
      "cell_type": "markdown",
      "metadata": {
        "id": "o1MHi34GdOP5"
      },
      "source": [
        "## Tuning The Vanilla RNN Network\n"
      ]
    },
    {
      "cell_type": "markdown",
      "metadata": {
        "id": "MDPbheBQdOP5"
      },
      "source": [
        "11- Prepare the data to use sequences of length 80 rather than length 30 and retrain your model.  Did it improve the performance?\n",
        "\n",
        "12- Try different values of the  maximum length of a sequence (\"max_features\").  Can you improve the performance?\n",
        "\n",
        "13- Try smaller and larger sizes of the RNN hidden dimension.  How does it affect the model performance?  How does it affect the run time?"
      ]
    },
    {
      "cell_type": "code",
      "execution_count": null,
      "metadata": {
        "id": "O65tCSDRfbWZ"
      },
      "outputs": [],
      "source": [
        "#load the data\n",
        "(X_train, y_train), (X_test, y_test) = imdb.load_data(num_words = vocabulary_size)\n",
        "print('Loaded dataset with {} training samples, {} test samples'.format(len(X_train), len(X_test)))\n",
        "\n",
        "max_length = 80\n",
        "X_train = sequence.pad_sequences(X_train, maxlen= max_length)\n",
        "X_test = sequence.pad_sequences(X_test, maxlen=max_length)\n",
        "print('---X_train---')\n",
        "print(X_train.shape)\n",
        "print('---X_test---')\n",
        "print(X_test.shape)"
      ]
    },
    {
      "cell_type": "code",
      "execution_count": null,
      "metadata": {
        "id": "Sn_hDnOHdOP5"
      },
      "outputs": [],
      "source": [
        "model_80 = MyModel(vocabulary_size, embedding_dimension, max_length, n_count, stddev)\n",
        "model_80.summary()\n",
        "\n",
        "model_80.compile(optimizer = tensorflow.keras.optimizers.RMSprop(\n",
        "             learning_rate=learning_rate),\n",
        "              loss='binary_crossentropy', \n",
        "              metrics=['acc'])\n",
        "\n",
        "print(\"batch size : \" + str(n_batch_size))\n",
        "print(\"epochs : \" + str(n_epochs))\n",
        "FitAndPlot(model_80)"
      ]
    },
    {
      "cell_type": "code",
      "execution_count": null,
      "metadata": {
        "id": "AlTEiGINpdNa"
      },
      "outputs": [],
      "source": [
        "model_80.evaluate(X_test,y_test)"
      ]
    },
    {
      "cell_type": "markdown",
      "metadata": {
        "id": "Suy_gg-mhdPp"
      },
      "source": [
        "The Accuracy of the model both train and test increased as we fed more data to train the model. However, it might always be the case as RNN models fails to remember the longer sentences as they don't have memory.\n",
        "Let us try other values for the a max length.\n"
      ]
    },
    {
      "cell_type": "code",
      "execution_count": null,
      "metadata": {
        "id": "QGN0a4UTh1vb"
      },
      "outputs": [],
      "source": [
        "#load the data\n",
        "(X_train, y_train), (X_test, y_test) = imdb.load_data(num_words = vocabulary_size)\n",
        "print('Loaded dataset with {} training samples, {} test samples'.format(len(X_train), len(X_test)))\n",
        "\n",
        "max_length = 92\n",
        "n_count = 64\n",
        "stddev=0.0001\n",
        "\n",
        "X_train = sequence.pad_sequences(X_train, maxlen= max_length)\n",
        "X_test = sequence.pad_sequences(X_test, maxlen=max_length)\n",
        "print('---X_train---')\n",
        "print(X_train.shape)\n",
        "print('---X_test---')\n",
        "print(X_test.shape)\n",
        "\n",
        "model_x = MyModel(vocabulary_size, embedding_dimension, max_length, n_count, stddev)\n",
        "model_x.summary()"
      ]
    },
    {
      "cell_type": "code",
      "execution_count": 38,
      "metadata": {
        "colab": {
          "base_uri": "https://localhost:8080/",
          "height": 938
        },
        "id": "QQVd53acip9S",
        "outputId": "aad6018e-710b-48b1-f8bc-bf22e92e139a"
      },
      "outputs": [
        {
          "output_type": "stream",
          "name": "stdout",
          "text": [
            "batch size : 32\n",
            "epochs : 10\n",
            "Epoch 1/10\n",
            "625/625 [==============================] - 18s 27ms/step - loss: 0.6915 - acc: 0.5226 - val_loss: 0.6791 - val_acc: 0.5682\n",
            "Epoch 2/10\n",
            "625/625 [==============================] - 17s 27ms/step - loss: 0.6558 - acc: 0.6191 - val_loss: 0.6446 - val_acc: 0.6392\n",
            "Epoch 3/10\n",
            "625/625 [==============================] - 17s 26ms/step - loss: 0.6054 - acc: 0.6819 - val_loss: 0.6228 - val_acc: 0.6606\n",
            "Epoch 4/10\n",
            "625/625 [==============================] - 17s 27ms/step - loss: 0.5674 - acc: 0.7187 - val_loss: 0.6106 - val_acc: 0.6712\n",
            "Epoch 5/10\n",
            "625/625 [==============================] - 18s 29ms/step - loss: 0.5331 - acc: 0.7438 - val_loss: 0.6184 - val_acc: 0.6750\n",
            "Epoch 6/10\n",
            "625/625 [==============================] - 18s 29ms/step - loss: 0.4988 - acc: 0.7653 - val_loss: 0.6064 - val_acc: 0.6748\n",
            "Epoch 7/10\n",
            "625/625 [==============================] - 18s 29ms/step - loss: 0.4708 - acc: 0.7844 - val_loss: 0.6172 - val_acc: 0.6734\n",
            "Epoch 8/10\n",
            "625/625 [==============================] - 19s 30ms/step - loss: 0.4468 - acc: 0.7983 - val_loss: 0.6344 - val_acc: 0.6660\n",
            "Epoch 9/10\n",
            "625/625 [==============================] - 18s 29ms/step - loss: 0.4239 - acc: 0.8112 - val_loss: 0.6412 - val_acc: 0.6496\n",
            "Epoch 10/10\n",
            "625/625 [==============================] - 18s 30ms/step - loss: 0.3995 - acc: 0.8233 - val_loss: 0.6858 - val_acc: 0.6774\n"
          ]
        },
        {
          "output_type": "display_data",
          "data": {
            "text/plain": [
              "<Figure size 432x288 with 1 Axes>"
            ],
            "image/png": "[encoded data removed]"
          },
          "metadata": {
            "needs_background": "light"
          }
        },
        {
          "output_type": "display_data",
          "data": {
            "text/plain": [
              "<Figure size 432x288 with 1 Axes>"
            ],
            "image/png": "[encoded data removed]"
          },
          "metadata": {
            "needs_background": "light"
          }
        }
      ],
      "source": [
        "model_x.compile(optimizer = tensorflow.keras.optimizers.RMSprop(\n",
        "             learning_rate=learning_rate),\n",
        "              loss='binary_crossentropy', \n",
        "              metrics=['acc'])\n",
        "print(\"batch size : \" + str(n_batch_size))\n",
        "print(\"epochs : \" + str(n_epochs))\n",
        "FitAndPlot(model_x) "
      ]
    },
    {
      "cell_type": "markdown",
      "metadata": {
        "id": "C92IM3vmy_rf"
      },
      "source": [
        "Tried increasing the number of nuerons in the hidden layer from 64 to 128. It only increased the number of parameter and not the accuracy. It is also observed that after some epochs, the validation accuracy saturates so it would be good idea to early stop to avert excessive usage of compute resources.\n",
        "\n",
        "Also, tried the "
      ]
    },
    {
      "cell_type": "code",
      "execution_count": 39,
      "metadata": {
        "colab": {
          "base_uri": "https://localhost:8080/"
        },
        "id": "VuX0YKjUyPWe",
        "outputId": "cf82c0d7-862b-4dc1-93d0-a90a212c3d79"
      },
      "outputs": [
        {
          "output_type": "stream",
          "name": "stdout",
          "text": [
            "782/782 [==============================] - 6s 8ms/step - loss: 0.7117 - acc: 0.6638\n"
          ]
        },
        {
          "output_type": "execute_result",
          "data": {
            "text/plain": [
              "[0.7116975784301758, 0.6638399958610535]"
            ]
          },
          "metadata": {},
          "execution_count": 39
        }
      ],
      "source": [
        "model_x.evaluate(X_test,y_test)"
      ]
    },
    {
      "cell_type": "markdown",
      "metadata": {
        "id": "0HaVZmmhdOP6"
      },
      "source": [
        "## Train LSTM and GRU networks\n",
        "GRU (Gated Recurrent Unit) aims to solve the vanishing gradient problem which comes with a standard recurrent neural network. GRU can also be considered as a variation on the LSTM because both are designed similarly and, in some cases, produce equally excellent results.\n",
        "\n",
        "\n",
        "Build LSTM and GRU networks and compare their performance (accuracy and execution time) with the SimpleRNN. What is your conclusion?"
      ]
    },
    {
      "cell_type": "code",
      "execution_count": 40,
      "metadata": {
        "colab": {
          "base_uri": "https://localhost:8080/"
        },
        "id": "t4FDN0WcdOP6",
        "outputId": "3b5a6630-fb6a-4f31-e7d8-38d6fba0b97d"
      },
      "outputs": [
        {
          "output_type": "stream",
          "name": "stdout",
          "text": [
            "Model: \"sequential_9\"\n",
            "_________________________________________________________________\n",
            " Layer (type)                Output Shape              Param #   \n",
            "=================================================================\n",
            " embedding_9 (Embedding)     (None, 92, 50)            1000000   \n",
            "                                                                 \n",
            " lstm_1 (LSTM)               (None, 64)                29440     \n",
            "                                                                 \n",
            " dense_10 (Dense)            (None, 1)                 65        \n",
            "                                                                 \n",
            "=================================================================\n",
            "Total params: 1,029,505\n",
            "Trainable params: 1,029,505\n",
            "Non-trainable params: 0\n",
            "_________________________________________________________________\n"
          ]
        }
      ],
      "source": [
        "def build_model_lstm(max_features,embedding_dim, maxlen, n_count, reg):\n",
        "  model = Sequential()\n",
        "  model.add(Embedding(max_features,embedding_dim, input_length=maxlen))\n",
        "  model.add(LSTM(n_count,dropout=reg))\n",
        "  model.add(Dense(1, activation='sigmoid'))\n",
        "  return model\n",
        "reg = 0.5  \n",
        "lstm = build_model_lstm(vocabulary_size, embedding_dimension, max_length, n_count, reg)\n",
        "lstm.summary()"
      ]
    },
    {
      "cell_type": "code",
      "execution_count": 18,
      "metadata": {
        "colab": {
          "base_uri": "https://localhost:8080/",
          "height": 938
        },
        "id": "5sRGqC8WKayk",
        "outputId": "e64e678d-4bbf-4902-96dd-a168e421ce7b"
      },
      "outputs": [
        {
          "output_type": "stream",
          "name": "stdout",
          "text": [
            "batch size : 32\n",
            "epochs : 10\n",
            "Epoch 1/10\n",
            "625/625 [==============================] - 44s 67ms/step - loss: 0.6804 - acc: 0.5717 - val_loss: 0.6031 - val_acc: 0.6744\n",
            "Epoch 2/10\n",
            "625/625 [==============================] - 47s 75ms/step - loss: 0.5445 - acc: 0.7271 - val_loss: 0.4632 - val_acc: 0.7818\n",
            "Epoch 3/10\n",
            "625/625 [==============================] - 43s 69ms/step - loss: 0.4310 - acc: 0.8072 - val_loss: 0.4367 - val_acc: 0.8012\n",
            "Epoch 4/10\n",
            "625/625 [==============================] - 40s 64ms/step - loss: 0.3808 - acc: 0.8338 - val_loss: 0.3748 - val_acc: 0.8318\n",
            "Epoch 5/10\n",
            "625/625 [==============================] - 42s 67ms/step - loss: 0.3452 - acc: 0.8518 - val_loss: 0.3601 - val_acc: 0.8416\n",
            "Epoch 6/10\n",
            "625/625 [==============================] - 40s 64ms/step - loss: 0.3233 - acc: 0.8634 - val_loss: 0.3493 - val_acc: 0.8454\n",
            "Epoch 7/10\n",
            "625/625 [==============================] - 42s 67ms/step - loss: 0.3036 - acc: 0.8740 - val_loss: 0.3441 - val_acc: 0.8478\n",
            "Epoch 8/10\n",
            "625/625 [==============================] - 40s 64ms/step - loss: 0.2884 - acc: 0.8806 - val_loss: 0.3354 - val_acc: 0.8542\n",
            "Epoch 9/10\n",
            "625/625 [==============================] - 40s 64ms/step - loss: 0.2784 - acc: 0.8834 - val_loss: 0.3394 - val_acc: 0.8496\n",
            "Epoch 10/10\n",
            "625/625 [==============================] - 40s 63ms/step - loss: 0.2681 - acc: 0.8905 - val_loss: 0.3352 - val_acc: 0.8568\n"
          ]
        },
        {
          "output_type": "display_data",
          "data": {
            "text/plain": [
              "<Figure size 432x288 with 1 Axes>"
            ],
            "image/png": "[encoded data removed]"
          },
          "metadata": {
            "needs_background": "light"
          }
        },
        {
          "output_type": "display_data",
          "data": {
            "text/plain": [
              "<Figure size 432x288 with 1 Axes>"
            ],
            "image/png": "[encoded data removed]"
          },
          "metadata": {
            "needs_background": "light"
          }
        }
      ],
      "source": [
        "lstm.compile(optimizer = tensorflow.keras.optimizers.RMSprop(\n",
        "             learning_rate=learning_rate),\n",
        "              loss='binary_crossentropy', \n",
        "              metrics=['acc'])\n",
        "\n",
        "print(\"batch size : \" + str(n_batch_size))\n",
        "print(\"epochs : \" + str(n_epochs))\n",
        "FitAndPlot(lstm)"
      ]
    },
    {
      "cell_type": "code",
      "execution_count": 19,
      "metadata": {
        "colab": {
          "base_uri": "https://localhost:8080/"
        },
        "id": "Hz_hk0xs_b3q",
        "outputId": "0bec61b1-740c-4ebf-e600-75aa271ce567"
      },
      "outputs": [
        {
          "output_type": "stream",
          "name": "stdout",
          "text": [
            "782/782 [==============================] - 13s 17ms/step - loss: 0.3375 - acc: 0.8512\n"
          ]
        },
        {
          "output_type": "execute_result",
          "data": {
            "text/plain": [
              "[0.3374865651130676, 0.8511599898338318]"
            ]
          },
          "metadata": {},
          "execution_count": 19
        }
      ],
      "source": [
        "lstm.evaluate(X_test,y_test)"
      ]
    },
    {
      "cell_type": "code",
      "execution_count": 20,
      "metadata": {
        "colab": {
          "base_uri": "https://localhost:8080/"
        },
        "id": "OcK3M8EDgruY",
        "outputId": "712015e0-607e-4500-cee1-b28bf019541b"
      },
      "outputs": [
        {
          "output_type": "stream",
          "name": "stdout",
          "text": [
            "Model: \"sequential_4\"\n",
            "_________________________________________________________________\n",
            " Layer (type)                Output Shape              Param #   \n",
            "=================================================================\n",
            " embedding_4 (Embedding)     (None, 92, 50)            1000000   \n",
            "                                                                 \n",
            " gru (GRU)                   (None, 64)                22080     \n",
            "                                                                 \n",
            " dense_4 (Dense)             (None, 1)                 65        \n",
            "                                                                 \n",
            "=================================================================\n",
            "Total params: 1,022,145\n",
            "Trainable params: 1,022,145\n",
            "Non-trainable params: 0\n",
            "_________________________________________________________________\n"
          ]
        }
      ],
      "source": [
        "def build_model_gru(max_features,embedding_dim, maxlen, n_count, reg):\n",
        "  model = Sequential()\n",
        "  model.add(Embedding(max_features,embedding_dim, input_length=maxlen))\n",
        "  model.add(GRU(n_count, dropout=reg))\n",
        "  model.add(Dense(1, activation='sigmoid'))\n",
        "  return model\n",
        "\n",
        "reg = 0.5\n",
        "model_gru = build_model_gru(vocabulary_size, embedding_dimension, max_length, n_count, reg)  \n",
        "model_gru.summary()"
      ]
    },
    {
      "cell_type": "code",
      "execution_count": 21,
      "metadata": {
        "colab": {
          "base_uri": "https://localhost:8080/",
          "height": 938
        },
        "id": "DZk360MTKeNH",
        "outputId": "b7bdce40-953d-423e-a1c4-b39fb275bd03"
      },
      "outputs": [
        {
          "output_type": "stream",
          "name": "stdout",
          "text": [
            "batch size : 32\n",
            "epochs : 10\n",
            "Epoch 1/10\n",
            "625/625 [==============================] - 66s 102ms/step - loss: 0.6906 - acc: 0.5480 - val_loss: 0.6855 - val_acc: 0.6098\n",
            "Epoch 2/10\n",
            "625/625 [==============================] - 63s 101ms/step - loss: 0.5899 - acc: 0.6942 - val_loss: 0.4918 - val_acc: 0.7700\n",
            "Epoch 3/10\n",
            "625/625 [==============================] - 64s 103ms/step - loss: 0.4438 - acc: 0.7929 - val_loss: 0.4027 - val_acc: 0.8174\n",
            "Epoch 4/10\n",
            "625/625 [==============================] - 64s 103ms/step - loss: 0.3758 - acc: 0.8347 - val_loss: 0.3678 - val_acc: 0.8304\n",
            "Epoch 5/10\n",
            "625/625 [==============================] - 64s 103ms/step - loss: 0.3404 - acc: 0.8492 - val_loss: 0.3523 - val_acc: 0.8416\n",
            "Epoch 6/10\n",
            "625/625 [==============================] - 66s 106ms/step - loss: 0.3172 - acc: 0.8633 - val_loss: 0.3428 - val_acc: 0.8456\n",
            "Epoch 7/10\n",
            "625/625 [==============================] - 64s 103ms/step - loss: 0.3005 - acc: 0.8706 - val_loss: 0.3466 - val_acc: 0.8492\n",
            "Epoch 8/10\n",
            "625/625 [==============================] - 66s 105ms/step - loss: 0.2853 - acc: 0.8795 - val_loss: 0.3435 - val_acc: 0.8502\n",
            "Epoch 9/10\n",
            "625/625 [==============================] - 64s 103ms/step - loss: 0.2758 - acc: 0.8834 - val_loss: 0.3354 - val_acc: 0.8552\n",
            "Epoch 10/10\n",
            "625/625 [==============================] - 64s 103ms/step - loss: 0.2652 - acc: 0.8911 - val_loss: 0.3412 - val_acc: 0.8510\n"
          ]
        },
        {
          "output_type": "display_data",
          "data": {
            "text/plain": [
              "<Figure size 432x288 with 1 Axes>"
            ],
            "image/png": "[encoded data removed]"
          },
          "metadata": {
            "needs_background": "light"
          }
        },
        {
          "output_type": "display_data",
          "data": {
            "text/plain": [
              "<Figure size 432x288 with 1 Axes>"
            ],
            "image/png": "[encoded data removed]"
          },
          "metadata": {
            "needs_background": "light"
          }
        }
      ],
      "source": [
        "model_gru.compile(optimizer = tensorflow.keras.optimizers.RMSprop(\n",
        "             learning_rate=learning_rate),\n",
        "              loss='binary_crossentropy', \n",
        "              metrics=['acc'])\n",
        "\n",
        "print(\"batch size : \" + str(n_batch_size))\n",
        "print(\"epochs : \" + str(n_epochs))\n",
        "FitAndPlot(model_gru)"
      ]
    },
    {
      "cell_type": "code",
      "execution_count": 22,
      "metadata": {
        "colab": {
          "base_uri": "https://localhost:8080/"
        },
        "id": "rqvD9jn4_qxK",
        "outputId": "48b6ac34-2c68-485f-a0aa-b1b71bd12348"
      },
      "outputs": [
        {
          "output_type": "stream",
          "name": "stdout",
          "text": [
            "782/782 [==============================] - 13s 17ms/step - loss: 0.3371 - acc: 0.8526\n"
          ]
        },
        {
          "output_type": "execute_result",
          "data": {
            "text/plain": [
              "[0.3370715379714966, 0.8525599837303162]"
            ]
          },
          "metadata": {},
          "execution_count": 22
        }
      ],
      "source": [
        "model_gru.evaluate(X_test,y_test)"
      ]
    },
    {
      "cell_type": "code",
      "execution_count": 23,
      "metadata": {
        "colab": {
          "base_uri": "https://localhost:8080/"
        },
        "id": "yHo6Hrj0clxb",
        "outputId": "27dd9be8-e910-491f-cb8c-260f8b681263"
      },
      "outputs": [
        {
          "output_type": "stream",
          "name": "stdout",
          "text": [
            "Model: \"sequential_5\"\n",
            "_________________________________________________________________\n",
            " Layer (type)                Output Shape              Param #   \n",
            "=================================================================\n",
            " embedding_5 (Embedding)     (None, 92, 50)            1000000   \n",
            "                                                                 \n",
            " gru_1 (GRU)                 (None, 32)                7968      \n",
            "                                                                 \n",
            " dense_5 (Dense)             (None, 32)                1056      \n",
            "                                                                 \n",
            " dense_6 (Dense)             (None, 1)                 33        \n",
            "                                                                 \n",
            "=================================================================\n",
            "Total params: 1,009,057\n",
            "Trainable params: 1,009,057\n",
            "Non-trainable params: 0\n",
            "_________________________________________________________________\n"
          ]
        }
      ],
      "source": [
        "def build_model_gru1(max_features,embedding_dim, maxlen, n_count1, n_count2, reg):\n",
        "  model = Sequential()\n",
        "  model.add(Embedding(max_features,embedding_dim, input_length=maxlen))\n",
        "  model.add(GRU(n_count1, dropout=reg, recurrent_dropout=reg))\n",
        "  model.add(Dense(n_count2, activation='relu'))\n",
        "  model.add(Dense(1, activation='sigmoid'))\n",
        "  return model\n",
        "\n",
        "reg = 0.5\n",
        "n_count1 = 32\n",
        "n_count2 = 32\n",
        "model_gru_2 = build_model_gru1(vocabulary_size, embedding_dimension, max_length, n_count1, n_count2, reg)  \n",
        "model_gru_2.summary()"
      ]
    },
    {
      "cell_type": "code",
      "execution_count": null,
      "metadata": {
        "colab": {
          "base_uri": "https://localhost:8080/"
        },
        "id": "0MYntMmhdmEk",
        "outputId": "60eb6d88-361a-499a-995e-92ea76265294"
      },
      "outputs": [
        {
          "output_type": "stream",
          "name": "stdout",
          "text": [
            "batch size : 32\n",
            "epochs : 10\n",
            "Epoch 1/10\n",
            "625/625 [==============================] - 55s 84ms/step - loss: 0.6919 - acc: 0.5261 - val_loss: 0.6887 - val_acc: 0.5856\n",
            "Epoch 2/10\n",
            "396/625 [==================>...........] - ETA: 18s - loss: 0.6837 - acc: 0.5934"
          ]
        }
      ],
      "source": [
        "model_gru_2.compile(optimizer = tensorflow.keras.optimizers.RMSprop(\n",
        "             learning_rate=learning_rate),\n",
        "              loss='binary_crossentropy', \n",
        "              metrics=['acc'])\n",
        "\n",
        "print(\"batch size : \" + str(n_batch_size))\n",
        "print(\"epochs : \" + str(n_epochs))\n",
        "FitAndPlot(model_gru_2)"
      ]
    },
    {
      "cell_type": "code",
      "execution_count": null,
      "metadata": {
        "id": "i3J4g1pf_zhW"
      },
      "outputs": [],
      "source": [
        "model_gru_2.evaluate(X_test,y_test)"
      ]
    },
    {
      "cell_type": "markdown",
      "metadata": {
        "id": "ADh8aOpzPeY7"
      },
      "source": [
        "Summarizing:\n",
        "\n",
        "#Model with max length 30: \n",
        "train:\n",
        "Epoch 10/10\n",
        "625/625 [==============================] - 7s 11ms/step - loss: 0.5380 - acc: 0.7391 - val_loss: 0.7002 - val_acc: 0.5886\n",
        "test:\n",
        "782/782 [==============================] - 2s 3ms/step - loss: 0.7028 - acc: 0.5892\n",
        "[0.7028330564498901, 0.5891600251197815]\n",
        "\n",
        "\n",
        "#Model with max length 80:\n",
        "train:\n",
        "Epoch 10/10\n",
        "625/625 [==============================] - 13s 21ms/step - loss: 0.4281 - acc: 0.8542 - val_loss: 0.4736 - val_acc: 0.8010\n",
        "test:\n",
        "782/782 [==============================] - 4s 6ms/step - loss: 0.4894 - acc: 0.7839\n",
        "[0.4894128441810608, 0.7839199900627136]\n",
        "\n",
        "#Model with max length 92 and increased nueron count in hidden layer = 64:\n",
        "train:\n",
        "Epoch 10/10\n",
        "625/625 [==============================] - 17s 28ms/step - loss: 0.2240 - acc: 0.9143 - val_loss: 0.4490 - val_acc: 0.8196\n",
        "test:\n",
        "782/782 [==============================] - 6s 7ms/step - loss: 0.4554 - acc: 0.8172\n",
        "[0.4553954303264618, 0.8171600103378296]\n",
        "\n",
        "Test and Train Accuracy of the model increased by increasing the max length to 80. Accuracy further increased on increasing the max length to 92. Upon trying multiple runs, the outcome is not consistent. Overall RNN networks are fluctating for sentences of longer length and RNN might not be a suitable model for inputs with longer length.\n",
        "\n",
        "#LSTM networks with increased number of neurons = 64 \n",
        "train:\n",
        "Epoch 10/10\n",
        "625/625 [==============================] - 36s 58ms/step - loss: 0.2677 - acc: 0.8885 - val_loss: 0.3309 - val_acc: 0.8526\n",
        "\n",
        "seems to be doing a good job on both test and train\n",
        "test:\n",
        "782/782 [==============================] - 11s 14ms/step - loss: 0.3294 - acc: 0.8534\n",
        "[0.3293779790401459, 0.8533999919891357]\n",
        "\n",
        "#GRU network \n",
        "train:\n",
        "Epoch 10/10\n",
        "625/625 [==============================] - 60s 95ms/step - loss: 0.2711 - acc: 0.8876 - val_loss: 0.3313 - val_acc: 0.8570\n",
        "\n",
        "782/782 [==============================] - 12s 15ms/step - loss: 0.3302 - acc: 0.8559\n",
        "[0.3301633298397064, 0.8559200167655945]\n",
        "\n",
        "with increased number of neurons = 64 seems to be doing a good job on both test and train.\n",
        "\n",
        "# GRU network with dense layer\n",
        "Upon introdcing an extra dense layer with 32 nuerons, GRU networks gave a better performance.\n",
        "train:\n",
        "Epoch 10/10\n",
        "625/625 [==============================] - 47s 76ms/step - loss: 0.3145 - acc: 0.8726 - val_loss: 0.3394 - val_acc: 0.8526\n",
        "\n",
        "782/782 [==============================] - 10s 12ms/step - loss: 0.3380 - acc: 0.8530\n",
        "[0.3379809856414795, 0.8529999852180481]"
      ]
    }
  ],
  "metadata": {
    "colab": {
      "collapsed_sections": [],
      "name": "RNN_LSTM_GRU_IMDB_REVIEWS.ipynb",
      "provenance": []
    },
    "kernelspec": {
      "display_name": "Python 3 (ipykernel)",
      "language": "python",
      "name": "python3"
    },
    "language_info": {
      "codemirror_mode": {
        "name": "ipython",
        "version": 3
      },
      "file_extension": ".py",
      "mimetype": "text/x-python",
      "name": "python",
      "nbconvert_exporter": "python",
      "pygments_lexer": "ipython3",
      "version": "3.7.11"
    },
    "toc": {
      "base_numbering": 1,
      "nav_menu": {},
      "number_sections": true,
      "sideBar": true,
      "skip_h1_title": false,
      "title_cell": "Table of Contents",
      "title_sidebar": "Contents",
      "toc_cell": false,
      "toc_position": {},
      "toc_section_display": true,
      "toc_window_display": false
    },
    "varInspector": {
      "cols": {
        "lenName": 16,
        "lenType": 16,
        "lenVar": 40
      },
      "kernels_config": {
        "python": {
          "delete_cmd_postfix": "",
          "delete_cmd_prefix": "del ",
          "library": "var_list.py",
          "varRefreshCmd": "print(var_dic_list())"
        },
        "r": {
          "delete_cmd_postfix": ") ",
          "delete_cmd_prefix": "rm(",
          "library": "var_list.r",
          "varRefreshCmd": "cat(var_dic_list()) "
        }
      },
      "types_to_exclude": [
        "module",
        "function",
        "builtin_function_or_method",
        "instance",
        "_Feature"
      ],
      "window_display": true
    }
  },
  "nbformat": 4,
  "nbformat_minor": 0
}